{
  "nbformat": 4,
  "nbformat_minor": 0,
  "metadata": {
    "colab": {
      "name": " CITC_Task.ipynb",
      "provenance": [],
      "collapsed_sections": [],
      "include_colab_link": true
    },
    "kernelspec": {
      "name": "python3",
      "display_name": "Python 3"
    }
  },
  "cells": [
    {
      "cell_type": "markdown",
      "metadata": {
        "id": "view-in-github",
        "colab_type": "text"
      },
      "source": [
        "<a href=\"https://colab.research.google.com/github/HebahAlshamlan/CITC_Task/blob/master/CITC_Task.ipynb\" target=\"_parent\"><img src=\"https://colab.research.google.com/assets/colab-badge.svg\" alt=\"Open In Colab\"/></a>"
      ]
    },
    {
      "cell_type": "code",
      "metadata": {
        "id": "agscoRTl6gfm",
        "colab_type": "code",
        "colab": {
          "base_uri": "https://localhost:8080/",
          "height": 72
        },
        "outputId": "e485e34c-f906-4a97-8e1e-68c82e6b750e"
      },
      "source": [
        "import pandas as pd\n",
        "import matplotlib as plt\n",
        "import numpy as np\n",
        "import torch\n",
        "import torch.nn as nn\n",
        "import torch.optim as optim\n",
        "from torch.autograd import Variable\n",
        "import torch.nn.functional as F\n",
        "from sklearn.utils import shuffle\n",
        "from sklearn.impute import SimpleImputer\n",
        "import seaborn as sns\n",
        "import numpy as np\n",
        "import pandas as pd\n",
        "import matplotlib.pyplot as plt\n",
        "import seaborn as sns\n",
        "%matplotlib inline\n",
        " \n",
        "pd.set_option('max_colwidth',400)"
      ],
      "execution_count": null,
      "outputs": [
        {
          "output_type": "stream",
          "text": [
            "/usr/local/lib/python3.6/dist-packages/statsmodels/tools/_testing.py:19: FutureWarning: pandas.util.testing is deprecated. Use the functions in the public API at pandas.testing instead.\n",
            "  import pandas.util.testing as tm\n"
          ],
          "name": "stderr"
        }
      ]
    },
    {
      "cell_type": "code",
      "metadata": {
        "id": "vvDcpDcw8agO",
        "colab_type": "code",
        "colab": {
          "base_uri": "https://localhost:8080/",
          "height": 221
        },
        "outputId": "4768d7af-f891-4005-a69a-2d321a5e6185"
      },
      "source": [
        "dataset = pd.read_csv('cars.csv')\n",
        "print(dataset.shape)\n",
        "\n",
        "dataset.head()"
      ],
      "execution_count": null,
      "outputs": [
        {
          "output_type": "stream",
          "text": [
            "(301, 8)\n"
          ],
          "name": "stdout"
        },
        {
          "output_type": "execute_result",
          "data": {
            "text/html": [
              "<div>\n",
              "<style scoped>\n",
              "    .dataframe tbody tr th:only-of-type {\n",
              "        vertical-align: middle;\n",
              "    }\n",
              "\n",
              "    .dataframe tbody tr th {\n",
              "        vertical-align: top;\n",
              "    }\n",
              "\n",
              "    .dataframe thead th {\n",
              "        text-align: right;\n",
              "    }\n",
              "</style>\n",
              "<table border=\"1\" class=\"dataframe\">\n",
              "  <thead>\n",
              "    <tr style=\"text-align: right;\">\n",
              "      <th></th>\n",
              "      <th>car_name</th>\n",
              "      <th>year</th>\n",
              "      <th>mileage</th>\n",
              "      <th>fuel_type</th>\n",
              "      <th>seller_type</th>\n",
              "      <th>transmission_type</th>\n",
              "      <th>previous_owners</th>\n",
              "      <th>selling_price</th>\n",
              "    </tr>\n",
              "  </thead>\n",
              "  <tbody>\n",
              "    <tr>\n",
              "      <th>0</th>\n",
              "      <td>ritz</td>\n",
              "      <td>2014.0</td>\n",
              "      <td>27000</td>\n",
              "      <td>Petrol</td>\n",
              "      <td>Dealer</td>\n",
              "      <td>Manual</td>\n",
              "      <td>0</td>\n",
              "      <td>3.35</td>\n",
              "    </tr>\n",
              "    <tr>\n",
              "      <th>1</th>\n",
              "      <td>sx4</td>\n",
              "      <td>2013.0</td>\n",
              "      <td>43000</td>\n",
              "      <td>Diesel</td>\n",
              "      <td>Dealer</td>\n",
              "      <td>Manual</td>\n",
              "      <td>0</td>\n",
              "      <td>4.75</td>\n",
              "    </tr>\n",
              "    <tr>\n",
              "      <th>2</th>\n",
              "      <td>ciaz</td>\n",
              "      <td>2017.0</td>\n",
              "      <td>6900</td>\n",
              "      <td>Petrol</td>\n",
              "      <td>Dealer</td>\n",
              "      <td>Manual</td>\n",
              "      <td>0</td>\n",
              "      <td>7.25</td>\n",
              "    </tr>\n",
              "    <tr>\n",
              "      <th>3</th>\n",
              "      <td>wagon r</td>\n",
              "      <td>2011.0</td>\n",
              "      <td>5200</td>\n",
              "      <td>Petrol</td>\n",
              "      <td>Dealer</td>\n",
              "      <td>Manual</td>\n",
              "      <td>0</td>\n",
              "      <td>2.85</td>\n",
              "    </tr>\n",
              "    <tr>\n",
              "      <th>4</th>\n",
              "      <td>swift</td>\n",
              "      <td>2014.0</td>\n",
              "      <td>42450</td>\n",
              "      <td>Diesel</td>\n",
              "      <td>Dealer</td>\n",
              "      <td>Manual</td>\n",
              "      <td>0</td>\n",
              "      <td>4.60</td>\n",
              "    </tr>\n",
              "  </tbody>\n",
              "</table>\n",
              "</div>"
            ],
            "text/plain": [
              "  car_name    year  mileage  ... transmission_type previous_owners selling_price\n",
              "0     ritz  2014.0    27000  ...            Manual               0          3.35\n",
              "1      sx4  2013.0    43000  ...            Manual               0          4.75\n",
              "2     ciaz  2017.0     6900  ...            Manual               0          7.25\n",
              "3  wagon r  2011.0     5200  ...            Manual               0          2.85\n",
              "4    swift  2014.0    42450  ...            Manual               0          4.60\n",
              "\n",
              "[5 rows x 8 columns]"
            ]
          },
          "metadata": {
            "tags": []
          },
          "execution_count": 4
        }
      ]
    },
    {
      "cell_type": "code",
      "metadata": {
        "id": "X0vphNKJ_1QA",
        "colab_type": "code",
        "colab": {
          "base_uri": "https://localhost:8080/",
          "height": 174
        },
        "outputId": "1cf0f33b-5a92-43cf-f2ab-581983aedb29"
      },
      "source": [
        "dataset.dtypes\n"
      ],
      "execution_count": null,
      "outputs": [
        {
          "output_type": "execute_result",
          "data": {
            "text/plain": [
              "car_name              object\n",
              "year                 float64\n",
              "mileage                int64\n",
              "fuel_type             object\n",
              "seller_type           object\n",
              "transmission_type     object\n",
              "previous_owners        int64\n",
              "selling_price        float64\n",
              "dtype: object"
            ]
          },
          "metadata": {
            "tags": []
          },
          "execution_count": 5
        }
      ]
    },
    {
      "cell_type": "code",
      "metadata": {
        "id": "TNO7Bae8-tPF",
        "colab_type": "code",
        "colab": {
          "base_uri": "https://localhost:8080/",
          "height": 34
        },
        "outputId": "4d771fd7-0b16-4152-8798-957eb42f60c8"
      },
      "source": [
        "# Find what the duplicate were\n",
        "dataset.drop_duplicates(subset=None, inplace=True)\n",
        "dataset.shape"
      ],
      "execution_count": null,
      "outputs": [
        {
          "output_type": "execute_result",
          "data": {
            "text/plain": [
              "(299, 8)"
            ]
          },
          "metadata": {
            "tags": []
          },
          "execution_count": 6
        }
      ]
    },
    {
      "cell_type": "markdown",
      "metadata": {
        "id": "YdK0FaA_F_5O",
        "colab_type": "text"
      },
      "source": [
        "Exploratory Data Analysis"
      ]
    },
    {
      "cell_type": "code",
      "metadata": {
        "id": "5ufxB4WVCcSM",
        "colab_type": "code",
        "colab": {
          "base_uri": "https://localhost:8080/",
          "height": 87
        },
        "outputId": "a471ff75-243c-44ca-d790-447e63525d7e"
      },
      "source": [
        "print(dataset.selling_price.mean())\n",
        "print(dataset.selling_price.median()) # There is NO big difference between mean and median which indicates no outliers.\n",
        "print(dataset.selling_price.max())\n",
        "print(dataset.selling_price.min())"
      ],
      "execution_count": null,
      "outputs": [
        {
          "output_type": "stream",
          "text": [
            "4.57063758389262\n",
            "3.505\n",
            "35.0\n",
            "0.1\n"
          ],
          "name": "stdout"
        }
      ]
    },
    {
      "cell_type": "code",
      "metadata": {
        "id": "EeI6gZ94CujS",
        "colab_type": "code",
        "colab": {
          "base_uri": "https://localhost:8080/",
          "height": 227
        },
        "outputId": "c3f91a7e-ed83-4e03-d068-2cd06cdc46bb"
      },
      "source": [
        "dataset.selling_price.sort_values(ascending=False)"
      ],
      "execution_count": null,
      "outputs": [
        {
          "output_type": "execute_result",
          "data": {
            "text/plain": [
              "86     35.00\n",
              "64     33.00\n",
              "63     23.50\n",
              "82     23.00\n",
              "51     23.00\n",
              "       ...  \n",
              "197     0.16\n",
              "198     0.15\n",
              "199     0.12\n",
              "200     0.10\n",
              "256      NaN\n",
              "Name: selling_price, Length: 299, dtype: float64"
            ]
          },
          "metadata": {
            "tags": []
          },
          "execution_count": 8
        }
      ]
    },
    {
      "cell_type": "code",
      "metadata": {
        "id": "imgtL6ACK9G0",
        "colab_type": "code",
        "colab": {
          "base_uri": "https://localhost:8080/",
          "height": 104
        },
        "outputId": "6cbdbf57-05db-4fd8-dba5-9a8bb2bb1ef6"
      },
      "source": [
        "print(dataset.selling_price.mean())\n",
        "print(dataset.selling_price.median())\n",
        "dataset.selling_price.mode()\n"
      ],
      "execution_count": null,
      "outputs": [
        {
          "output_type": "stream",
          "text": [
            "4.57063758389262\n",
            "3.505\n"
          ],
          "name": "stdout"
        },
        {
          "output_type": "execute_result",
          "data": {
            "text/plain": [
              "0    0.45\n",
              "1    0.60\n",
              "dtype: float64"
            ]
          },
          "metadata": {
            "tags": []
          },
          "execution_count": 9
        }
      ]
    },
    {
      "cell_type": "code",
      "metadata": {
        "id": "Qh3zT3xPRGH6",
        "colab_type": "code",
        "colab": {}
      },
      "source": [
        "sns.set(style='darkgrid') # style must be one of white, dark, whitegrid, darkgrid, ticks"
      ],
      "execution_count": null,
      "outputs": []
    },
    {
      "cell_type": "code",
      "metadata": {
        "id": "zQ9uCY3-RMG5",
        "colab_type": "code",
        "colab": {
          "base_uri": "https://localhost:8080/",
          "height": 592
        },
        "outputId": "8f00e6a9-8271-4f4e-fa20-f83e7dd2db1d"
      },
      "source": [
        "plt.figure(figsize=(8,10))\n",
        "sns.boxplot(y='selling_price', data=dataset, width=0.5)"
      ],
      "execution_count": null,
      "outputs": [
        {
          "output_type": "execute_result",
          "data": {
            "text/plain": [
              "<matplotlib.axes._subplots.AxesSubplot at 0x7f925020cef0>"
            ]
          },
          "metadata": {
            "tags": []
          },
          "execution_count": 11
        },
        {
          "output_type": "display_data",
          "data": {
            "image/png": "[encoded data removed]",
            "text/plain": [
              "<Figure size 576x720 with 1 Axes>"
            ]
          },
          "metadata": {
            "tags": []
          }
        }
      ]
    },
    {
      "cell_type": "code",
      "metadata": {
        "id": "fOS1IQjURaNZ",
        "colab_type": "code",
        "colab": {
          "base_uri": "https://localhost:8080/",
          "height": 427
        },
        "outputId": "687127f0-d355-4dc0-9c2a-f78fd810fed8"
      },
      "source": [
        "x = dataset.selling_price\n",
        "plt.figure(figsize=(10,6))\n",
        "sns.distplot(x).set_title('Frequency Distribution Plot of Prices')"
      ],
      "execution_count": null,
      "outputs": [
        {
          "output_type": "execute_result",
          "data": {
            "text/plain": [
              "Text(0.5, 1.0, 'Frequency Distribution Plot of Prices')"
            ]
          },
          "metadata": {
            "tags": []
          },
          "execution_count": 12
        },
        {
          "output_type": "display_data",
          "data": {
            "image/png": "[encoded data removed]",
            "text/plain": [
              "<Figure size 720x432 with 1 Axes>"
            ]
          },
          "metadata": {
            "tags": []
          }
        }
      ]
    },
    {
      "cell_type": "code",
      "metadata": {
        "id": "xlaL6Fks3QaP",
        "colab_type": "code",
        "colab": {}
      },
      "source": [
        "dataset = dataset[dataset.selling_price <= 30.00 ]"
      ],
      "execution_count": null,
      "outputs": []
    },
    {
      "cell_type": "code",
      "metadata": {
        "id": "B1RMIU8P5DdX",
        "colab_type": "code",
        "colab": {
          "base_uri": "https://localhost:8080/",
          "height": 594
        },
        "outputId": "da09cd74-f1a8-4394-9050-7776f4042838"
      },
      "source": [
        "plt.figure(figsize=(8,10))\n",
        "sns.boxplot(y='selling_price', data=dataset, width=0.5)"
      ],
      "execution_count": null,
      "outputs": [
        {
          "output_type": "execute_result",
          "data": {
            "text/plain": [
              "<matplotlib.axes._subplots.AxesSubplot at 0x7f46349cfcf8>"
            ]
          },
          "metadata": {
            "tags": []
          },
          "execution_count": 12
        },
        {
          "output_type": "display_data",
          "data": {
            "image/png": "[encoded data removed]",
            "text/plain": [
              "<Figure size 576x720 with 1 Axes>"
            ]
          },
          "metadata": {
            "tags": []
          }
        }
      ]
    },
    {
      "cell_type": "markdown",
      "metadata": {
        "id": "aEiBWxK9Hdl6",
        "colab_type": "text"
      },
      "source": [
        "Missing values\n"
      ]
    },
    {
      "cell_type": "code",
      "metadata": {
        "id": "_q12-f5LGQ1t",
        "colab_type": "code",
        "colab": {
          "base_uri": "https://localhost:8080/",
          "height": 187
        },
        "outputId": "4ffd6f50-64cf-4533-835b-bf9fffecbea4"
      },
      "source": [
        "dataset.isna().any()\n",
        "dataset.isna().sum()"
      ],
      "execution_count": null,
      "outputs": [
        {
          "output_type": "execute_result",
          "data": {
            "text/plain": [
              "car_name             1\n",
              "year                 2\n",
              "mileage              0\n",
              "fuel_type            0\n",
              "seller_type          0\n",
              "transmission_type    0\n",
              "previous_owners      0\n",
              "selling_price        0\n",
              "dtype: int64"
            ]
          },
          "metadata": {
            "tags": []
          },
          "execution_count": 13
        }
      ]
    },
    {
      "cell_type": "code",
      "metadata": {
        "id": "-e-QxK3GHKRs",
        "colab_type": "code",
        "colab": {}
      },
      "source": [
        "dataset = dataset.dropna(subset=['car_name'])"
      ],
      "execution_count": null,
      "outputs": []
    },
    {
      "cell_type": "code",
      "metadata": {
        "id": "DcLVggRp5P_J",
        "colab_type": "code",
        "colab": {}
      },
      "source": [
        "# DONT RUN THIS\n",
        "datayear = dataset.selling_price\n",
        "# datayear = dataset.mileage\n",
        "test = datayear.iloc[-1:]       # sliced it here\n",
        "test2d = test.values.reshape(1,-1)\n"
      ],
      "execution_count": null,
      "outputs": []
    },
    {
      "cell_type": "code",
      "metadata": {
        "id": "6jYlfNiJtbPk",
        "colab_type": "code",
        "colab": {}
      },
      "source": [
        "dataset.fillna(dataset['year'].mode()[0], inplace=True)"
      ],
      "execution_count": null,
      "outputs": []
    },
    {
      "cell_type": "code",
      "metadata": {
        "id": "o6eAZufKSqFi",
        "colab_type": "code",
        "colab": {}
      },
      "source": [
        "# Convert data to binery\n",
        "dataset = dataset.replace('Petrol','1',regex=True)\n",
        "dataset = dataset.replace('Diesel','0',regex=True)\n",
        "dataset = dataset.replace('Dealer','1',regex=True)\n",
        "dataset = dataset.replace('Individual','0',regex=True)\n",
        "dataset = dataset.replace('Automatic','1',regex=True)\n",
        "dataset = dataset.replace('Manual','0',regex=True)\n",
        "dataset = dataset.replace('CNG','3',regex=True)\n",
        "dataset[\"seller_type\"] = pd.to_numeric(dataset[\"seller_type\"], downcast=\"float\")\n",
        "dataset[\"previous_owners\"] = pd.to_numeric(dataset[\"previous_owners\"], downcast=\"float\")\n",
        "dataset[\"fuel_type\"] = pd.to_numeric(dataset[\"fuel_type\"], downcast=\"float\")\n",
        "dataset[\"transmission_type\"] = pd.to_numeric(dataset[\"transmission_type\"], downcast=\"float\")\n"
      ],
      "execution_count": null,
      "outputs": []
    },
    {
      "cell_type": "code",
      "metadata": {
        "id": "hRXUWPSB89he",
        "colab_type": "code",
        "colab": {
          "base_uri": "https://localhost:8080/",
          "height": 545
        },
        "outputId": "896d0d6a-a79e-4114-d685-70c041a66958"
      },
      "source": [
        "dataset['car_name'].unique()"
      ],
      "execution_count": null,
      "outputs": [
        {
          "output_type": "execute_result",
          "data": {
            "text/plain": [
              "array(['ritz', 'sx4', 'ciaz', 'wagon r', 'swift', 'vitara brezza',\n",
              "       's cross', 'alto 800', 'ertiga', 'dzire', 'alto k10', 'ignis',\n",
              "       '800', 'baleno', 'omni', 'fortuner', 'innova', 'corolla altis',\n",
              "       'etios cross', 'etios g', 'etios liva', 'corolla', 'etios gd',\n",
              "       'camry', 'Royal Enfield Thunder 500', 'UM Renegade Mojave',\n",
              "       'KTM RC200', 'Bajaj Dominar 400', 'Royal Enfield Classic 350',\n",
              "       'KTM RC390', 'Hyosung GT250R', 'Royal Enfield Thunder 350',\n",
              "       'KTM 390 Duke ', 'Mahindra Mojo XT300', 'Bajaj Pulsar RS200',\n",
              "       'Royal Enfield Bullet 350', 'Royal Enfield Classic 500',\n",
              "       'Bajaj Avenger 220', 'Bajaj Avenger 150', 'Honda CB Hornet 160R',\n",
              "       'Yamaha FZ S V 2.0', 'Yamaha FZ 16', 'TVS Apache RTR 160',\n",
              "       'Bajaj Pulsar 150', 'Honda CBR 150', 'Hero Extreme',\n",
              "       'Bajaj Avenger 220 dtsi', 'Bajaj Avenger 150 street',\n",
              "       'Yamaha FZ  v 2.0', 'Bajaj Pulsar  NS 200', 'Bajaj Pulsar 220 F',\n",
              "       'TVS Apache RTR 180', 'Hero Passion X pro', 'Bajaj Pulsar NS 200',\n",
              "       'Yamaha Fazer ', 'Honda Activa 4G', 'TVS Sport ',\n",
              "       'Honda Dream Yuga ', 'Bajaj Avenger Street 220',\n",
              "       'Hero Splender iSmart', 'Activa 3g', 'Hero Passion Pro',\n",
              "       'Honda CB Trigger', 'Yamaha FZ S ', 'Bajaj Pulsar 135 LS',\n",
              "       'Activa 4g', 'Honda CB Unicorn', 'Hero Honda CBZ extreme',\n",
              "       'Honda Karizma', 'Honda Activa 125', 'TVS Jupyter',\n",
              "       'Hero Honda Passion Pro', 'Hero Splender Plus', 'Honda CB Shine',\n",
              "       'Bajaj Discover 100', 'Suzuki Access 125', 'TVS Wego',\n",
              "       'Honda CB twister', 'Hero Glamour', 'Hero Super Splendor',\n",
              "       'Bajaj Discover 125', 'Hero Hunk', 'Hero  Ignitor Disc',\n",
              "       'Hero  CBZ Xtreme', 'Bajaj  ct 100', 'grand i10', 'i10', 'eon',\n",
              "       'xcent', 'i20', 'elantra', 'creta', 'verna', 'city', 'brio',\n",
              "       'amaze', 'jazz'], dtype=object)"
            ]
          },
          "metadata": {
            "tags": []
          },
          "execution_count": 33
        }
      ]
    },
    {
      "cell_type": "code",
      "metadata": {
        "id": "E3LkTaF5eJxi",
        "colab_type": "code",
        "colab": {
          "base_uri": "https://localhost:8080/",
          "height": 291
        },
        "outputId": "95263299-8184-41a7-dd78-da7a4b7061c3"
      },
      "source": [
        "dataset.convert_objects(convert_numeric=True)"
      ],
      "execution_count": null,
      "outputs": [
        {
          "output_type": "error",
          "ename": "AttributeError",
          "evalue": "ignored",
          "traceback": [
            "\u001b[0;31m---------------------------------------------------------------------------\u001b[0m",
            "\u001b[0;31mAttributeError\u001b[0m                            Traceback (most recent call last)",
            "\u001b[0;32m<ipython-input-64-4dfd3b5f9c7e>\u001b[0m in \u001b[0;36m<module>\u001b[0;34m()\u001b[0m\n\u001b[0;32m----> 1\u001b[0;31m \u001b[0mdataset\u001b[0m\u001b[0;34m.\u001b[0m\u001b[0mconvert_objects\u001b[0m\u001b[0;34m(\u001b[0m\u001b[0mconvert_numeric\u001b[0m\u001b[0;34m=\u001b[0m\u001b[0;32mTrue\u001b[0m\u001b[0;34m)\u001b[0m\u001b[0;34m\u001b[0m\u001b[0;34m\u001b[0m\u001b[0m\n\u001b[0m",
            "\u001b[0;32m/usr/local/lib/python3.6/dist-packages/pandas/core/generic.py\u001b[0m in \u001b[0;36m__getattr__\u001b[0;34m(self, name)\u001b[0m\n\u001b[1;32m   5272\u001b[0m             \u001b[0;32mif\u001b[0m \u001b[0mself\u001b[0m\u001b[0;34m.\u001b[0m\u001b[0m_info_axis\u001b[0m\u001b[0;34m.\u001b[0m\u001b[0m_can_hold_identifiers_and_holds_name\u001b[0m\u001b[0;34m(\u001b[0m\u001b[0mname\u001b[0m\u001b[0;34m)\u001b[0m\u001b[0;34m:\u001b[0m\u001b[0;34m\u001b[0m\u001b[0;34m\u001b[0m\u001b[0m\n\u001b[1;32m   5273\u001b[0m                 \u001b[0;32mreturn\u001b[0m \u001b[0mself\u001b[0m\u001b[0;34m[\u001b[0m\u001b[0mname\u001b[0m\u001b[0;34m]\u001b[0m\u001b[0;34m\u001b[0m\u001b[0;34m\u001b[0m\u001b[0m\n\u001b[0;32m-> 5274\u001b[0;31m             \u001b[0;32mreturn\u001b[0m \u001b[0mobject\u001b[0m\u001b[0;34m.\u001b[0m\u001b[0m__getattribute__\u001b[0m\u001b[0;34m(\u001b[0m\u001b[0mself\u001b[0m\u001b[0;34m,\u001b[0m \u001b[0mname\u001b[0m\u001b[0;34m)\u001b[0m\u001b[0;34m\u001b[0m\u001b[0;34m\u001b[0m\u001b[0m\n\u001b[0m\u001b[1;32m   5275\u001b[0m \u001b[0;34m\u001b[0m\u001b[0m\n\u001b[1;32m   5276\u001b[0m     \u001b[0;32mdef\u001b[0m \u001b[0m__setattr__\u001b[0m\u001b[0;34m(\u001b[0m\u001b[0mself\u001b[0m\u001b[0;34m,\u001b[0m \u001b[0mname\u001b[0m\u001b[0;34m:\u001b[0m \u001b[0mstr\u001b[0m\u001b[0;34m,\u001b[0m \u001b[0mvalue\u001b[0m\u001b[0;34m)\u001b[0m \u001b[0;34m->\u001b[0m \u001b[0;32mNone\u001b[0m\u001b[0;34m:\u001b[0m\u001b[0;34m\u001b[0m\u001b[0;34m\u001b[0m\u001b[0m\n",
            "\u001b[0;31mAttributeError\u001b[0m: 'DataFrame' object has no attribute 'convert_objects'"
          ]
        }
      ]
    },
    {
      "cell_type": "code",
      "metadata": {
        "id": "1kPLpKg3WDLi",
        "colab_type": "code",
        "colab": {
          "base_uri": "https://localhost:8080/",
          "height": 204
        },
        "outputId": "f555a8b1-99e3-4ba3-8c2a-9a562c3d5d9d"
      },
      "source": [
        "dataset.head()"
      ],
      "execution_count": null,
      "outputs": [
        {
          "output_type": "execute_result",
          "data": {
            "text/html": [
              "<div>\n",
              "<style scoped>\n",
              "    .dataframe tbody tr th:only-of-type {\n",
              "        vertical-align: middle;\n",
              "    }\n",
              "\n",
              "    .dataframe tbody tr th {\n",
              "        vertical-align: top;\n",
              "    }\n",
              "\n",
              "    .dataframe thead th {\n",
              "        text-align: right;\n",
              "    }\n",
              "</style>\n",
              "<table border=\"1\" class=\"dataframe\">\n",
              "  <thead>\n",
              "    <tr style=\"text-align: right;\">\n",
              "      <th></th>\n",
              "      <th>car_name</th>\n",
              "      <th>year</th>\n",
              "      <th>mileage</th>\n",
              "      <th>fuel_type</th>\n",
              "      <th>seller_type</th>\n",
              "      <th>transmission_type</th>\n",
              "      <th>previous_owners</th>\n",
              "      <th>selling_price</th>\n",
              "      <th>age</th>\n",
              "    </tr>\n",
              "  </thead>\n",
              "  <tbody>\n",
              "    <tr>\n",
              "      <th>0</th>\n",
              "      <td>ritz</td>\n",
              "      <td>2014.0</td>\n",
              "      <td>27000</td>\n",
              "      <td>1</td>\n",
              "      <td>1</td>\n",
              "      <td>0</td>\n",
              "      <td>0</td>\n",
              "      <td>3.35</td>\n",
              "      <td>6.0</td>\n",
              "    </tr>\n",
              "    <tr>\n",
              "      <th>1</th>\n",
              "      <td>sx4</td>\n",
              "      <td>2013.0</td>\n",
              "      <td>43000</td>\n",
              "      <td>0</td>\n",
              "      <td>1</td>\n",
              "      <td>0</td>\n",
              "      <td>0</td>\n",
              "      <td>4.75</td>\n",
              "      <td>7.0</td>\n",
              "    </tr>\n",
              "    <tr>\n",
              "      <th>2</th>\n",
              "      <td>ciaz</td>\n",
              "      <td>2017.0</td>\n",
              "      <td>6900</td>\n",
              "      <td>1</td>\n",
              "      <td>1</td>\n",
              "      <td>0</td>\n",
              "      <td>0</td>\n",
              "      <td>7.25</td>\n",
              "      <td>3.0</td>\n",
              "    </tr>\n",
              "    <tr>\n",
              "      <th>3</th>\n",
              "      <td>wagon r</td>\n",
              "      <td>2011.0</td>\n",
              "      <td>5200</td>\n",
              "      <td>1</td>\n",
              "      <td>1</td>\n",
              "      <td>0</td>\n",
              "      <td>0</td>\n",
              "      <td>2.85</td>\n",
              "      <td>9.0</td>\n",
              "    </tr>\n",
              "    <tr>\n",
              "      <th>4</th>\n",
              "      <td>swift</td>\n",
              "      <td>2014.0</td>\n",
              "      <td>42450</td>\n",
              "      <td>0</td>\n",
              "      <td>1</td>\n",
              "      <td>0</td>\n",
              "      <td>0</td>\n",
              "      <td>4.60</td>\n",
              "      <td>6.0</td>\n",
              "    </tr>\n",
              "  </tbody>\n",
              "</table>\n",
              "</div>"
            ],
            "text/plain": [
              "  car_name    year  mileage  ... previous_owners selling_price  age\n",
              "0     ritz  2014.0    27000  ...               0          3.35  6.0\n",
              "1      sx4  2013.0    43000  ...               0          4.75  7.0\n",
              "2     ciaz  2017.0     6900  ...               0          7.25  3.0\n",
              "3  wagon r  2011.0     5200  ...               0          2.85  9.0\n",
              "4    swift  2014.0    42450  ...               0          4.60  6.0\n",
              "\n",
              "[5 rows x 9 columns]"
            ]
          },
          "metadata": {
            "tags": []
          },
          "execution_count": 51
        }
      ]
    },
    {
      "cell_type": "markdown",
      "metadata": {
        "id": "MqcrZdW5pXc-",
        "colab_type": "text"
      },
      "source": [
        "Year"
      ]
    },
    {
      "cell_type": "code",
      "metadata": {
        "id": "Q4NdQj6PpYgv",
        "colab_type": "code",
        "colab": {
          "base_uri": "https://localhost:8080/",
          "height": 314
        },
        "outputId": "11c5d46d-a573-4ceb-8f96-d44841a00628"
      },
      "source": [
        "dataset.year.value_counts() #The age of the car definitely effects the prices. However, instead of the model year of the car, it makes more sense to use is as age. So I will substiture 'year' column from current year."
      ],
      "execution_count": null,
      "outputs": [
        {
          "output_type": "execute_result",
          "data": {
            "text/plain": [
              "2015.0    62\n",
              "2016.0    47\n",
              "2014.0    38\n",
              "2013.0    33\n",
              "2017.0    33\n",
              "2012.0    23\n",
              "2011.0    19\n",
              "2010.0    13\n",
              "2008.0     7\n",
              "2009.0     6\n",
              "2005.0     4\n",
              "2006.0     4\n",
              "2003.0     2\n",
              "2007.0     2\n",
              "2004.0     1\n",
              "2018.0     1\n",
              "Name: year, dtype: int64"
            ]
          },
          "metadata": {
            "tags": []
          },
          "execution_count": 22
        }
      ]
    },
    {
      "cell_type": "code",
      "metadata": {
        "id": "kY96-wqVp3-O",
        "colab_type": "code",
        "colab": {
          "base_uri": "https://localhost:8080/",
          "height": 206
        },
        "outputId": "5bd547d8-f1ab-4fc2-ee7b-0e1c52173308"
      },
      "source": [
        "dataset['age'] = 2020 - dataset['year']\n",
        "dataset.head()"
      ],
      "execution_count": null,
      "outputs": [
        {
          "output_type": "execute_result",
          "data": {
            "text/html": [
              "<div>\n",
              "<style scoped>\n",
              "    .dataframe tbody tr th:only-of-type {\n",
              "        vertical-align: middle;\n",
              "    }\n",
              "\n",
              "    .dataframe tbody tr th {\n",
              "        vertical-align: top;\n",
              "    }\n",
              "\n",
              "    .dataframe thead th {\n",
              "        text-align: right;\n",
              "    }\n",
              "</style>\n",
              "<table border=\"1\" class=\"dataframe\">\n",
              "  <thead>\n",
              "    <tr style=\"text-align: right;\">\n",
              "      <th></th>\n",
              "      <th>car_name</th>\n",
              "      <th>year</th>\n",
              "      <th>mileage</th>\n",
              "      <th>fuel_type</th>\n",
              "      <th>seller_type</th>\n",
              "      <th>transmission_type</th>\n",
              "      <th>previous_owners</th>\n",
              "      <th>selling_price</th>\n",
              "      <th>age</th>\n",
              "    </tr>\n",
              "  </thead>\n",
              "  <tbody>\n",
              "    <tr>\n",
              "      <th>0</th>\n",
              "      <td>ritz</td>\n",
              "      <td>2014.0</td>\n",
              "      <td>27000</td>\n",
              "      <td>1.0</td>\n",
              "      <td>1.0</td>\n",
              "      <td>0.0</td>\n",
              "      <td>0.0</td>\n",
              "      <td>3.35</td>\n",
              "      <td>6.0</td>\n",
              "    </tr>\n",
              "    <tr>\n",
              "      <th>1</th>\n",
              "      <td>sx4</td>\n",
              "      <td>2013.0</td>\n",
              "      <td>43000</td>\n",
              "      <td>0.0</td>\n",
              "      <td>1.0</td>\n",
              "      <td>0.0</td>\n",
              "      <td>0.0</td>\n",
              "      <td>4.75</td>\n",
              "      <td>7.0</td>\n",
              "    </tr>\n",
              "    <tr>\n",
              "      <th>2</th>\n",
              "      <td>ciaz</td>\n",
              "      <td>2017.0</td>\n",
              "      <td>6900</td>\n",
              "      <td>1.0</td>\n",
              "      <td>1.0</td>\n",
              "      <td>0.0</td>\n",
              "      <td>0.0</td>\n",
              "      <td>7.25</td>\n",
              "      <td>3.0</td>\n",
              "    </tr>\n",
              "    <tr>\n",
              "      <th>3</th>\n",
              "      <td>wagon r</td>\n",
              "      <td>2011.0</td>\n",
              "      <td>5200</td>\n",
              "      <td>1.0</td>\n",
              "      <td>1.0</td>\n",
              "      <td>0.0</td>\n",
              "      <td>0.0</td>\n",
              "      <td>2.85</td>\n",
              "      <td>9.0</td>\n",
              "    </tr>\n",
              "    <tr>\n",
              "      <th>4</th>\n",
              "      <td>swift</td>\n",
              "      <td>2014.0</td>\n",
              "      <td>42450</td>\n",
              "      <td>0.0</td>\n",
              "      <td>1.0</td>\n",
              "      <td>0.0</td>\n",
              "      <td>0.0</td>\n",
              "      <td>4.60</td>\n",
              "      <td>6.0</td>\n",
              "    </tr>\n",
              "  </tbody>\n",
              "</table>\n",
              "</div>"
            ],
            "text/plain": [
              "  car_name    year  mileage  ...  previous_owners  selling_price  age\n",
              "0     ritz  2014.0    27000  ...              0.0           3.35  6.0\n",
              "1      sx4  2013.0    43000  ...              0.0           4.75  7.0\n",
              "2     ciaz  2017.0     6900  ...              0.0           7.25  3.0\n",
              "3  wagon r  2011.0     5200  ...              0.0           2.85  9.0\n",
              "4    swift  2014.0    42450  ...              0.0           4.60  6.0\n",
              "\n",
              "[5 rows x 9 columns]"
            ]
          },
          "metadata": {
            "tags": []
          },
          "execution_count": 22
        }
      ]
    },
    {
      "cell_type": "code",
      "metadata": {
        "id": "MYJ4NR75qPd5",
        "colab_type": "code",
        "colab": {
          "base_uri": "https://localhost:8080/",
          "height": 427
        },
        "outputId": "19256a31-e7b4-44e7-b5cd-ae576e0c7f63"
      },
      "source": [
        "a = dataset.age\n",
        "plt.figure(figsize=(10,6))\n",
        "sns.distplot(a).set_title('Frequency Distribution Plot of Age of the Cars')"
      ],
      "execution_count": null,
      "outputs": [
        {
          "output_type": "execute_result",
          "data": {
            "text/plain": [
              "Text(0.5, 1.0, 'Frequency Distribution Plot of Age of the Cars')"
            ]
          },
          "metadata": {
            "tags": []
          },
          "execution_count": 24
        },
        {
          "output_type": "display_data",
          "data": {
            "image/png": "[encoded data removed]",
            "text/plain": [
              "<Figure size 720x432 with 1 Axes>"
            ]
          },
          "metadata": {
            "tags": []
          }
        }
      ]
    },
    {
      "cell_type": "markdown",
      "metadata": {
        "id": "h4ok_Au6qY-g",
        "colab_type": "text"
      },
      "source": [
        "mileage"
      ]
    },
    {
      "cell_type": "code",
      "metadata": {
        "id": "GngaOh_Cqaj9",
        "colab_type": "code",
        "colab": {
          "base_uri": "https://localhost:8080/",
          "height": 52
        },
        "outputId": "6766fa26-22b2-4ce1-e4ba-62a6edd37a64"
      },
      "source": [
        "print(dataset.mileage.mean())\n",
        "print(dataset.mileage.median())"
      ],
      "execution_count": null,
      "outputs": [
        {
          "output_type": "stream",
          "text": [
            "36767.95593220339\n",
            "31604.0\n"
          ],
          "name": "stdout"
        }
      ]
    },
    {
      "cell_type": "code",
      "metadata": {
        "id": "b3NlYP33qn0l",
        "colab_type": "code",
        "colab": {
          "base_uri": "https://localhost:8080/",
          "height": 427
        },
        "outputId": "40de0255-9ebe-4171-9fbf-62527024ecfc"
      },
      "source": [
        "k = dataset.mileage\n",
        "plt.figure(figsize=(10,6))\n",
        "sns.distplot(k).set_title('Frequency Distribution Plot of Km')"
      ],
      "execution_count": null,
      "outputs": [
        {
          "output_type": "execute_result",
          "data": {
            "text/plain": [
              "Text(0.5, 1.0, 'Frequency Distribution Plot of Km')"
            ]
          },
          "metadata": {
            "tags": []
          },
          "execution_count": 26
        },
        {
          "output_type": "display_data",
          "data": {
            "image/png": "[encoded data removed]",
            "text/plain": [
              "<Figure size 720x432 with 1 Axes>"
            ]
          },
          "metadata": {
            "tags": []
          }
        }
      ]
    },
    {
      "cell_type": "markdown",
      "metadata": {
        "id": "W-5J7PnEq_0c",
        "colab_type": "text"
      },
      "source": [
        "Car name"
      ]
    },
    {
      "cell_type": "code",
      "metadata": {
        "id": "CoSNBALerBRL",
        "colab_type": "code",
        "colab": {
          "base_uri": "https://localhost:8080/",
          "height": 36
        },
        "outputId": "b13f1230-0dd4-44f7-e2bc-be156c1b0d67"
      },
      "source": [
        "!conda install -c https://conda.anaconda.org/conda-forge wordcloud --yes\n",
        "# !conda install --channel conda-forge featuretools --yes\n"
      ],
      "execution_count": null,
      "outputs": [
        {
          "output_type": "stream",
          "text": [
            "/bin/bash: conda: command not found\n"
          ],
          "name": "stdout"
        }
      ]
    },
    {
      "cell_type": "code",
      "metadata": {
        "id": "z1XKe_Y5rPuw",
        "colab_type": "code",
        "colab": {
          "base_uri": "https://localhost:8080/",
          "height": 427
        },
        "outputId": "cfa5e13b-c606-4afc-9cb1-03615755f7ff"
      },
      "source": [
        "plt.figure(figsize=(10,6))\n",
        "sns.regplot(x='mileage', y='selling_price', data=dataset).set_title('Km vs Price')"
      ],
      "execution_count": null,
      "outputs": [
        {
          "output_type": "execute_result",
          "data": {
            "text/plain": [
              "Text(0.5, 1.0, 'Km vs Price')"
            ]
          },
          "metadata": {
            "tags": []
          },
          "execution_count": 28
        },
        {
          "output_type": "display_data",
          "data": {
            "image/png": "[encoded data removed]",
            "text/plain": [
              "<Figure size 720x432 with 1 Axes>"
            ]
          },
          "metadata": {
            "tags": []
          }
        }
      ]
    },
    {
      "cell_type": "code",
      "metadata": {
        "id": "TlHY_44GwrYb",
        "colab_type": "code",
        "colab": {
          "base_uri": "https://localhost:8080/",
          "height": 34
        },
        "outputId": "f35df3dd-cd91-4992-f0bd-dd84e88e7b53"
      },
      "source": [
        "dataset.shape\n"
      ],
      "execution_count": null,
      "outputs": [
        {
          "output_type": "execute_result",
          "data": {
            "text/plain": [
              "(295, 9)"
            ]
          },
          "metadata": {
            "tags": []
          },
          "execution_count": 29
        }
      ]
    },
    {
      "cell_type": "code",
      "metadata": {
        "id": "LI1uFpC7wxfD",
        "colab_type": "code",
        "colab": {
          "base_uri": "https://localhost:8080/",
          "height": 34
        },
        "outputId": "8ba96b17-001c-4a21-9cc8-f4a4c300885a"
      },
      "source": [
        "dataset = dataset[dataset.mileage < 100000]\n",
        "dataset.shape\n"
      ],
      "execution_count": null,
      "outputs": [
        {
          "output_type": "execute_result",
          "data": {
            "text/plain": [
              "(287, 9)"
            ]
          },
          "metadata": {
            "tags": []
          },
          "execution_count": 30
        }
      ]
    },
    {
      "cell_type": "code",
      "metadata": {
        "id": "Gl4PgT2SxIPk",
        "colab_type": "code",
        "colab": {
          "base_uri": "https://localhost:8080/",
          "height": 427
        },
        "outputId": "b1b02cd3-ec53-4206-ca50-7043f98cd19f"
      },
      "source": [
        "plt.figure(figsize=(10,6))\n",
        "sns.regplot(x='mileage', y='selling_price', data=dataset).set_title('Km vs Price')"
      ],
      "execution_count": null,
      "outputs": [
        {
          "output_type": "execute_result",
          "data": {
            "text/plain": [
              "Text(0.5, 1.0, 'Km vs Price')"
            ]
          },
          "metadata": {
            "tags": []
          },
          "execution_count": 32
        },
        {
          "output_type": "display_data",
          "data": {
            "image/png": "[encoded data removed]",
            "text/plain": [
              "<Figure size 720x432 with 1 Axes>"
            ]
          },
          "metadata": {
            "tags": []
          }
        }
      ]
    },
    {
      "cell_type": "code",
      "metadata": {
        "id": "jC0WcrRH3JAV",
        "colab_type": "code",
        "colab": {
          "base_uri": "https://localhost:8080/",
          "height": 122
        },
        "outputId": "61ad2dc3-a7c0-4f7b-b233-ee9533c0a8b0"
      },
      "source": [
        "print(dataset.corr())\n",
        "corr = dataset.corr()"
      ],
      "execution_count": null,
      "outputs": [
        {
          "output_type": "stream",
          "text": [
            "                     year   mileage  previous_owners  selling_price       age\n",
            "year             1.000000 -0.589181        -0.104628       0.264773 -1.000000\n",
            "mileage         -0.589181  1.000000        -0.034772       0.114248  0.589181\n",
            "previous_owners -0.104628 -0.034772         1.000000      -0.105913  0.104628\n",
            "selling_price    0.264773  0.114248        -0.105913       1.000000 -0.264773\n",
            "age             -1.000000  0.589181         0.104628      -0.264773  1.000000\n"
          ],
          "name": "stdout"
        }
      ]
    },
    {
      "cell_type": "code",
      "metadata": {
        "id": "TxbJ_FZo3Vsz",
        "colab_type": "code",
        "colab": {
          "base_uri": "https://localhost:8080/",
          "height": 480
        },
        "outputId": "d651ab5e-b6e9-456a-d6db-73d42e7e2daf"
      },
      "source": [
        "plt.figure(figsize=(10,6))\n",
        "sns.heatmap(corr, vmax=1, square=True)"
      ],
      "execution_count": null,
      "outputs": [
        {
          "output_type": "execute_result",
          "data": {
            "text/plain": [
              "<matplotlib.axes._subplots.AxesSubplot at 0x7f6259581048>"
            ]
          },
          "metadata": {
            "tags": []
          },
          "execution_count": 34
        },
        {
          "output_type": "display_data",
          "data": {
            "image/png": "[encoded data removed]",
            "text/plain": [
              "<Figure size 720x432 with 2 Axes>"
            ]
          },
          "metadata": {
            "tags": []
          }
        }
      ]
    },
    {
      "cell_type": "code",
      "metadata": {
        "id": "K6udL1yU68bu",
        "colab_type": "code",
        "colab": {}
      },
      "source": [
        "from sklearn.model_selection import train_test_split\n",
        "from sklearn.linear_model import LinearRegression\n",
        "from sklearn.metrics import mean_squared_error\n",
        "from sklearn.model_selection import cross_val_score\n",
        "from sklearn.metrics import r2_score"
      ],
      "execution_count": null,
      "outputs": []
    },
    {
      "cell_type": "code",
      "metadata": {
        "id": "_43RoSr93l4u",
        "colab_type": "code",
        "colab": {
          "base_uri": "https://localhost:8080/",
          "height": 206
        },
        "outputId": "c2ff9418-35dd-48d2-873c-084ef1247ec1"
      },
      "source": [
        "dataset.head()\n"
      ],
      "execution_count": null,
      "outputs": [
        {
          "output_type": "execute_result",
          "data": {
            "text/html": [
              "<div>\n",
              "<style scoped>\n",
              "    .dataframe tbody tr th:only-of-type {\n",
              "        vertical-align: middle;\n",
              "    }\n",
              "\n",
              "    .dataframe tbody tr th {\n",
              "        vertical-align: top;\n",
              "    }\n",
              "\n",
              "    .dataframe thead th {\n",
              "        text-align: right;\n",
              "    }\n",
              "</style>\n",
              "<table border=\"1\" class=\"dataframe\">\n",
              "  <thead>\n",
              "    <tr style=\"text-align: right;\">\n",
              "      <th></th>\n",
              "      <th>car_name</th>\n",
              "      <th>year</th>\n",
              "      <th>mileage</th>\n",
              "      <th>fuel_type</th>\n",
              "      <th>seller_type</th>\n",
              "      <th>transmission_type</th>\n",
              "      <th>previous_owners</th>\n",
              "      <th>selling_price</th>\n",
              "      <th>age</th>\n",
              "    </tr>\n",
              "  </thead>\n",
              "  <tbody>\n",
              "    <tr>\n",
              "      <th>0</th>\n",
              "      <td>ritz</td>\n",
              "      <td>2014.0</td>\n",
              "      <td>27000</td>\n",
              "      <td>1.0</td>\n",
              "      <td>1.0</td>\n",
              "      <td>0.0</td>\n",
              "      <td>0.0</td>\n",
              "      <td>3.35</td>\n",
              "      <td>6.0</td>\n",
              "    </tr>\n",
              "    <tr>\n",
              "      <th>1</th>\n",
              "      <td>sx4</td>\n",
              "      <td>2013.0</td>\n",
              "      <td>43000</td>\n",
              "      <td>0.0</td>\n",
              "      <td>1.0</td>\n",
              "      <td>0.0</td>\n",
              "      <td>0.0</td>\n",
              "      <td>4.75</td>\n",
              "      <td>7.0</td>\n",
              "    </tr>\n",
              "    <tr>\n",
              "      <th>2</th>\n",
              "      <td>ciaz</td>\n",
              "      <td>2017.0</td>\n",
              "      <td>6900</td>\n",
              "      <td>1.0</td>\n",
              "      <td>1.0</td>\n",
              "      <td>0.0</td>\n",
              "      <td>0.0</td>\n",
              "      <td>7.25</td>\n",
              "      <td>3.0</td>\n",
              "    </tr>\n",
              "    <tr>\n",
              "      <th>3</th>\n",
              "      <td>wagon r</td>\n",
              "      <td>2011.0</td>\n",
              "      <td>5200</td>\n",
              "      <td>1.0</td>\n",
              "      <td>1.0</td>\n",
              "      <td>0.0</td>\n",
              "      <td>0.0</td>\n",
              "      <td>2.85</td>\n",
              "      <td>9.0</td>\n",
              "    </tr>\n",
              "    <tr>\n",
              "      <th>4</th>\n",
              "      <td>swift</td>\n",
              "      <td>2014.0</td>\n",
              "      <td>42450</td>\n",
              "      <td>0.0</td>\n",
              "      <td>1.0</td>\n",
              "      <td>0.0</td>\n",
              "      <td>0.0</td>\n",
              "      <td>4.60</td>\n",
              "      <td>6.0</td>\n",
              "    </tr>\n",
              "  </tbody>\n",
              "</table>\n",
              "</div>"
            ],
            "text/plain": [
              "  car_name    year  mileage  ...  previous_owners  selling_price  age\n",
              "0     ritz  2014.0    27000  ...              0.0           3.35  6.0\n",
              "1      sx4  2013.0    43000  ...              0.0           4.75  7.0\n",
              "2     ciaz  2017.0     6900  ...              0.0           7.25  3.0\n",
              "3  wagon r  2011.0     5200  ...              0.0           2.85  9.0\n",
              "4    swift  2014.0    42450  ...              0.0           4.60  6.0\n",
              "\n",
              "[5 rows x 9 columns]"
            ]
          },
          "metadata": {
            "tags": []
          },
          "execution_count": 25
        }
      ]
    },
    {
      "cell_type": "code",
      "metadata": {
        "id": "wUTBa-1-3sPy",
        "colab_type": "code",
        "colab": {}
      },
      "source": [
        "X = dataset[['car_name','mileage','fuel_type','seller_type','transmission_type','previous_owners','age']]\n",
        "y = dataset['selling_price']"
      ],
      "execution_count": null,
      "outputs": []
    },
    {
      "cell_type": "code",
      "metadata": {
        "id": "9xNeSjt5Sb1L",
        "colab_type": "code",
        "colab": {}
      },
      "source": [
        "X_train, X_test, y_train, y_test = train_test_split(X, y, random_state=42)"
      ],
      "execution_count": null,
      "outputs": []
    },
    {
      "cell_type": "code",
      "metadata": {
        "id": "ozJm26eXTT7N",
        "colab_type": "code",
        "colab": {}
      },
      "source": [
        "linreg = LinearRegression()"
      ],
      "execution_count": null,
      "outputs": []
    },
    {
      "cell_type": "code",
      "metadata": {
        "id": "LQtcSXzI-HsJ",
        "colab_type": "code",
        "colab": {
          "base_uri": "https://localhost:8080/",
          "height": 206
        },
        "outputId": "d51e004f-44f8-4fe2-b0a8-be49047ac0be"
      },
      "source": [
        "dataset.dtypes"
      ],
      "execution_count": null,
      "outputs": [
        {
          "output_type": "execute_result",
          "data": {
            "text/plain": [
              "car_name              object\n",
              "year                 float64\n",
              "mileage                int64\n",
              "fuel_type            float32\n",
              "seller_type          float32\n",
              "transmission_type    float32\n",
              "previous_owners      float32\n",
              "selling_price        float64\n",
              "age                  float64\n",
              "dtype: object"
            ]
          },
          "metadata": {
            "tags": []
          },
          "execution_count": 31
        }
      ]
    },
    {
      "cell_type": "code",
      "metadata": {
        "id": "I-oh0sWuZAeJ",
        "colab_type": "code",
        "colab": {
          "base_uri": "https://localhost:8080/",
          "height": 479
        },
        "outputId": "fe9f8fec-543c-4434-86ca-9390d69a99c5"
      },
      "source": [
        "dataset[\"car_name\"] = pd.to_numeric(dataset[\"car_name\"], downcast=\"float\")"
      ],
      "execution_count": null,
      "outputs": [
        {
          "output_type": "error",
          "ename": "ValueError",
          "evalue": "ignored",
          "traceback": [
            "\u001b[0;31m---------------------------------------------------------------------------\u001b[0m",
            "\u001b[0;31mValueError\u001b[0m                                Traceback (most recent call last)",
            "\u001b[0;32mpandas/_libs/lib.pyx\u001b[0m in \u001b[0;36mpandas._libs.lib.maybe_convert_numeric\u001b[0;34m()\u001b[0m\n",
            "\u001b[0;31mValueError\u001b[0m: Unable to parse string \"ritz\"",
            "\nDuring handling of the above exception, another exception occurred:\n",
            "\u001b[0;31mValueError\u001b[0m                                Traceback (most recent call last)",
            "\u001b[0;32m<ipython-input-32-292682e7cb6f>\u001b[0m in \u001b[0;36m<module>\u001b[0;34m()\u001b[0m\n\u001b[0;32m----> 1\u001b[0;31m \u001b[0mdataset\u001b[0m\u001b[0;34m[\u001b[0m\u001b[0;34m\"car_name\"\u001b[0m\u001b[0;34m]\u001b[0m \u001b[0;34m=\u001b[0m \u001b[0mpd\u001b[0m\u001b[0;34m.\u001b[0m\u001b[0mto_numeric\u001b[0m\u001b[0;34m(\u001b[0m\u001b[0mdataset\u001b[0m\u001b[0;34m[\u001b[0m\u001b[0;34m\"car_name\"\u001b[0m\u001b[0;34m]\u001b[0m\u001b[0;34m,\u001b[0m \u001b[0mdowncast\u001b[0m\u001b[0;34m=\u001b[0m\u001b[0;34m\"float\"\u001b[0m\u001b[0;34m)\u001b[0m\u001b[0;34m\u001b[0m\u001b[0;34m\u001b[0m\u001b[0m\n\u001b[0m",
            "\u001b[0;32m/usr/local/lib/python3.6/dist-packages/pandas/core/tools/numeric.py\u001b[0m in \u001b[0;36mto_numeric\u001b[0;34m(arg, errors, downcast)\u001b[0m\n\u001b[1;32m    148\u001b[0m         \u001b[0;32mtry\u001b[0m\u001b[0;34m:\u001b[0m\u001b[0;34m\u001b[0m\u001b[0;34m\u001b[0m\u001b[0m\n\u001b[1;32m    149\u001b[0m             values = lib.maybe_convert_numeric(\n\u001b[0;32m--> 150\u001b[0;31m                 \u001b[0mvalues\u001b[0m\u001b[0;34m,\u001b[0m \u001b[0mset\u001b[0m\u001b[0;34m(\u001b[0m\u001b[0;34m)\u001b[0m\u001b[0;34m,\u001b[0m \u001b[0mcoerce_numeric\u001b[0m\u001b[0;34m=\u001b[0m\u001b[0mcoerce_numeric\u001b[0m\u001b[0;34m\u001b[0m\u001b[0;34m\u001b[0m\u001b[0m\n\u001b[0m\u001b[1;32m    151\u001b[0m             )\n\u001b[1;32m    152\u001b[0m         \u001b[0;32mexcept\u001b[0m \u001b[0;34m(\u001b[0m\u001b[0mValueError\u001b[0m\u001b[0;34m,\u001b[0m \u001b[0mTypeError\u001b[0m\u001b[0;34m)\u001b[0m\u001b[0;34m:\u001b[0m\u001b[0;34m\u001b[0m\u001b[0;34m\u001b[0m\u001b[0m\n",
            "\u001b[0;32mpandas/_libs/lib.pyx\u001b[0m in \u001b[0;36mpandas._libs.lib.maybe_convert_numeric\u001b[0;34m()\u001b[0m\n",
            "\u001b[0;31mValueError\u001b[0m: Unable to parse string \"ritz\" at position 0"
          ]
        }
      ]
    },
    {
      "cell_type": "code",
      "metadata": {
        "id": "8HH0hUBK95Pk",
        "colab_type": "code",
        "colab": {
          "base_uri": "https://localhost:8080/",
          "height": 206
        },
        "outputId": "72cd7e05-95fc-45d6-fd34-3112161950c9"
      },
      "source": [
        "dataset.dtypes"
      ],
      "execution_count": null,
      "outputs": [
        {
          "output_type": "execute_result",
          "data": {
            "text/plain": [
              "car_name              object\n",
              "year                 float64\n",
              "mileage                int64\n",
              "fuel_type            float32\n",
              "seller_type          float32\n",
              "transmission_type    float32\n",
              "previous_owners      float32\n",
              "selling_price        float64\n",
              "age                  float64\n",
              "dtype: object"
            ]
          },
          "metadata": {
            "tags": []
          },
          "execution_count": 30
        }
      ]
    },
    {
      "cell_type": "code",
      "metadata": {
        "id": "SdMjnSk5SngH",
        "colab_type": "code",
        "colab": {
          "base_uri": "https://localhost:8080/",
          "height": 315
        },
        "outputId": "6db2cbd2-b443-40d4-c7b3-37cd6f28b1f3"
      },
      "source": [
        "linreg.fit(X_train, y_train)\n"
      ],
      "execution_count": null,
      "outputs": [
        {
          "output_type": "error",
          "ename": "ValueError",
          "evalue": "ignored",
          "traceback": [
            "\u001b[0;31m---------------------------------------------------------------------------\u001b[0m",
            "\u001b[0;31mValueError\u001b[0m                                Traceback (most recent call last)",
            "\u001b[0;32m<ipython-input-50-c39d3dbeccc4>\u001b[0m in \u001b[0;36m<module>\u001b[0;34m()\u001b[0m\n\u001b[0;32m----> 1\u001b[0;31m \u001b[0mlinreg\u001b[0m\u001b[0;34m.\u001b[0m\u001b[0mfit\u001b[0m\u001b[0;34m(\u001b[0m\u001b[0mX_train\u001b[0m\u001b[0;34m,\u001b[0m \u001b[0my_train\u001b[0m\u001b[0;34m)\u001b[0m\u001b[0;34m\u001b[0m\u001b[0;34m\u001b[0m\u001b[0m\n\u001b[0m",
            "\u001b[0;32m/usr/local/lib/python3.6/dist-packages/sklearn/linear_model/_base.py\u001b[0m in \u001b[0;36mfit\u001b[0;34m(self, X, y, sample_weight)\u001b[0m\n\u001b[1;32m    490\u001b[0m         \u001b[0mn_jobs_\u001b[0m \u001b[0;34m=\u001b[0m \u001b[0mself\u001b[0m\u001b[0;34m.\u001b[0m\u001b[0mn_jobs\u001b[0m\u001b[0;34m\u001b[0m\u001b[0;34m\u001b[0m\u001b[0m\n\u001b[1;32m    491\u001b[0m         X, y = check_X_y(X, y, accept_sparse=['csr', 'csc', 'coo'],\n\u001b[0;32m--> 492\u001b[0;31m                          y_numeric=True, multi_output=True)\n\u001b[0m\u001b[1;32m    493\u001b[0m \u001b[0;34m\u001b[0m\u001b[0m\n\u001b[1;32m    494\u001b[0m         \u001b[0;32mif\u001b[0m \u001b[0msample_weight\u001b[0m \u001b[0;32mis\u001b[0m \u001b[0;32mnot\u001b[0m \u001b[0;32mNone\u001b[0m\u001b[0;34m:\u001b[0m\u001b[0;34m\u001b[0m\u001b[0;34m\u001b[0m\u001b[0m\n",
            "\u001b[0;32m/usr/local/lib/python3.6/dist-packages/sklearn/utils/validation.py\u001b[0m in \u001b[0;36mcheck_X_y\u001b[0;34m(X, y, accept_sparse, accept_large_sparse, dtype, order, copy, force_all_finite, ensure_2d, allow_nd, multi_output, ensure_min_samples, ensure_min_features, y_numeric, warn_on_dtype, estimator)\u001b[0m\n\u001b[1;32m    753\u001b[0m                     \u001b[0mensure_min_features\u001b[0m\u001b[0;34m=\u001b[0m\u001b[0mensure_min_features\u001b[0m\u001b[0;34m,\u001b[0m\u001b[0;34m\u001b[0m\u001b[0;34m\u001b[0m\u001b[0m\n\u001b[1;32m    754\u001b[0m                     \u001b[0mwarn_on_dtype\u001b[0m\u001b[0;34m=\u001b[0m\u001b[0mwarn_on_dtype\u001b[0m\u001b[0;34m,\u001b[0m\u001b[0;34m\u001b[0m\u001b[0;34m\u001b[0m\u001b[0m\n\u001b[0;32m--> 755\u001b[0;31m                     estimator=estimator)\n\u001b[0m\u001b[1;32m    756\u001b[0m     \u001b[0;32mif\u001b[0m \u001b[0mmulti_output\u001b[0m\u001b[0;34m:\u001b[0m\u001b[0;34m\u001b[0m\u001b[0;34m\u001b[0m\u001b[0m\n\u001b[1;32m    757\u001b[0m         y = check_array(y, 'csr', force_all_finite=True, ensure_2d=False,\n",
            "\u001b[0;32m/usr/local/lib/python3.6/dist-packages/sklearn/utils/validation.py\u001b[0m in \u001b[0;36mcheck_array\u001b[0;34m(array, accept_sparse, accept_large_sparse, dtype, order, copy, force_all_finite, ensure_2d, allow_nd, ensure_min_samples, ensure_min_features, warn_on_dtype, estimator)\u001b[0m\n\u001b[1;32m    529\u001b[0m                     \u001b[0marray\u001b[0m \u001b[0;34m=\u001b[0m \u001b[0marray\u001b[0m\u001b[0;34m.\u001b[0m\u001b[0mastype\u001b[0m\u001b[0;34m(\u001b[0m\u001b[0mdtype\u001b[0m\u001b[0;34m,\u001b[0m \u001b[0mcasting\u001b[0m\u001b[0;34m=\u001b[0m\u001b[0;34m\"unsafe\"\u001b[0m\u001b[0;34m,\u001b[0m \u001b[0mcopy\u001b[0m\u001b[0;34m=\u001b[0m\u001b[0;32mFalse\u001b[0m\u001b[0;34m)\u001b[0m\u001b[0;34m\u001b[0m\u001b[0;34m\u001b[0m\u001b[0m\n\u001b[1;32m    530\u001b[0m                 \u001b[0;32melse\u001b[0m\u001b[0;34m:\u001b[0m\u001b[0;34m\u001b[0m\u001b[0;34m\u001b[0m\u001b[0m\n\u001b[0;32m--> 531\u001b[0;31m                     \u001b[0marray\u001b[0m \u001b[0;34m=\u001b[0m \u001b[0mnp\u001b[0m\u001b[0;34m.\u001b[0m\u001b[0masarray\u001b[0m\u001b[0;34m(\u001b[0m\u001b[0marray\u001b[0m\u001b[0;34m,\u001b[0m \u001b[0morder\u001b[0m\u001b[0;34m=\u001b[0m\u001b[0morder\u001b[0m\u001b[0;34m,\u001b[0m \u001b[0mdtype\u001b[0m\u001b[0;34m=\u001b[0m\u001b[0mdtype\u001b[0m\u001b[0;34m)\u001b[0m\u001b[0;34m\u001b[0m\u001b[0;34m\u001b[0m\u001b[0m\n\u001b[0m\u001b[1;32m    532\u001b[0m             \u001b[0;32mexcept\u001b[0m \u001b[0mComplexWarning\u001b[0m\u001b[0;34m:\u001b[0m\u001b[0;34m\u001b[0m\u001b[0;34m\u001b[0m\u001b[0m\n\u001b[1;32m    533\u001b[0m                 raise ValueError(\"Complex data not supported\\n\"\n",
            "\u001b[0;32m/usr/local/lib/python3.6/dist-packages/numpy/core/_asarray.py\u001b[0m in \u001b[0;36masarray\u001b[0;34m(a, dtype, order)\u001b[0m\n\u001b[1;32m     83\u001b[0m \u001b[0;34m\u001b[0m\u001b[0m\n\u001b[1;32m     84\u001b[0m     \"\"\"\n\u001b[0;32m---> 85\u001b[0;31m     \u001b[0;32mreturn\u001b[0m \u001b[0marray\u001b[0m\u001b[0;34m(\u001b[0m\u001b[0ma\u001b[0m\u001b[0;34m,\u001b[0m \u001b[0mdtype\u001b[0m\u001b[0;34m,\u001b[0m \u001b[0mcopy\u001b[0m\u001b[0;34m=\u001b[0m\u001b[0;32mFalse\u001b[0m\u001b[0;34m,\u001b[0m \u001b[0morder\u001b[0m\u001b[0;34m=\u001b[0m\u001b[0morder\u001b[0m\u001b[0;34m)\u001b[0m\u001b[0;34m\u001b[0m\u001b[0;34m\u001b[0m\u001b[0m\n\u001b[0m\u001b[1;32m     86\u001b[0m \u001b[0;34m\u001b[0m\u001b[0m\n\u001b[1;32m     87\u001b[0m \u001b[0;34m\u001b[0m\u001b[0m\n",
            "\u001b[0;31mValueError\u001b[0m: could not convert string to float: 'ertiga'"
          ]
        }
      ]
    },
    {
      "cell_type": "code",
      "metadata": {
        "id": "gWWTHJNiUzzR",
        "colab_type": "code",
        "colab": {}
      },
      "source": [
        ""
      ],
      "execution_count": null,
      "outputs": []
    },
    {
      "cell_type": "markdown",
      "metadata": {
        "id": "9QEZpHs49nND",
        "colab_type": "text"
      },
      "source": [
        "# Conda setup \n",
        "src: https://towardsdatascience.com/conda-google-colab-75f7c867a522"
      ]
    },
    {
      "cell_type": "code",
      "metadata": {
        "id": "7tFs_SEu9sZd",
        "colab_type": "code",
        "colab": {
          "base_uri": "https://localhost:8080/",
          "height": 34
        },
        "outputId": "aaf42060-dac5-4573-bded-2c2ec1172cda"
      },
      "source": [
        "!which python # should return /usr/local/bin/python\n"
      ],
      "execution_count": null,
      "outputs": [
        {
          "output_type": "stream",
          "text": [
            "/usr/local/bin/python\n"
          ],
          "name": "stdout"
        }
      ]
    },
    {
      "cell_type": "code",
      "metadata": {
        "id": "HMX4Uh9w9tHe",
        "colab_type": "code",
        "colab": {
          "base_uri": "https://localhost:8080/",
          "height": 34
        },
        "outputId": "b11cb3da-ccab-4138-b89e-9f00c52f6a41"
      },
      "source": [
        "!python --version\n"
      ],
      "execution_count": null,
      "outputs": [
        {
          "output_type": "stream",
          "text": [
            "Python 3.6.9\n"
          ],
          "name": "stdout"
        }
      ]
    },
    {
      "cell_type": "code",
      "metadata": {
        "id": "aylu1rOf9z1d",
        "colab_type": "code",
        "colab": {
          "base_uri": "https://localhost:8080/",
          "height": 34
        },
        "outputId": "4bc46d6b-430c-417c-f34b-9ef6ab0a9b48"
      },
      "source": [
        "!echo $PYTHONPATH\n"
      ],
      "execution_count": null,
      "outputs": [
        {
          "output_type": "stream",
          "text": [
            "/env/python\n"
          ],
          "name": "stdout"
        }
      ]
    },
    {
      "cell_type": "code",
      "metadata": {
        "id": "6mLKCm-A-AZb",
        "colab_type": "code",
        "colab": {
          "base_uri": "https://localhost:8080/",
          "height": 34
        },
        "outputId": "5e6627fe-c826-4412-d916-ae031990a71a"
      },
      "source": [
        "%env PYTHONPATH=\n"
      ],
      "execution_count": null,
      "outputs": [
        {
          "output_type": "stream",
          "text": [
            "env: PYTHONPATH=\n"
          ],
          "name": "stdout"
        }
      ]
    },
    {
      "cell_type": "code",
      "metadata": {
        "id": "1FaGJE7L-D6k",
        "colab_type": "code",
        "colab": {
          "base_uri": "https://localhost:8080/",
          "height": 1000
        },
        "outputId": "b83bf279-b45e-49ea-e270-294acbe4ee1b"
      },
      "source": [
        "%%bash\n",
        "MINICONDA_INSTALLER_SCRIPT=Miniconda3-4.5.4-Linux-x86_64.sh\n",
        "MINICONDA_PREFIX=/usr/local\n",
        "wget https://repo.continuum.io/miniconda/$MINICONDA_INSTALLER_SCRIPT\n",
        "chmod +x $MINICONDA_INSTALLER_SCRIPT\n",
        "./$MINICONDA_INSTALLER_SCRIPT -b -f -p $MINICONDA_PREFIX"
      ],
      "execution_count": null,
      "outputs": [
        {
          "output_type": "stream",
          "text": [
            "PREFIX=/usr/local\n",
            "installing: python-3.6.5-hc3d631a_2 ...\n",
            "installing: ca-certificates-2018.03.07-0 ...\n",
            "installing: conda-env-2.6.0-h36134e3_1 ...\n",
            "installing: libgcc-ng-7.2.0-hdf63c60_3 ...\n",
            "installing: libstdcxx-ng-7.2.0-hdf63c60_3 ...\n",
            "installing: libffi-3.2.1-hd88cf55_4 ...\n",
            "installing: ncurses-6.1-hf484d3e_0 ...\n",
            "installing: openssl-1.0.2o-h20670df_0 ...\n",
            "installing: tk-8.6.7-hc745277_3 ...\n",
            "installing: xz-5.2.4-h14c3975_4 ...\n",
            "installing: yaml-0.1.7-had09818_2 ...\n",
            "installing: zlib-1.2.11-ha838bed_2 ...\n",
            "installing: libedit-3.1.20170329-h6b74fdf_2 ...\n",
            "installing: readline-7.0-ha6073c6_4 ...\n",
            "installing: sqlite-3.23.1-he433501_0 ...\n",
            "installing: asn1crypto-0.24.0-py36_0 ...\n",
            "installing: certifi-2018.4.16-py36_0 ...\n",
            "installing: chardet-3.0.4-py36h0f667ec_1 ...\n",
            "installing: idna-2.6-py36h82fb2a8_1 ...\n",
            "installing: pycosat-0.6.3-py36h0a5515d_0 ...\n",
            "installing: pycparser-2.18-py36hf9f622e_1 ...\n",
            "installing: pysocks-1.6.8-py36_0 ...\n",
            "installing: ruamel_yaml-0.15.37-py36h14c3975_2 ...\n",
            "installing: six-1.11.0-py36h372c433_1 ...\n",
            "installing: cffi-1.11.5-py36h9745a5d_0 ...\n",
            "installing: setuptools-39.2.0-py36_0 ...\n",
            "installing: cryptography-2.2.2-py36h14c3975_0 ...\n",
            "installing: wheel-0.31.1-py36_0 ...\n",
            "installing: pip-10.0.1-py36_0 ...\n",
            "installing: pyopenssl-18.0.0-py36_0 ...\n",
            "installing: urllib3-1.22-py36hbe7ace6_0 ...\n",
            "installing: requests-2.18.4-py36he2e5f8d_1 ...\n",
            "installing: conda-4.5.4-py36_0 ...\n",
            "installation finished.\n"
          ],
          "name": "stdout"
        },
        {
          "output_type": "stream",
          "text": [
            "--2020-07-14 10:56:58--  https://repo.continuum.io/miniconda/Miniconda3-4.5.4-Linux-x86_64.sh\n",
            "Resolving repo.continuum.io (repo.continuum.io)... 104.18.200.79, 104.18.201.79, 2606:4700::6812:c94f, ...\n",
            "Connecting to repo.continuum.io (repo.continuum.io)|104.18.200.79|:443... connected.\n",
            "HTTP request sent, awaiting response... 301 Moved Permanently\n",
            "Location: https://repo.anaconda.com/miniconda/Miniconda3-4.5.4-Linux-x86_64.sh [following]\n",
            "--2020-07-14 10:56:58--  https://repo.anaconda.com/miniconda/Miniconda3-4.5.4-Linux-x86_64.sh\n",
            "Resolving repo.anaconda.com (repo.anaconda.com)... 104.16.130.3, 104.16.131.3, 2606:4700::6810:8303, ...\n",
            "Connecting to repo.anaconda.com (repo.anaconda.com)|104.16.130.3|:443... connected.\n",
            "HTTP request sent, awaiting response... 200 OK\n",
            "Length: 58468498 (56M) [application/x-sh]\n",
            "Saving to: ‘Miniconda3-4.5.4-Linux-x86_64.sh’\n",
            "\n",
            "     0K .......... .......... .......... .......... ..........  0% 3.95M 14s\n",
            "    50K .......... .......... .......... .......... ..........  0% 9.51M 10s\n",
            "   100K .......... .......... .......... .......... ..........  0% 4.61M 11s\n",
            "   150K .......... .......... .......... .......... ..........  0% 12.4M 9s\n",
            "   200K .......... .......... .......... .......... ..........  0% 9.81M 8s\n",
            "   250K .......... .......... .......... .......... ..........  0% 13.5M 8s\n",
            "   300K .......... .......... .......... .......... ..........  0% 24.0M 7s\n",
            "   350K .......... .......... .......... .......... ..........  0% 13.4M 7s\n",
            "   400K .......... .......... .......... .......... ..........  0% 21.1M 6s\n",
            "   450K .......... .......... .......... .......... ..........  0% 17.8M 6s\n",
            "   500K .......... .......... .......... .......... ..........  0% 54.7M 5s\n",
            "   550K .......... .......... .......... .......... ..........  1% 27.9M 5s\n",
            "   600K .......... .......... .......... .......... ..........  1% 50.5M 5s\n",
            "   650K .......... .......... .......... .......... ..........  1% 34.1M 5s\n",
            "   700K .......... .......... .......... .......... ..........  1% 27.6M 4s\n",
            "   750K .......... .......... .......... .......... ..........  1% 56.3M 4s\n",
            "   800K .......... .......... .......... .......... ..........  1% 36.9M 4s\n",
            "   850K .......... .......... .......... .......... ..........  1% 53.9M 4s\n",
            "   900K .......... .......... .......... .......... ..........  1% 40.7M 4s\n",
            "   950K .......... .......... .......... .......... ..........  1% 55.8M 4s\n",
            "  1000K .......... .......... .......... .......... ..........  1% 35.7M 3s\n",
            "  1050K .......... .......... .......... .......... ..........  1%  100M 3s\n",
            "  1100K .......... .......... .......... .......... ..........  2% 50.4M 3s\n",
            "  1150K .......... .......... .......... .......... ..........  2% 48.5M 3s\n",
            "  1200K .......... .......... .......... .......... ..........  2% 61.0M 3s\n",
            "  1250K .......... .......... .......... .......... ..........  2% 63.1M 3s\n",
            "  1300K .......... .......... .......... .......... ..........  2% 89.1M 3s\n",
            "  1350K .......... .......... .......... .......... ..........  2% 63.7M 3s\n",
            "  1400K .......... .......... .......... .......... ..........  2% 80.5M 3s\n",
            "  1450K .......... .......... .......... .......... ..........  2% 94.7M 3s\n",
            "  1500K .......... .......... .......... .......... ..........  2% 61.9M 3s\n",
            "  1550K .......... .......... .......... .......... ..........  2% 72.7M 3s\n",
            "  1600K .......... .......... .......... .......... ..........  2%  115M 2s\n",
            "  1650K .......... .......... .......... .......... ..........  2% 84.8M 2s\n",
            "  1700K .......... .......... .......... .......... ..........  3%  113M 2s\n",
            "  1750K .......... .......... .......... .......... ..........  3% 90.1M 2s\n",
            "  1800K .......... .......... .......... .......... ..........  3% 81.9M 2s\n",
            "  1850K .......... .......... .......... .......... ..........  3% 89.0M 2s\n",
            "  1900K .......... .......... .......... .......... ..........  3%  132M 2s\n",
            "  1950K .......... .......... .......... .......... ..........  3% 83.8M 2s\n",
            "  2000K .......... .......... .......... .......... ..........  3%  171M 2s\n",
            "  2050K .......... .......... .......... .......... ..........  3%  101M 2s\n",
            "  2100K .......... .......... .......... .......... ..........  3% 92.7M 2s\n",
            "  2150K .......... .......... .......... .......... ..........  3%  121M 2s\n",
            "  2200K .......... .......... .......... .......... ..........  3%  152M 2s\n",
            "  2250K .......... .......... .......... .......... ..........  4% 95.6M 2s\n",
            "  2300K .......... .......... .......... .......... ..........  4%  114M 2s\n",
            "  2350K .......... .......... .......... .......... ..........  4%  144M 2s\n",
            "  2400K .......... .......... .......... .......... ..........  4% 89.1M 2s\n",
            "  2450K .......... .......... .......... .......... ..........  4%  189M 2s\n",
            "  2500K .......... .......... .......... .......... ..........  4%  128M 2s\n",
            "  2550K .......... .......... .......... .......... ..........  4%  103M 2s\n",
            "  2600K .......... .......... .......... .......... ..........  4%  167M 2s\n",
            "  2650K .......... .......... .......... .......... ..........  4%  129M 2s\n",
            "  2700K .......... .......... .......... .......... ..........  4%  173M 2s\n",
            "  2750K .......... .......... .......... .......... ..........  4% 39.9M 2s\n",
            "  2800K .......... .......... .......... .......... ..........  4%  185M 2s\n",
            "  2850K .......... .......... .......... .......... ..........  5%  170M 2s\n",
            "  2900K .......... .......... .......... .......... ..........  5%  203M 2s\n",
            "  2950K .......... .......... .......... .......... ..........  5%  148M 2s\n",
            "  3000K .......... .......... .......... .......... ..........  5%  191M 2s\n",
            "  3050K .......... .......... .......... .......... ..........  5%  196M 1s\n",
            "  3100K .......... .......... .......... .......... ..........  5%  181M 1s\n",
            "  3150K .......... .......... .......... .......... ..........  5%  157M 1s\n",
            "  3200K .......... .......... .......... .......... ..........  5%  186M 1s\n",
            "  3250K .......... .......... .......... .......... ..........  5%  175M 1s\n",
            "  3300K .......... .......... .......... .......... ..........  5%  193M 1s\n",
            "  3350K .......... .......... .......... .......... ..........  5%  151M 1s\n",
            "  3400K .......... .......... .......... .......... ..........  6%  187M 1s\n",
            "  3450K .......... .......... .......... .......... ..........  6%  186M 1s\n",
            "  3500K .......... .......... .......... .......... ..........  6%  166M 1s\n",
            "  3550K .......... .......... .......... .......... ..........  6%  173M 1s\n",
            "  3600K .......... .......... .......... .......... ..........  6%  193M 1s\n",
            "  3650K .......... .......... .......... .......... ..........  6%  191M 1s\n",
            "  3700K .......... .......... .......... .......... ..........  6%  175M 1s\n",
            "  3750K .......... .......... .......... .......... ..........  6%  153M 1s\n",
            "  3800K .......... .......... .......... .......... ..........  6%  188M 1s\n",
            "  3850K .......... .......... .......... .......... ..........  6%  190M 1s\n",
            "  3900K .......... .......... .......... .......... ..........  6%  178M 1s\n",
            "  3950K .......... .......... .......... .......... ..........  7%  162M 1s\n",
            "  4000K .......... .......... .......... .......... ..........  7%  205M 1s\n",
            "  4050K .......... .......... .......... .......... ..........  7%  172M 1s\n",
            "  4100K .......... .......... .......... .......... ..........  7%  192M 1s\n",
            "  4150K .......... .......... .......... .......... ..........  7%  155M 1s\n",
            "  4200K .......... .......... .......... .......... ..........  7%  178M 1s\n",
            "  4250K .......... .......... .......... .......... ..........  7%  179M 1s\n",
            "  4300K .......... .......... .......... .......... ..........  7%  181M 1s\n",
            "  4350K .......... .......... .......... .......... ..........  7%  209M 1s\n",
            "  4400K .......... .......... .......... .......... ..........  7%  175M 1s\n",
            "  4450K .......... .......... .......... .......... ..........  7%  168M 1s\n",
            "  4500K .......... .......... .......... .......... ..........  7%  179M 1s\n",
            "  4550K .......... .......... .......... .......... ..........  8%  147M 1s\n",
            "  4600K .......... .......... .......... .......... ..........  8%  170M 1s\n",
            "  4650K .......... .......... .......... .......... ..........  8%  183M 1s\n",
            "  4700K .......... .......... .......... .......... ..........  8%  171M 1s\n",
            "  4750K .......... .......... .......... .......... ..........  8%  139M 1s\n",
            "  4800K .......... .......... .......... .......... ..........  8% 40.3M 1s\n",
            "  4850K .......... .......... .......... .......... ..........  8%  173M 1s\n",
            "  4900K .......... .......... .......... .......... ..........  8%  189M 1s\n",
            "  4950K .......... .......... .......... .......... ..........  8%  139M 1s\n",
            "  5000K .......... .......... .......... .......... ..........  8%  185M 1s\n",
            "  5050K .......... .......... .......... .......... ..........  8%  181M 1s\n",
            "  5100K .......... .......... .......... .......... ..........  9% 98.4M 1s\n",
            "  5150K .......... .......... .......... .......... ..........  9%  168M 1s\n",
            "  5200K .......... .......... .......... .......... ..........  9%  164M 1s\n",
            "  5250K .......... .......... .......... .......... ..........  9%  180M 1s\n",
            "  5300K .......... .......... .......... .......... ..........  9%  185M 1s\n",
            "  5350K .......... .......... .......... .......... ..........  9%  136M 1s\n",
            "  5400K .......... .......... .......... .......... ..........  9%  184M 1s\n",
            "  5450K .......... .......... .......... .......... ..........  9%  167M 1s\n",
            "  5500K .......... .......... .......... .......... ..........  9%  198M 1s\n",
            "  5550K .......... .......... .......... .......... ..........  9%  157M 1s\n",
            "  5600K .......... .......... .......... .......... ..........  9%  174M 1s\n",
            "  5650K .......... .......... .......... .......... ..........  9%  177M 1s\n",
            "  5700K .......... .......... .......... .......... .......... 10%  171M 1s\n",
            "  5750K .......... .......... .......... .......... .......... 10%  156M 1s\n",
            "  5800K .......... .......... .......... .......... .......... 10%  162M 1s\n",
            "  5850K .......... .......... .......... .......... .......... 10%  186M 1s\n",
            "  5900K .......... .......... .......... .......... .......... 10%  177M 1s\n",
            "  5950K .......... .......... .......... .......... .......... 10%  147M 1s\n",
            "  6000K .......... .......... .......... .......... .......... 10%  177M 1s\n",
            "  6050K .......... .......... .......... .......... .......... 10%  191M 1s\n",
            "  6100K .......... .......... .......... .......... .......... 10%  190M 1s\n",
            "  6150K .......... .......... .......... .......... .......... 10%  133M 1s\n",
            "  6200K .......... .......... .......... .......... .......... 10%  183M 1s\n",
            "  6250K .......... .......... .......... .......... .......... 11%  174M 1s\n",
            "  6300K .......... .......... .......... .......... .......... 11%  174M 1s\n",
            "  6350K .......... .......... .......... .......... .......... 11%  154M 1s\n",
            "  6400K .......... .......... .......... .......... .......... 11%  179M 1s\n",
            "  6450K .......... .......... .......... .......... .......... 11%  179M 1s\n",
            "  6500K .......... .......... .......... .......... .......... 11%  175M 1s\n",
            "  6550K .......... .......... .......... .......... .......... 11%  143M 1s\n",
            "  6600K .......... .......... .......... .......... .......... 11%  192M 1s\n",
            "  6650K .......... .......... .......... .......... .......... 11%  166M 1s\n",
            "  6700K .......... .......... .......... .......... .......... 11%  185M 1s\n",
            "  6750K .......... .......... .......... .......... .......... 11%  165M 1s\n",
            "  6800K .......... .......... .......... .......... .......... 11%  196M 1s\n",
            "  6850K .......... .......... .......... .......... .......... 12% 40.3M 1s\n",
            "  6900K .......... .......... .......... .......... .......... 12%  189M 1s\n",
            "  6950K .......... .......... .......... .......... .......... 12%  156M 1s\n",
            "  7000K .......... .......... .......... .......... .......... 12%  180M 1s\n",
            "  7050K .......... .......... .......... .......... .......... 12%  188M 1s\n",
            "  7100K .......... .......... .......... .......... .......... 12%  181M 1s\n",
            "  7150K .......... .......... .......... .......... .......... 12%  174M 1s\n",
            "  7200K .......... .......... .......... .......... .......... 12%  175M 1s\n",
            "  7250K .......... .......... .......... .......... .......... 12%  198M 1s\n",
            "  7300K .......... .......... .......... .......... .......... 12%  183M 1s\n",
            "  7350K .......... .......... .......... .......... .......... 12%  157M 1s\n",
            "  7400K .......... .......... .......... .......... .......... 13%  178M 1s\n",
            "  7450K .......... .......... .......... .......... .......... 13%  173M 1s\n",
            "  7500K .......... .......... .......... .......... .......... 13%  185M 1s\n",
            "  7550K .......... .......... .......... .......... .......... 13%  179M 1s\n",
            "  7600K .......... .......... .......... .......... .......... 13%  177M 1s\n",
            "  7650K .......... .......... .......... .......... .......... 13%  186M 1s\n",
            "  7700K .......... .......... .......... .......... .......... 13%  184M 1s\n",
            "  7750K .......... .......... .......... .......... .......... 13%  159M 1s\n",
            "  7800K .......... .......... .......... .......... .......... 13%  194M 1s\n",
            "  7850K .......... .......... .......... .......... .......... 13%  195M 1s\n",
            "  7900K .......... .......... .......... .......... .......... 13%  200M 1s\n",
            "  7950K .......... .......... .......... .......... .......... 14%  162M 1s\n",
            "  8000K .......... .......... .......... .......... .......... 14%  190M 1s\n",
            "  8050K .......... .......... .......... .......... .......... 14%  182M 1s\n",
            "  8100K .......... .......... .......... .......... .......... 14%  197M 1s\n",
            "  8150K .......... .......... .......... .......... .......... 14%  143M 1s\n",
            "  8200K .......... .......... .......... .......... .......... 14%  187M 1s\n",
            "  8250K .......... .......... .......... .......... .......... 14%  184M 1s\n",
            "  8300K .......... .......... .......... .......... .......... 14%  189M 1s\n",
            "  8350K .......... .......... .......... .......... .......... 14%  158M 1s\n",
            "  8400K .......... .......... .......... .......... .......... 14%  178M 1s\n",
            "  8450K .......... .......... .......... .......... .......... 14%  184M 1s\n",
            "  8500K .......... .......... .......... .......... .......... 14%  179M 1s\n",
            "  8550K .......... .......... .......... .......... .......... 15%  166M 1s\n",
            "  8600K .......... .......... .......... .......... .......... 15%  182M 1s\n",
            "  8650K .......... .......... .......... .......... .......... 15%  174M 1s\n",
            "  8700K .......... .......... .......... .......... .......... 15%  188M 1s\n",
            "  8750K .......... .......... .......... .......... .......... 15%  155M 1s\n",
            "  8800K .......... .......... .......... .......... .......... 15%  187M 1s\n",
            "  8850K .......... .......... .......... .......... .......... 15%  187M 1s\n",
            "  8900K .......... .......... .......... .......... .......... 15% 43.0M 1s\n",
            "  8950K .......... .......... .......... .......... .......... 15%  146M 1s\n",
            "  9000K .......... .......... .......... .......... .......... 15%  187M 1s\n",
            "  9050K .......... .......... .......... .......... .......... 15%  179M 1s\n",
            "  9100K .......... .......... .......... .......... .......... 16%  181M 1s\n",
            "  9150K .......... .......... .......... .......... .......... 16%  173M 1s\n",
            "  9200K .......... .......... .......... .......... .......... 16%  200M 1s\n",
            "  9250K .......... .......... .......... .......... .......... 16%  178M 1s\n",
            "  9300K .......... .......... .......... .......... .......... 16%  189M 1s\n",
            "  9350K .......... .......... .......... .......... .......... 16%  162M 1s\n",
            "  9400K .......... .......... .......... .......... .......... 16%  179M 1s\n",
            "  9450K .......... .......... .......... .......... .......... 16%  196M 1s\n",
            "  9500K .......... .......... .......... .......... .......... 16%  179M 1s\n",
            "  9550K .......... .......... .......... .......... .......... 16%  159M 1s\n",
            "  9600K .......... .......... .......... .......... .......... 16%  182M 1s\n",
            "  9650K .......... .......... .......... .......... .......... 16%  199M 1s\n",
            "  9700K .......... .......... .......... .......... .......... 17%  175M 1s\n",
            "  9750K .......... .......... .......... .......... .......... 17%  158M 1s\n",
            "  9800K .......... .......... .......... .......... .......... 17%  177M 1s\n",
            "  9850K .......... .......... .......... .......... .......... 17%  192M 1s\n",
            "  9900K .......... .......... .......... .......... .......... 17%  182M 1s\n",
            "  9950K .......... .......... .......... .......... .......... 17%  164M 1s\n",
            " 10000K .......... .......... .......... .......... .......... 17%  208M 1s\n",
            " 10050K .......... .......... .......... .......... .......... 17%  170M 1s\n",
            " 10100K .......... .......... .......... .......... .......... 17%  191M 1s\n",
            " 10150K .......... .......... .......... .......... .......... 17%  152M 1s\n",
            " 10200K .......... .......... .......... .......... .......... 17%  198M 1s\n",
            " 10250K .......... .......... .......... .......... .......... 18%  181M 1s\n",
            " 10300K .......... .......... .......... .......... .......... 18%  192M 1s\n",
            " 10350K .......... .......... .......... .......... .......... 18%  164M 1s\n",
            " 10400K .......... .......... .......... .......... .......... 18%  199M 1s\n",
            " 10450K .......... .......... .......... .......... .......... 18%  178M 1s\n",
            " 10500K .......... .......... .......... .......... .......... 18%  175M 1s\n",
            " 10550K .......... .......... .......... .......... .......... 18%  151M 1s\n",
            " 10600K .......... .......... .......... .......... .......... 18%  192M 1s\n",
            " 10650K .......... .......... .......... .......... .......... 18%  199M 1s\n",
            " 10700K .......... .......... .......... .......... .......... 18%  172M 1s\n",
            " 10750K .......... .......... .......... .......... .......... 18%  171M 1s\n",
            " 10800K .......... .......... .......... .......... .......... 19%  182M 1s\n",
            " 10850K .......... .......... .......... .......... .......... 19%  195M 1s\n",
            " 10900K .......... .......... .......... .......... .......... 19%  178M 1s\n",
            " 10950K .......... .......... .......... .......... .......... 19% 36.1M 1s\n",
            " 11000K .......... .......... .......... .......... .......... 19%  182M 1s\n",
            " 11050K .......... .......... .......... .......... .......... 19%  177M 1s\n",
            " 11100K .......... .......... .......... .......... .......... 19%  198M 1s\n",
            " 11150K .......... .......... .......... .......... .......... 19%  175M 1s\n",
            " 11200K .......... .......... .......... .......... .......... 19%  191M 1s\n",
            " 11250K .......... .......... .......... .......... .......... 19%  187M 1s\n",
            " 11300K .......... .......... .......... .......... .......... 19%  185M 1s\n",
            " 11350K .......... .......... .......... .......... .......... 19%  158M 1s\n",
            " 11400K .......... .......... .......... .......... .......... 20%  198M 1s\n",
            " 11450K .......... .......... .......... .......... .......... 20%  187M 1s\n",
            " 11500K .......... .......... .......... .......... .......... 20%  165M 1s\n",
            " 11550K .......... .......... .......... .......... .......... 20%  173M 1s\n",
            " 11600K .......... .......... .......... .......... .......... 20%  177M 1s\n",
            " 11650K .......... .......... .......... .......... .......... 20%  193M 1s\n",
            " 11700K .......... .......... .......... .......... .......... 20%  189M 1s\n",
            " 11750K .......... .......... .......... .......... .......... 20%  146M 1s\n",
            " 11800K .......... .......... .......... .......... .......... 20%  186M 1s\n",
            " 11850K .......... .......... .......... .......... .......... 20%  181M 1s\n",
            " 11900K .......... .......... .......... .......... .......... 20%  183M 1s\n",
            " 11950K .......... .......... .......... .......... .......... 21%  164M 1s\n",
            " 12000K .......... .......... .......... .......... .......... 21%  190M 1s\n",
            " 12050K .......... .......... .......... .......... .......... 21%  196M 1s\n",
            " 12100K .......... .......... .......... .......... .......... 21%  178M 1s\n",
            " 12150K .......... .......... .......... .......... .......... 21%  152M 1s\n",
            " 12200K .......... .......... .......... .......... .......... 21%  191M 1s\n",
            " 12250K .......... .......... .......... .......... .......... 21%  190M 1s\n",
            " 12300K .......... .......... .......... .......... .......... 21%  188M 1s\n",
            " 12350K .......... .......... .......... .......... .......... 21%  156M 1s\n",
            " 12400K .......... .......... .......... .......... .......... 21%  172M 1s\n",
            " 12450K .......... .......... .......... .......... .......... 21%  193M 1s\n",
            " 12500K .......... .......... .......... .......... .......... 21%  180M 1s\n",
            " 12550K .......... .......... .......... .......... .......... 22%  153M 1s\n",
            " 12600K .......... .......... .......... .......... .......... 22%  192M 1s\n",
            " 12650K .......... .......... .......... .......... .......... 22%  191M 0s\n",
            " 12700K .......... .......... .......... .......... .......... 22%  185M 0s\n",
            " 12750K .......... .......... .......... .......... .......... 22%  169M 0s\n",
            " 12800K .......... .......... .......... .......... .......... 22%  187M 0s\n",
            " 12850K .......... .......... .......... .......... .......... 22%  186M 0s\n",
            " 12900K .......... .......... .......... .......... .......... 22%  176M 0s\n",
            " 12950K .......... .......... .......... .......... .......... 22%  166M 0s\n",
            " 13000K .......... .......... .......... .......... .......... 22% 43.2M 0s\n",
            " 13050K .......... .......... .......... .......... .......... 22%  195M 0s\n",
            " 13100K .......... .......... .......... .......... .......... 23%  184M 0s\n",
            " 13150K .......... .......... .......... .......... .......... 23%  159M 0s\n",
            " 13200K .......... .......... .......... .......... .......... 23%  200M 0s\n",
            " 13250K .......... .......... .......... .......... .......... 23%  200M 0s\n",
            " 13300K .......... .......... .......... .......... .......... 23%  166M 0s\n",
            " 13350K .......... .......... .......... .......... .......... 23%  161M 0s\n",
            " 13400K .......... .......... .......... .......... .......... 23%  184M 0s\n",
            " 13450K .......... .......... .......... .......... .......... 23%  175M 0s\n",
            " 13500K .......... .......... .......... .......... .......... 23%  196M 0s\n",
            " 13550K .......... .......... .......... .......... .......... 23%  171M 0s\n",
            " 13600K .......... .......... .......... .......... .......... 23%  197M 0s\n",
            " 13650K .......... .......... .......... .......... .......... 23%  186M 0s\n",
            " 13700K .......... .......... .......... .......... .......... 24%  193M 0s\n",
            " 13750K .......... .......... .......... .......... .......... 24%  145M 0s\n",
            " 13800K .......... .......... .......... .......... .......... 24%  199M 0s\n",
            " 13850K .......... .......... .......... .......... .......... 24%  174M 0s\n",
            " 13900K .......... .......... .......... .......... .......... 24%  199M 0s\n",
            " 13950K .......... .......... .......... .......... .......... 24%  165M 0s\n",
            " 14000K .......... .......... .......... .......... .......... 24%  187M 0s\n",
            " 14050K .......... .......... .......... .......... .......... 24%  177M 0s\n",
            " 14100K .......... .......... .......... .......... .......... 24%  192M 0s\n",
            " 14150K .......... .......... .......... .......... .......... 24%  170M 0s\n",
            " 14200K .......... .......... .......... .......... .......... 24%  188M 0s\n",
            " 14250K .......... .......... .......... .......... .......... 25%  179M 0s\n",
            " 14300K .......... .......... .......... .......... .......... 25%  165M 0s\n",
            " 14350K .......... .......... .......... .......... .......... 25%  176M 0s\n",
            " 14400K .......... .......... .......... .......... .......... 25%  179M 0s\n",
            " 14450K .......... .......... .......... .......... .......... 25%  192M 0s\n",
            " 14500K .......... .......... .......... .......... .......... 25%  203M 0s\n",
            " 14550K .......... .......... .......... .......... .......... 25%  157M 0s\n",
            " 14600K .......... .......... .......... .......... .......... 25%  195M 0s\n",
            " 14650K .......... .......... .......... .......... .......... 25%  193M 0s\n",
            " 14700K .......... .......... .......... .......... .......... 25%  201M 0s\n",
            " 14750K .......... .......... .......... .......... .......... 25%  174M 0s\n",
            " 14800K .......... .......... .......... .......... .......... 26%  171M 0s\n",
            " 14850K .......... .......... .......... .......... .......... 26%  192M 0s\n",
            " 14900K .......... .......... .......... .......... .......... 26%  179M 0s\n",
            " 14950K .......... .......... .......... .......... .......... 26%  158M 0s\n",
            " 15000K .......... .......... .......... .......... .......... 26%  186M 0s\n",
            " 15050K .......... .......... .......... .......... .......... 26% 43.5M 0s\n",
            " 15100K .......... .......... .......... .......... .......... 26%  196M 0s\n",
            " 15150K .......... .......... .......... .......... .......... 26%  167M 0s\n",
            " 15200K .......... .......... .......... .......... .......... 26%  203M 0s\n",
            " 15250K .......... .......... .......... .......... .......... 26%  181M 0s\n",
            " 15300K .......... .......... .......... .......... .......... 26%  174M 0s\n",
            " 15350K .......... .......... .......... .......... .......... 26%  166M 0s\n",
            " 15400K .......... .......... .......... .......... .......... 27%  200M 0s\n",
            " 15450K .......... .......... .......... .......... .......... 27%  175M 0s\n",
            " 15500K .......... .......... .......... .......... .......... 27%  191M 0s\n",
            " 15550K .......... .......... .......... .......... .......... 27%  162M 0s\n",
            " 15600K .......... .......... .......... .......... .......... 27%  177M 0s\n",
            " 15650K .......... .......... .......... .......... .......... 27%  201M 0s\n",
            " 15700K .......... .......... .......... .......... .......... 27%  191M 0s\n",
            " 15750K .......... .......... .......... .......... .......... 27%  152M 0s\n",
            " 15800K .......... .......... .......... .......... .......... 27%  153M 0s\n",
            " 15850K .......... .......... .......... .......... .......... 27%  188M 0s\n",
            " 15900K .......... .......... .......... .......... .......... 27%  187M 0s\n",
            " 15950K .......... .......... .......... .......... .......... 28%  170M 0s\n",
            " 16000K .......... .......... .......... .......... .......... 28%  193M 0s\n",
            " 16050K .......... .......... .......... .......... .......... 28%  180M 0s\n",
            " 16100K .......... .......... .......... .......... .......... 28%  181M 0s\n",
            " 16150K .......... .......... .......... .......... .......... 28%  155M 0s\n",
            " 16200K .......... .......... .......... .......... .......... 28%  202M 0s\n",
            " 16250K .......... .......... .......... .......... .......... 28%  189M 0s\n",
            " 16300K .......... .......... .......... .......... .......... 28%  201M 0s\n",
            " 16350K .......... .......... .......... .......... .......... 28%  157M 0s\n",
            " 16400K .......... .......... .......... .......... .......... 28%  185M 0s\n",
            " 16450K .......... .......... .......... .......... .......... 28%  180M 0s\n",
            " 16500K .......... .......... .......... .......... .......... 28%  205M 0s\n",
            " 16550K .......... .......... .......... .......... .......... 29%  153M 0s\n",
            " 16600K .......... .......... .......... .......... .......... 29%  190M 0s\n",
            " 16650K .......... .......... .......... .......... .......... 29%  198M 0s\n",
            " 16700K .......... .......... .......... .......... .......... 29%  195M 0s\n",
            " 16750K .......... .......... .......... .......... .......... 29%  178M 0s\n",
            " 16800K .......... .......... .......... .......... .......... 29%  172M 0s\n",
            " 16850K .......... .......... .......... .......... .......... 29%  198M 0s\n",
            " 16900K .......... .......... .......... .......... .......... 29%  167M 0s\n",
            " 16950K .......... .......... .......... .......... .......... 29%  145M 0s\n",
            " 17000K .......... .......... .......... .......... .......... 29%  174M 0s\n",
            " 17050K .......... .......... .......... .......... .......... 29%  185M 0s\n",
            " 17100K .......... .......... .......... .......... .......... 30% 43.6M 0s\n",
            " 17150K .......... .......... .......... .......... .......... 30%  169M 0s\n",
            " 17200K .......... .......... .......... .......... .......... 30%  188M 0s\n",
            " 17250K .......... .......... .......... .......... .......... 30%  201M 0s\n",
            " 17300K .......... .......... .......... .......... .......... 30%  193M 0s\n",
            " 17350K .......... .......... .......... .......... .......... 30%  171M 0s\n",
            " 17400K .......... .......... .......... .......... .......... 30%  161M 0s\n",
            " 17450K .......... .......... .......... .......... .......... 30%  198M 0s\n",
            " 17500K .......... .......... .......... .......... .......... 30%  195M 0s\n",
            " 17550K .......... .......... .......... .......... .......... 30%  149M 0s\n",
            " 17600K .......... .......... .......... .......... .......... 30%  192M 0s\n",
            " 17650K .......... .......... .......... .......... .......... 30%  176M 0s\n",
            " 17700K .......... .......... .......... .......... .......... 31%  193M 0s\n",
            " 17750K .......... .......... .......... .......... .......... 31%  157M 0s\n",
            " 17800K .......... .......... .......... .......... .......... 31%  193M 0s\n",
            " 17850K .......... .......... .......... .......... .......... 31%  182M 0s\n",
            " 17900K .......... .......... .......... .......... .......... 31%  186M 0s\n",
            " 17950K .......... .......... .......... .......... .......... 31%  158M 0s\n",
            " 18000K .......... .......... .......... .......... .......... 31%  164M 0s\n",
            " 18050K .......... .......... .......... .......... .......... 31%  197M 0s\n",
            " 18100K .......... .......... .......... .......... .......... 31%  190M 0s\n",
            " 18150K .......... .......... .......... .......... .......... 31%  153M 0s\n",
            " 18200K .......... .......... .......... .......... .......... 31%  172M 0s\n",
            " 18250K .......... .......... .......... .......... .......... 32%  199M 0s\n",
            " 18300K .......... .......... .......... .......... .......... 32%  185M 0s\n",
            " 18350K .......... .......... .......... .......... .......... 32%  179M 0s\n",
            " 18400K .......... .......... .......... .......... .......... 32%  199M 0s\n",
            " 18450K .......... .......... .......... .......... .......... 32%  176M 0s\n",
            " 18500K .......... .......... .......... .......... .......... 32%  173M 0s\n",
            " 18550K .......... .......... .......... .......... .......... 32%  155M 0s\n",
            " 18600K .......... .......... .......... .......... .......... 32%  196M 0s\n",
            " 18650K .......... .......... .......... .......... .......... 32%  180M 0s\n",
            " 18700K .......... .......... .......... .......... .......... 32%  195M 0s\n",
            " 18750K .......... .......... .......... .......... .......... 32%  171M 0s\n",
            " 18800K .......... .......... .......... .......... .......... 33%  198M 0s\n",
            " 18850K .......... .......... .......... .......... .......... 33%  179M 0s\n",
            " 18900K .......... .......... .......... .......... .......... 33%  186M 0s\n",
            " 18950K .......... .......... .......... .......... .......... 33%  172M 0s\n",
            " 19000K .......... .......... .......... .......... .......... 33%  203M 0s\n",
            " 19050K .......... .......... .......... .......... .......... 33%  172M 0s\n",
            " 19100K .......... .......... .......... .......... .......... 33%  179M 0s\n",
            " 19150K .......... .......... .......... .......... .......... 33% 41.9M 0s\n",
            " 19200K .......... .......... .......... .......... .......... 33%  202M 0s\n",
            " 19250K .......... .......... .......... .......... .......... 33%  156M 0s\n",
            " 19300K .......... .......... .......... .......... .......... 33%  193M 0s\n",
            " 19350K .......... .......... .......... .......... .......... 33%  164M 0s\n",
            " 19400K .......... .......... .......... .......... .......... 34%  199M 0s\n",
            " 19450K .......... .......... .......... .......... .......... 34%  188M 0s\n",
            " 19500K .......... .......... .......... .......... .......... 34%  196M 0s\n",
            " 19550K .......... .......... .......... .......... .......... 34%  170M 0s\n",
            " 19600K .......... .......... .......... .......... .......... 34%  181M 0s\n",
            " 19650K .......... .......... .......... .......... .......... 34%  195M 0s\n",
            " 19700K .......... .......... .......... .......... .......... 34%  188M 0s\n",
            " 19750K .......... .......... .......... .......... .......... 34%  165M 0s\n",
            " 19800K .......... .......... .......... .......... .......... 34%  172M 0s\n",
            " 19850K .......... .......... .......... .......... .......... 34%  199M 0s\n",
            " 19900K .......... .......... .......... .......... .......... 34%  194M 0s\n",
            " 19950K .......... .......... .......... .......... .......... 35%  163M 0s\n",
            " 20000K .......... .......... .......... .......... .......... 35%  175M 0s\n",
            " 20050K .......... .......... .......... .......... .......... 35%  203M 0s\n",
            " 20100K .......... .......... .......... .......... .......... 35%  171M 0s\n",
            " 20150K .......... .......... .......... .......... .......... 35%  150M 0s\n",
            " 20200K .......... .......... .......... .......... .......... 35%  201M 0s\n",
            " 20250K .......... .......... .......... .......... .......... 35%  198M 0s\n",
            " 20300K .......... .......... .......... .......... .......... 35%  182M 0s\n",
            " 20350K .......... .......... .......... .......... .......... 35%  157M 0s\n",
            " 20400K .......... .......... .......... .......... .......... 35%  198M 0s\n",
            " 20450K .......... .......... .......... .......... .......... 35%  194M 0s\n",
            " 20500K .......... .......... .......... .......... .......... 35%  195M 0s\n",
            " 20550K .......... .......... .......... .......... .......... 36%  144M 0s\n",
            " 20600K .......... .......... .......... .......... .......... 36%  187M 0s\n",
            " 20650K .......... .......... .......... .......... .......... 36%  177M 0s\n",
            " 20700K .......... .......... .......... .......... .......... 36%  183M 0s\n",
            " 20750K .......... .......... .......... .......... .......... 36%  175M 0s\n",
            " 20800K .......... .......... .......... .......... .......... 36%  189M 0s\n",
            " 20850K .......... .......... .......... .......... .......... 36%  181M 0s\n",
            " 20900K .......... .......... .......... .......... .......... 36%  184M 0s\n",
            " 20950K .......... .......... .......... .......... .......... 36%  165M 0s\n",
            " 21000K .......... .......... .......... .......... .......... 36%  161M 0s\n",
            " 21050K .......... .......... .......... .......... .......... 36%  184M 0s\n",
            " 21100K .......... .......... .......... .......... .......... 37%  178M 0s\n",
            " 21150K .......... .......... .......... .......... .......... 37%  139M 0s\n",
            " 21200K .......... .......... .......... .......... .......... 37% 44.3M 0s\n",
            " 21250K .......... .......... .......... .......... .......... 37%  191M 0s\n",
            " 21300K .......... .......... .......... .......... .......... 37%  188M 0s\n",
            " 21350K .......... .......... .......... .......... .......... 37%  155M 0s\n",
            " 21400K .......... .......... .......... .......... .......... 37%  180M 0s\n",
            " 21450K .......... .......... .......... .......... .......... 37%  194M 0s\n",
            " 21500K .......... .......... .......... .......... .......... 37%  200M 0s\n",
            " 21550K .......... .......... .......... .......... .......... 37%  175M 0s\n",
            " 21600K .......... .......... .......... .......... .......... 37%  184M 0s\n",
            " 21650K .......... .......... .......... .......... .......... 38%  185M 0s\n",
            " 21700K .......... .......... .......... .......... .......... 38%  190M 0s\n",
            " 21750K .......... .......... .......... .......... .......... 38%  147M 0s\n",
            " 21800K .......... .......... .......... .......... .......... 38%  198M 0s\n",
            " 21850K .......... .......... .......... .......... .......... 38%  171M 0s\n",
            " 21900K .......... .......... .......... .......... .......... 38%  184M 0s\n",
            " 21950K .......... .......... .......... .......... .......... 38%  170M 0s\n",
            " 22000K .......... .......... .......... .......... .......... 38%  189M 0s\n",
            " 22050K .......... .......... .......... .......... .......... 38%  184M 0s\n",
            " 22100K .......... .......... .......... .......... .......... 38%  184M 0s\n",
            " 22150K .......... .......... .......... .......... .......... 38%  161M 0s\n",
            " 22200K .......... .......... .......... .......... .......... 38%  177M 0s\n",
            " 22250K .......... .......... .......... .......... .......... 39%  180M 0s\n",
            " 22300K .......... .......... .......... .......... .......... 39%  192M 0s\n",
            " 22350K .......... .......... .......... .......... .......... 39%  176M 0s\n",
            " 22400K .......... .......... .......... .......... .......... 39%  194M 0s\n",
            " 22450K .......... .......... .......... .......... .......... 39%  179M 0s\n",
            " 22500K .......... .......... .......... .......... .......... 39%  184M 0s\n",
            " 22550K .......... .......... .......... .......... .......... 39%  157M 0s\n",
            " 22600K .......... .......... .......... .......... .......... 39%  195M 0s\n",
            " 22650K .......... .......... .......... .......... .......... 39%  174M 0s\n",
            " 22700K .......... .......... .......... .......... .......... 39%  189M 0s\n",
            " 22750K .......... .......... .......... .......... .......... 39%  154M 0s\n",
            " 22800K .......... .......... .......... .......... .......... 40%  193M 0s\n",
            " 22850K .......... .......... .......... .......... .......... 40%  190M 0s\n",
            " 22900K .......... .......... .......... .......... .......... 40%  202M 0s\n",
            " 22950K .......... .......... .......... .......... .......... 40%  138M 0s\n",
            " 23000K .......... .......... .......... .......... .......... 40%  178M 0s\n",
            " 23050K .......... .......... .......... .......... .......... 40%  197M 0s\n",
            " 23100K .......... .......... .......... .......... .......... 40%  162M 0s\n",
            " 23150K .......... .......... .......... .......... .......... 40%  163M 0s\n",
            " 23200K .......... .......... .......... .......... .......... 40%  202M 0s\n",
            " 23250K .......... .......... .......... .......... .......... 40% 43.7M 0s\n",
            " 23300K .......... .......... .......... .......... .......... 40%  177M 0s\n",
            " 23350K .......... .......... .......... .......... .......... 40%  142M 0s\n",
            " 23400K .......... .......... .......... .......... .......... 41%  191M 0s\n",
            " 23450K .......... .......... .......... .......... .......... 41%  198M 0s\n",
            " 23500K .......... .......... .......... .......... .......... 41%  175M 0s\n",
            " 23550K .......... .......... .......... .......... .......... 41%  169M 0s\n",
            " 23600K .......... .......... .......... .......... .......... 41%  195M 0s\n",
            " 23650K .......... .......... .......... .......... .......... 41%  196M 0s\n",
            " 23700K .......... .......... .......... .......... .......... 41%  168M 0s\n",
            " 23750K .......... .......... .......... .......... .......... 41%  160M 0s\n",
            " 23800K .......... .......... .......... .......... .......... 41%  193M 0s\n",
            " 23850K .......... .......... .......... .......... .......... 41%  160M 0s\n",
            " 23900K .......... .......... .......... .......... .......... 41%  200M 0s\n",
            " 23950K .......... .......... .......... .......... .......... 42%  175M 0s\n",
            " 24000K .......... .......... .......... .......... .......... 42%  191M 0s\n",
            " 24050K .......... .......... .......... .......... .......... 42%  187M 0s\n",
            " 24100K .......... .......... .......... .......... .......... 42%  200M 0s\n",
            " 24150K .......... .......... .......... .......... .......... 42%  154M 0s\n",
            " 24200K .......... .......... .......... .......... .......... 42%  190M 0s\n",
            " 24250K .......... .......... .......... .......... .......... 42%  181M 0s\n",
            " 24300K .......... .......... .......... .......... .......... 42%  191M 0s\n",
            " 24350K .......... .......... .......... .......... .......... 42%  165M 0s\n",
            " 24400K .......... .......... .......... .......... .......... 42%  189M 0s\n",
            " 24450K .......... .......... .......... .......... .......... 42%  200M 0s\n",
            " 24500K .......... .......... .......... .......... .......... 42%  180M 0s\n",
            " 24550K .......... .......... .......... .......... .......... 43%  141M 0s\n",
            " 24600K .......... .......... .......... .......... .......... 43%  181M 0s\n",
            " 24650K .......... .......... .......... .......... .......... 43%  200M 0s\n",
            " 24700K .......... .......... .......... .......... .......... 43%  194M 0s\n",
            " 24750K .......... .......... .......... .......... .......... 43%  164M 0s\n",
            " 24800K .......... .......... .......... .......... .......... 43%  174M 0s\n",
            " 24850K .......... .......... .......... .......... .......... 43%  173M 0s\n",
            " 24900K .......... .......... .......... .......... .......... 43%  195M 0s\n",
            " 24950K .......... .......... .......... .......... .......... 43%  158M 0s\n",
            " 25000K .......... .......... .......... .......... .......... 43%  177M 0s\n",
            " 25050K .......... .......... .......... .......... .......... 43%  169M 0s\n",
            " 25100K .......... .......... .......... .......... .......... 44%  192M 0s\n",
            " 25150K .......... .......... .......... .......... .......... 44%  167M 0s\n",
            " 25200K .......... .......... .......... .......... .......... 44%  180M 0s\n",
            " 25250K .......... .......... .......... .......... .......... 44%  184M 0s\n",
            " 25300K .......... .......... .......... .......... .......... 44% 44.1M 0s\n",
            " 25350K .......... .......... .......... .......... .......... 44%  155M 0s\n",
            " 25400K .......... .......... .......... .......... .......... 44%  190M 0s\n",
            " 25450K .......... .......... .......... .......... .......... 44%  194M 0s\n",
            " 25500K .......... .......... .......... .......... .......... 44%  201M 0s\n",
            " 25550K .......... .......... .......... .......... .......... 44%  167M 0s\n",
            " 25600K .......... .......... .......... .......... .......... 44%  187M 0s\n",
            " 25650K .......... .......... .......... .......... .......... 45%  180M 0s\n",
            " 25700K .......... .......... .......... .......... .......... 45%  172M 0s\n",
            " 25750K .......... .......... .......... .......... .......... 45%  153M 0s\n",
            " 25800K .......... .......... .......... .......... .......... 45%  189M 0s\n",
            " 25850K .......... .......... .......... .......... .......... 45%  195M 0s\n",
            " 25900K .......... .......... .......... .......... .......... 45%  178M 0s\n",
            " 25950K .......... .......... .......... .......... .......... 45%  160M 0s\n",
            " 26000K .......... .......... .......... .......... .......... 45%  193M 0s\n",
            " 26050K .......... .......... .......... .......... .......... 45%  201M 0s\n",
            " 26100K .......... .......... .......... .......... .......... 45%  164M 0s\n",
            " 26150K .......... .......... .......... .......... .......... 45%  160M 0s\n",
            " 26200K .......... .......... .......... .......... .......... 45%  201M 0s\n",
            " 26250K .......... .......... .......... .......... .......... 46%  167M 0s\n",
            " 26300K .......... .......... .......... .......... .......... 46%  188M 0s\n",
            " 26350K .......... .......... .......... .......... .......... 46%  162M 0s\n",
            " 26400K .......... .......... .......... .......... .......... 46%  189M 0s\n",
            " 26450K .......... .......... .......... .......... .......... 46%  177M 0s\n",
            " 26500K .......... .......... .......... .......... .......... 46%  202M 0s\n",
            " 26550K .......... .......... .......... .......... .......... 46%  164M 0s\n",
            " 26600K .......... .......... .......... .......... .......... 46%  192M 0s\n",
            " 26650K .......... .......... .......... .......... .......... 46%  164M 0s\n",
            " 26700K .......... .......... .......... .......... .......... 46%  195M 0s\n",
            " 26750K .......... .......... .......... .......... .......... 46%  153M 0s\n",
            " 26800K .......... .......... .......... .......... .......... 47%  186M 0s\n",
            " 26850K .......... .......... .......... .......... .......... 47%  210M 0s\n",
            " 26900K .......... .......... .......... .......... .......... 47%  211M 0s\n",
            " 26950K .......... .......... .......... .......... .......... 47%  156M 0s\n",
            " 27000K .......... .......... .......... .......... .......... 47%  186M 0s\n",
            " 27050K .......... .......... .......... .......... .......... 47%  196M 0s\n",
            " 27100K .......... .......... .......... .......... .......... 47%  184M 0s\n",
            " 27150K .......... .......... .......... .......... .......... 47%  155M 0s\n",
            " 27200K .......... .......... .......... .......... .......... 47%  184M 0s\n",
            " 27250K .......... .......... .......... .......... .......... 47%  199M 0s\n",
            " 27300K .......... .......... .......... .......... .......... 47%  182M 0s\n",
            " 27350K .......... .......... .......... .......... .......... 47% 41.4M 0s\n",
            " 27400K .......... .......... .......... .......... .......... 48%  181M 0s\n",
            " 27450K .......... .......... .......... .......... .......... 48%  200M 0s\n",
            " 27500K .......... .......... .......... .......... .......... 48%  188M 0s\n",
            " 27550K .......... .......... .......... .......... .......... 48%  171M 0s\n",
            " 27600K .......... .......... .......... .......... .......... 48%  188M 0s\n",
            " 27650K .......... .......... .......... .......... .......... 48%  199M 0s\n",
            " 27700K .......... .......... .......... .......... .......... 48%  194M 0s\n",
            " 27750K .......... .......... .......... .......... .......... 48%  141M 0s\n",
            " 27800K .......... .......... .......... .......... .......... 48%  186M 0s\n",
            " 27850K .......... .......... .......... .......... .......... 48%  168M 0s\n",
            " 27900K .......... .......... .......... .......... .......... 48%  180M 0s\n",
            " 27950K .......... .......... .......... .......... .......... 49%  147M 0s\n",
            " 28000K .......... .......... .......... .......... .......... 49%  188M 0s\n",
            " 28050K .......... .......... .......... .......... .......... 49%  182M 0s\n",
            " 28100K .......... .......... .......... .......... .......... 49%  184M 0s\n",
            " 28150K .......... .......... .......... .......... .......... 49%  163M 0s\n",
            " 28200K .......... .......... .......... .......... .......... 49%  182M 0s\n",
            " 28250K .......... .......... .......... .......... .......... 49%  196M 0s\n",
            " 28300K .......... .......... .......... .......... .......... 49%  188M 0s\n",
            " 28350K .......... .......... .......... .......... .......... 49%  175M 0s\n",
            " 28400K .......... .......... .......... .......... .......... 49%  172M 0s\n",
            " 28450K .......... .......... .......... .......... .......... 49%  198M 0s\n",
            " 28500K .......... .......... .......... .......... .......... 50%  186M 0s\n",
            " 28550K .......... .......... .......... .......... .......... 50%  163M 0s\n",
            " 28600K .......... .......... .......... .......... .......... 50%  193M 0s\n",
            " 28650K .......... .......... .......... .......... .......... 50%  196M 0s\n",
            " 28700K .......... .......... .......... .......... .......... 50%  185M 0s\n",
            " 28750K .......... .......... .......... .......... .......... 50%  161M 0s\n",
            " 28800K .......... .......... .......... .......... .......... 50%  187M 0s\n",
            " 28850K .......... .......... .......... .......... .......... 50%  188M 0s\n",
            " 28900K .......... .......... .......... .......... .......... 50%  198M 0s\n",
            " 28950K .......... .......... .......... .......... .......... 50%  150M 0s\n",
            " 29000K .......... .......... .......... .......... .......... 50%  174M 0s\n",
            " 29050K .......... .......... .......... .......... .......... 50%  178M 0s\n",
            " 29100K .......... .......... .......... .......... .......... 51%  188M 0s\n",
            " 29150K .......... .......... .......... .......... .......... 51%  172M 0s\n",
            " 29200K .......... .......... .......... .......... .......... 51%  206M 0s\n",
            " 29250K .......... .......... .......... .......... .......... 51%  176M 0s\n",
            " 29300K .......... .......... .......... .......... .......... 51%  187M 0s\n",
            " 29350K .......... .......... .......... .......... .......... 51% 42.1M 0s\n",
            " 29400K .......... .......... .......... .......... .......... 51%  188M 0s\n",
            " 29450K .......... .......... .......... .......... .......... 51%  176M 0s\n",
            " 29500K .......... .......... .......... .......... .......... 51%  190M 0s\n",
            " 29550K .......... .......... .......... .......... .......... 51%  164M 0s\n",
            " 29600K .......... .......... .......... .......... .......... 51%  204M 0s\n",
            " 29650K .......... .......... .......... .......... .......... 52%  178M 0s\n",
            " 29700K .......... .......... .......... .......... .......... 52%  192M 0s\n",
            " 29750K .......... .......... .......... .......... .......... 52%  168M 0s\n",
            " 29800K .......... .......... .......... .......... .......... 52%  192M 0s\n",
            " 29850K .......... .......... .......... .......... .......... 52%  189M 0s\n",
            " 29900K .......... .......... .......... .......... .......... 52%  175M 0s\n",
            " 29950K .......... .......... .......... .......... .......... 52%  163M 0s\n",
            " 30000K .......... .......... .......... .......... .......... 52%  177M 0s\n",
            " 30050K .......... .......... .......... .......... .......... 52%  199M 0s\n",
            " 30100K .......... .......... .......... .......... .......... 52%  182M 0s\n",
            " 30150K .......... .......... .......... .......... .......... 52%  140M 0s\n",
            " 30200K .......... .......... .......... .......... .......... 52%  188M 0s\n",
            " 30250K .......... .......... .......... .......... .......... 53%  189M 0s\n",
            " 30300K .......... .......... .......... .......... .......... 53%  181M 0s\n",
            " 30350K .......... .......... .......... .......... .......... 53%  161M 0s\n",
            " 30400K .......... .......... .......... .......... .......... 53%  197M 0s\n",
            " 30450K .......... .......... .......... .......... .......... 53%  173M 0s\n",
            " 30500K .......... .......... .......... .......... .......... 53%  186M 0s\n",
            " 30550K .......... .......... .......... .......... .......... 53%  145M 0s\n",
            " 30600K .......... .......... .......... .......... .......... 53%  178M 0s\n",
            " 30650K .......... .......... .......... .......... .......... 53%  188M 0s\n",
            " 30700K .......... .......... .......... .......... .......... 53%  182M 0s\n",
            " 30750K .......... .......... .......... .......... .......... 53%  176M 0s\n",
            " 30800K .......... .......... .......... .......... .......... 54%  193M 0s\n",
            " 30850K .......... .......... .......... .......... .......... 54%  183M 0s\n",
            " 30900K .......... .......... .......... .......... .......... 54%  169M 0s\n",
            " 30950K .......... .......... .......... .......... .......... 54%  164M 0s\n",
            " 31000K .......... .......... .......... .......... .......... 54%  188M 0s\n",
            " 31050K .......... .......... .......... .......... .......... 54%  181M 0s\n",
            " 31100K .......... .......... .......... .......... .......... 54%  174M 0s\n",
            " 31150K .......... .......... .......... .......... .......... 54%  160M 0s\n",
            " 31200K .......... .......... .......... .......... .......... 54%  188M 0s\n",
            " 31250K .......... .......... .......... .......... .......... 54%  172M 0s\n",
            " 31300K .......... .......... .......... .......... .......... 54%  196M 0s\n",
            " 31350K .......... .......... .......... .......... .......... 54%  144M 0s\n",
            " 31400K .......... .......... .......... .......... .......... 55% 44.5M 0s\n",
            " 31450K .......... .......... .......... .......... .......... 55%  171M 0s\n",
            " 31500K .......... .......... .......... .......... .......... 55%  181M 0s\n",
            " 31550K .......... .......... .......... .......... .......... 55%  162M 0s\n",
            " 31600K .......... .......... .......... .......... .......... 55%  201M 0s\n",
            " 31650K .......... .......... .......... .......... .......... 55%  187M 0s\n",
            " 31700K .......... .......... .......... .......... .......... 55%  202M 0s\n",
            " 31750K .......... .......... .......... .......... .......... 55%  146M 0s\n",
            " 31800K .......... .......... .......... .......... .......... 55%  198M 0s\n",
            " 31850K .......... .......... .......... .......... .......... 55%  188M 0s\n",
            " 31900K .......... .......... .......... .......... .......... 55%  201M 0s\n",
            " 31950K .......... .......... .......... .......... .......... 56%  159M 0s\n",
            " 32000K .......... .......... .......... .......... .......... 56%  181M 0s\n",
            " 32050K .......... .......... .......... .......... .......... 56%  190M 0s\n",
            " 32100K .......... .......... .......... .......... .......... 56%  188M 0s\n",
            " 32150K .......... .......... .......... .......... .......... 56%  159M 0s\n",
            " 32200K .......... .......... .......... .......... .......... 56%  176M 0s\n",
            " 32250K .......... .......... .......... .......... .......... 56%  180M 0s\n",
            " 32300K .......... .......... .......... .......... .......... 56%  163M 0s\n",
            " 32350K .......... .......... .......... .......... .......... 56%  215M 0s\n",
            " 32400K .......... .......... .......... .......... .......... 56%  195M 0s\n",
            " 32450K .......... .......... .......... .......... .......... 56%  222M 0s\n",
            " 32500K .......... .......... .......... .......... .......... 57%  222M 0s\n",
            " 32550K .......... .......... .......... .......... .......... 57%  181M 0s\n",
            " 32600K .......... .......... .......... .......... .......... 57%  196M 0s\n",
            " 32650K .......... .......... .......... .......... .......... 57%  192M 0s\n",
            " 32700K .......... .......... .......... .......... .......... 57%  178M 0s\n",
            " 32750K .......... .......... .......... .......... .......... 57%  168M 0s\n",
            " 32800K .......... .......... .......... .......... .......... 57%  202M 0s\n",
            " 32850K .......... .......... .......... .......... .......... 57%  216M 0s\n",
            " 32900K .......... .......... .......... .......... .......... 57%  198M 0s\n",
            " 32950K .......... .......... .......... .......... .......... 57%  148M 0s\n",
            " 33000K .......... .......... .......... .......... .......... 57%  178M 0s\n",
            " 33050K .......... .......... .......... .......... .......... 57%  170M 0s\n",
            " 33100K .......... .......... .......... .......... .......... 58%  200M 0s\n",
            " 33150K .......... .......... .......... .......... .......... 58%  157M 0s\n",
            " 33200K .......... .......... .......... .......... .......... 58%  179M 0s\n",
            " 33250K .......... .......... .......... .......... .......... 58%  185M 0s\n",
            " 33300K .......... .......... .......... .......... .......... 58%  180M 0s\n",
            " 33350K .......... .......... .......... .......... .......... 58%  139M 0s\n",
            " 33400K .......... .......... .......... .......... .......... 58%  190M 0s\n",
            " 33450K .......... .......... .......... .......... .......... 58% 43.3M 0s\n",
            " 33500K .......... .......... .......... .......... .......... 58%  194M 0s\n",
            " 33550K .......... .......... .......... .......... .......... 58%  169M 0s\n",
            " 33600K .......... .......... .......... .......... .......... 58%  193M 0s\n",
            " 33650K .......... .......... .......... .......... .......... 59%  186M 0s\n",
            " 33700K .......... .......... .......... .......... .......... 59%  165M 0s\n",
            " 33750K .......... .......... .......... .......... .......... 59%  165M 0s\n",
            " 33800K .......... .......... .......... .......... .......... 59%  195M 0s\n",
            " 33850K .......... .......... .......... .......... .......... 59%  180M 0s\n",
            " 33900K .......... .......... .......... .......... .......... 59%  183M 0s\n",
            " 33950K .......... .......... .......... .......... .......... 59%  177M 0s\n",
            " 34000K .......... .......... .......... .......... .......... 59%  198M 0s\n",
            " 34050K .......... .......... .......... .......... .......... 59%  197M 0s\n",
            " 34100K .......... .......... .......... .......... .......... 59%  181M 0s\n",
            " 34150K .......... .......... .......... .......... .......... 59%  159M 0s\n",
            " 34200K .......... .......... .......... .......... .......... 59%  179M 0s\n",
            " 34250K .......... .......... .......... .......... .......... 60%  183M 0s\n",
            " 34300K .......... .......... .......... .......... .......... 60%  186M 0s\n",
            " 34350K .......... .......... .......... .......... .......... 60%  163M 0s\n",
            " 34400K .......... .......... .......... .......... .......... 60%  194M 0s\n",
            " 34450K .......... .......... .......... .......... .......... 60%  180M 0s\n",
            " 34500K .......... .......... .......... .......... .......... 60%  198M 0s\n",
            " 34550K .......... .......... .......... .......... .......... 60%  152M 0s\n",
            " 34600K .......... .......... .......... .......... .......... 60%  196M 0s\n",
            " 34650K .......... .......... .......... .......... .......... 60%  182M 0s\n",
            " 34700K .......... .......... .......... .......... .......... 60%  170M 0s\n",
            " 34750K .......... .......... .......... .......... .......... 60%  162M 0s\n",
            " 34800K .......... .......... .......... .......... .......... 61%  209M 0s\n",
            " 34850K .......... .......... .......... .......... .......... 61%  180M 0s\n",
            " 34900K .......... .......... .......... .......... .......... 61%  187M 0s\n",
            " 34950K .......... .......... .......... .......... .......... 61%  157M 0s\n",
            " 35000K .......... .......... .......... .......... .......... 61%  174M 0s\n",
            " 35050K .......... .......... .......... .......... .......... 61%  193M 0s\n",
            " 35100K .......... .......... .......... .......... .......... 61%  185M 0s\n",
            " 35150K .......... .......... .......... .......... .......... 61%  163M 0s\n",
            " 35200K .......... .......... .......... .......... .......... 61%  185M 0s\n",
            " 35250K .......... .......... .......... .......... .......... 61%  201M 0s\n",
            " 35300K .......... .......... .......... .......... .......... 61%  177M 0s\n",
            " 35350K .......... .......... .......... .......... .......... 61%  149M 0s\n",
            " 35400K .......... .......... .......... .......... .......... 62%  198M 0s\n",
            " 35450K .......... .......... .......... .......... .......... 62%  184M 0s\n",
            " 35500K .......... .......... .......... .......... .......... 62% 43.4M 0s\n",
            " 35550K .......... .......... .......... .......... .......... 62%  172M 0s\n",
            " 35600K .......... .......... .......... .......... .......... 62%  181M 0s\n",
            " 35650K .......... .......... .......... .......... .......... 62%  190M 0s\n",
            " 35700K .......... .......... .......... .......... .......... 62%  196M 0s\n",
            " 35750K .......... .......... .......... .......... .......... 62%  138M 0s\n",
            " 35800K .......... .......... .......... .......... .......... 62%  196M 0s\n",
            " 35850K .......... .......... .......... .......... .......... 62%  194M 0s\n",
            " 35900K .......... .......... .......... .......... .......... 62%  201M 0s\n",
            " 35950K .......... .......... .......... .......... .......... 63%  150M 0s\n",
            " 36000K .......... .......... .......... .......... .......... 63%  190M 0s\n",
            " 36050K .......... .......... .......... .......... .......... 63%  188M 0s\n",
            " 36100K .......... .......... .......... .......... .......... 63%  201M 0s\n",
            " 36150K .......... .......... .......... .......... .......... 63%  158M 0s\n",
            " 36200K .......... .......... .......... .......... .......... 63%  179M 0s\n",
            " 36250K .......... .......... .......... .......... .......... 63%  170M 0s\n",
            " 36300K .......... .......... .......... .......... .......... 63%  188M 0s\n",
            " 36350K .......... .......... .......... .......... .......... 63%  167M 0s\n",
            " 36400K .......... .......... .......... .......... .......... 63%  184M 0s\n",
            " 36450K .......... .......... .......... .......... .......... 63%  186M 0s\n",
            " 36500K .......... .......... .......... .......... .......... 64%  177M 0s\n",
            " 36550K .......... .......... .......... .......... .......... 64%  158M 0s\n",
            " 36600K .......... .......... .......... .......... .......... 64%  182M 0s\n",
            " 36650K .......... .......... .......... .......... .......... 64%  187M 0s\n",
            " 36700K .......... .......... .......... .......... .......... 64%  198M 0s\n",
            " 36750K .......... .......... .......... .......... .......... 64%  164M 0s\n",
            " 36800K .......... .......... .......... .......... .......... 64%  177M 0s\n",
            " 36850K .......... .......... .......... .......... .......... 64%  174M 0s\n",
            " 36900K .......... .......... .......... .......... .......... 64%  189M 0s\n",
            " 36950K .......... .......... .......... .......... .......... 64%  152M 0s\n",
            " 37000K .......... .......... .......... .......... .......... 64%  188M 0s\n",
            " 37050K .......... .......... .......... .......... .......... 64%  175M 0s\n",
            " 37100K .......... .......... .......... .......... .......... 65%  175M 0s\n",
            " 37150K .......... .......... .......... .......... .......... 65%  159M 0s\n",
            " 37200K .......... .......... .......... .......... .......... 65%  187M 0s\n",
            " 37250K .......... .......... .......... .......... .......... 65%  181M 0s\n",
            " 37300K .......... .......... .......... .......... .......... 65%  196M 0s\n",
            " 37350K .......... .......... .......... .......... .......... 65%  161M 0s\n",
            " 37400K .......... .......... .......... .......... .......... 65%  167M 0s\n",
            " 37450K .......... .......... .......... .......... .......... 65%  187M 0s\n",
            " 37500K .......... .......... .......... .......... .......... 65%  187M 0s\n",
            " 37550K .......... .......... .......... .......... .......... 65% 40.0M 0s\n",
            " 37600K .......... .......... .......... .......... .......... 65%  199M 0s\n",
            " 37650K .......... .......... .......... .......... .......... 66%  198M 0s\n",
            " 37700K .......... .......... .......... .......... .......... 66%  189M 0s\n",
            " 37750K .......... .......... .......... .......... .......... 66%  167M 0s\n",
            " 37800K .......... .......... .......... .......... .......... 66%  182M 0s\n",
            " 37850K .......... .......... .......... .......... .......... 66%  171M 0s\n",
            " 37900K .......... .......... .......... .......... .......... 66%  199M 0s\n",
            " 37950K .......... .......... .......... .......... .......... 66%  166M 0s\n",
            " 38000K .......... .......... .......... .......... .......... 66%  181M 0s\n",
            " 38050K .......... .......... .......... .......... .......... 66%  170M 0s\n",
            " 38100K .......... .......... .......... .......... .......... 66%  188M 0s\n",
            " 38150K .......... .......... .......... .......... .......... 66%  145M 0s\n",
            " 38200K .......... .......... .......... .......... .......... 66%  187M 0s\n",
            " 38250K .......... .......... .......... .......... .......... 67%  195M 0s\n",
            " 38300K .......... .......... .......... .......... .......... 67%  173M 0s\n",
            " 38350K .......... .......... .......... .......... .......... 67%  170M 0s\n",
            " 38400K .......... .......... .......... .......... .......... 67%  191M 0s\n",
            " 38450K .......... .......... .......... .......... .......... 67%  183M 0s\n",
            " 38500K .......... .......... .......... .......... .......... 67%  186M 0s\n",
            " 38550K .......... .......... .......... .......... .......... 67%  166M 0s\n",
            " 38600K .......... .......... .......... .......... .......... 67%  176M 0s\n",
            " 38650K .......... .......... .......... .......... .......... 67%  198M 0s\n",
            " 38700K .......... .......... .......... .......... .......... 67%  187M 0s\n",
            " 38750K .......... .......... .......... .......... .......... 67%  166M 0s\n",
            " 38800K .......... .......... .......... .......... .......... 68%  192M 0s\n",
            " 38850K .......... .......... .......... .......... .......... 68%  193M 0s\n",
            " 38900K .......... .......... .......... .......... .......... 68%  164M 0s\n",
            " 38950K .......... .......... .......... .......... .......... 68%  145M 0s\n",
            " 39000K .......... .......... .......... .......... .......... 68%  192M 0s\n",
            " 39050K .......... .......... .......... .......... .......... 68%  164M 0s\n",
            " 39100K .......... .......... .......... .......... .......... 68%  189M 0s\n",
            " 39150K .......... .......... .......... .......... .......... 68%  156M 0s\n",
            " 39200K .......... .......... .......... .......... .......... 68%  182M 0s\n",
            " 39250K .......... .......... .......... .......... .......... 68%  184M 0s\n",
            " 39300K .......... .......... .......... .......... .......... 68%  184M 0s\n",
            " 39350K .......... .......... .......... .......... .......... 69%  151M 0s\n",
            " 39400K .......... .......... .......... .......... .......... 69%  185M 0s\n",
            " 39450K .......... .......... .......... .......... .......... 69%  177M 0s\n",
            " 39500K .......... .......... .......... .......... .......... 69%  183M 0s\n",
            " 39550K .......... .......... .......... .......... .......... 69%  171M 0s\n",
            " 39600K .......... .......... .......... .......... .......... 69% 43.2M 0s\n",
            " 39650K .......... .......... .......... .......... .......... 69%  185M 0s\n",
            " 39700K .......... .......... .......... .......... .......... 69%  198M 0s\n",
            " 39750K .......... .......... .......... .......... .......... 69%  161M 0s\n",
            " 39800K .......... .......... .......... .......... .......... 69%  183M 0s\n",
            " 39850K .......... .......... .......... .......... .......... 69%  205M 0s\n",
            " 39900K .......... .......... .......... .......... .......... 69%  190M 0s\n",
            " 39950K .......... .......... .......... .......... .......... 70%  158M 0s\n",
            " 40000K .......... .......... .......... .......... .......... 70%  173M 0s\n",
            " 40050K .......... .......... .......... .......... .......... 70%  200M 0s\n",
            " 40100K .......... .......... .......... .......... .......... 70%  185M 0s\n",
            " 40150K .......... .......... .......... .......... .......... 70%  159M 0s\n",
            " 40200K .......... .......... .......... .......... .......... 70%  181M 0s\n",
            " 40250K .......... .......... .......... .......... .......... 70%  184M 0s\n",
            " 40300K .......... .......... .......... .......... .......... 70%  195M 0s\n",
            " 40350K .......... .......... .......... .......... .......... 70%  170M 0s\n",
            " 40400K .......... .......... .......... .......... .......... 70%  186M 0s\n",
            " 40450K .......... .......... .......... .......... .......... 70%  187M 0s\n",
            " 40500K .......... .......... .......... .......... .......... 71%  185M 0s\n",
            " 40550K .......... .......... .......... .......... .......... 71%  143M 0s\n",
            " 40600K .......... .......... .......... .......... .......... 71%  184M 0s\n",
            " 40650K .......... .......... .......... .......... .......... 71%  191M 0s\n",
            " 40700K .......... .......... .......... .......... .......... 71%  189M 0s\n",
            " 40750K .......... .......... .......... .......... .......... 71%  157M 0s\n",
            " 40800K .......... .......... .......... .......... .......... 71%  190M 0s\n",
            " 40850K .......... .......... .......... .......... .......... 71%  201M 0s\n",
            " 40900K .......... .......... .......... .......... .......... 71%  186M 0s\n",
            " 40950K .......... .......... .......... .......... .......... 71%  150M 0s\n",
            " 41000K .......... .......... .......... .......... .......... 71%  184M 0s\n",
            " 41050K .......... .......... .......... .......... .......... 71%  192M 0s\n",
            " 41100K .......... .......... .......... .......... .......... 72%  177M 0s\n",
            " 41150K .......... .......... .......... .......... .......... 72%  168M 0s\n",
            " 41200K .......... .......... .......... .......... .......... 72%  187M 0s\n",
            " 41250K .......... .......... .......... .......... .......... 72%  175M 0s\n",
            " 41300K .......... .......... .......... .......... .......... 72%  177M 0s\n",
            " 41350K .......... .......... .......... .......... .......... 72%  152M 0s\n",
            " 41400K .......... .......... .......... .......... .......... 72%  186M 0s\n",
            " 41450K .......... .......... .......... .......... .......... 72%  106M 0s\n",
            " 41500K .......... .......... .......... .......... .......... 72%  163M 0s\n",
            " 41550K .......... .......... .......... .......... .......... 72%  157M 0s\n",
            " 41600K .......... .......... .......... .......... .......... 72%  166M 0s\n",
            " 41650K .......... .......... .......... .......... .......... 73% 43.5M 0s\n",
            " 41700K .......... .......... .......... .......... .......... 73%  165M 0s\n",
            " 41750K .......... .......... .......... .......... .......... 73%  146M 0s\n",
            " 41800K .......... .......... .......... .......... .......... 73%  171M 0s\n",
            " 41850K .......... .......... .......... .......... .......... 73%  175M 0s\n",
            " 41900K .......... .......... .......... .......... .......... 73%  194M 0s\n",
            " 41950K .......... .......... .......... .......... .......... 73%  155M 0s\n",
            " 42000K .......... .......... .......... .......... .......... 73%  164M 0s\n",
            " 42050K .......... .......... .......... .......... .......... 73%  184M 0s\n",
            " 42100K .......... .......... .......... .......... .......... 73%  195M 0s\n",
            " 42150K .......... .......... .......... .......... .......... 73%  148M 0s\n",
            " 42200K .......... .......... .......... .......... .......... 73%  161M 0s\n",
            " 42250K .......... .......... .......... .......... .......... 74%  178M 0s\n",
            " 42300K .......... .......... .......... .......... .......... 74%  165M 0s\n",
            " 42350K .......... .......... .......... .......... .......... 74%  176M 0s\n",
            " 42400K .......... .......... .......... .......... .......... 74%  172M 0s\n",
            " 42450K .......... .......... .......... .......... .......... 74%  180M 0s\n",
            " 42500K .......... .......... .......... .......... .......... 74%  176M 0s\n",
            " 42550K .......... .......... .......... .......... .......... 74%  171M 0s\n",
            " 42600K .......... .......... .......... .......... .......... 74%  191M 0s\n",
            " 42650K .......... .......... .......... .......... .......... 74%  168M 0s\n",
            " 42700K .......... .......... .......... .......... .......... 74%  195M 0s\n",
            " 42750K .......... .......... .......... .......... .......... 74%  154M 0s\n",
            " 42800K .......... .......... .......... .......... .......... 75%  187M 0s\n",
            " 42850K .......... .......... .......... .......... .......... 75%  184M 0s\n",
            " 42900K .......... .......... .......... .......... .......... 75%  197M 0s\n",
            " 42950K .......... .......... .......... .......... .......... 75%  152M 0s\n",
            " 43000K .......... .......... .......... .......... .......... 75%  170M 0s\n",
            " 43050K .......... .......... .......... .......... .......... 75%  179M 0s\n",
            " 43100K .......... .......... .......... .......... .......... 75%  182M 0s\n",
            " 43150K .......... .......... .......... .......... .......... 75%  163M 0s\n",
            " 43200K .......... .......... .......... .......... .......... 75%  173M 0s\n",
            " 43250K .......... .......... .......... .......... .......... 75%  174M 0s\n",
            " 43300K .......... .......... .......... .......... .......... 75%  178M 0s\n",
            " 43350K .......... .......... .......... .......... .......... 76%  149M 0s\n",
            " 43400K .......... .......... .......... .......... .......... 76%  184M 0s\n",
            " 43450K .......... .......... .......... .......... .......... 76%  186M 0s\n",
            " 43500K .......... .......... .......... .......... .......... 76%  169M 0s\n",
            " 43550K .......... .......... .......... .......... .......... 76%  154M 0s\n",
            " 43600K .......... .......... .......... .......... .......... 76%  193M 0s\n",
            " 43650K .......... .......... .......... .......... .......... 76%  178M 0s\n",
            " 43700K .......... .......... .......... .......... .......... 76% 42.5M 0s\n",
            " 43750K .......... .......... .......... .......... .......... 76%  149M 0s\n",
            " 43800K .......... .......... .......... .......... .......... 76%  197M 0s\n",
            " 43850K .......... .......... .......... .......... .......... 76%  191M 0s\n",
            " 43900K .......... .......... .......... .......... .......... 76%  182M 0s\n",
            " 43950K .......... .......... .......... .......... .......... 77%  167M 0s\n",
            " 44000K .......... .......... .......... .......... .......... 77%  175M 0s\n",
            " 44050K .......... .......... .......... .......... .......... 77%  188M 0s\n",
            " 44100K .......... .......... .......... .......... .......... 77%  186M 0s\n",
            " 44150K .......... .......... .......... .......... .......... 77%  160M 0s\n",
            " 44200K .......... .......... .......... .......... .......... 77%  181M 0s\n",
            " 44250K .......... .......... .......... .......... .......... 77%  185M 0s\n",
            " 44300K .......... .......... .......... .......... .......... 77%  197M 0s\n",
            " 44350K .......... .......... .......... .......... .......... 77%  172M 0s\n",
            " 44400K .......... .......... .......... .......... .......... 77%  182M 0s\n",
            " 44450K .......... .......... .......... .......... .......... 77%  205M 0s\n",
            " 44500K .......... .......... .......... .......... .......... 78%  170M 0s\n",
            " 44550K .......... .......... .......... .......... .......... 78%  151M 0s\n",
            " 44600K .......... .......... .......... .......... .......... 78%  180M 0s\n",
            " 44650K .......... .......... .......... .......... .......... 78%  175M 0s\n",
            " 44700K .......... .......... .......... .......... .......... 78%  195M 0s\n",
            " 44750K .......... .......... .......... .......... .......... 78%  149M 0s\n",
            " 44800K .......... .......... .......... .......... .......... 78%  183M 0s\n",
            " 44850K .......... .......... .......... .......... .......... 78%  214M 0s\n",
            " 44900K .......... .......... .......... .......... .......... 78%  202M 0s\n",
            " 44950K .......... .......... .......... .......... .......... 78%  164M 0s\n",
            " 45000K .......... .......... .......... .......... .......... 78%  200M 0s\n",
            " 45050K .......... .......... .......... .......... .......... 78%  170M 0s\n",
            " 45100K .......... .......... .......... .......... .......... 79%  236M 0s\n",
            " 45150K .......... .......... .......... .......... .......... 79%  164M 0s\n",
            " 45200K .......... .......... .......... .......... .......... 79%  169M 0s\n",
            " 45250K .......... .......... .......... .......... .......... 79%  188M 0s\n",
            " 45300K .......... .......... .......... .......... .......... 79%  176M 0s\n",
            " 45350K .......... .......... .......... .......... .......... 79%  150M 0s\n",
            " 45400K .......... .......... .......... .......... .......... 79%  186M 0s\n",
            " 45450K .......... .......... .......... .......... .......... 79%  181M 0s\n",
            " 45500K .......... .......... .......... .......... .......... 79%  183M 0s\n",
            " 45550K .......... .......... .......... .......... .......... 79%  161M 0s\n",
            " 45600K .......... .......... .......... .......... .......... 79%  192M 0s\n",
            " 45650K .......... .......... .......... .......... .......... 80%  178M 0s\n",
            " 45700K .......... .......... .......... .......... .......... 80%  187M 0s\n",
            " 45750K .......... .......... .......... .......... .......... 80% 42.6M 0s\n",
            " 45800K .......... .......... .......... .......... .......... 80%  192M 0s\n",
            " 45850K .......... .......... .......... .......... .......... 80%  187M 0s\n",
            " 45900K .......... .......... .......... .......... .......... 80%  182M 0s\n",
            " 45950K .......... .......... .......... .......... .......... 80%  164M 0s\n",
            " 46000K .......... .......... .......... .......... .......... 80%  191M 0s\n",
            " 46050K .......... .......... .......... .......... .......... 80%  179M 0s\n",
            " 46100K .......... .......... .......... .......... .......... 80%  190M 0s\n",
            " 46150K .......... .......... .......... .......... .......... 80%  147M 0s\n",
            " 46200K .......... .......... .......... .......... .......... 81%  200M 0s\n",
            " 46250K .......... .......... .......... .......... .......... 81%  190M 0s\n",
            " 46300K .......... .......... .......... .......... .......... 81%  182M 0s\n",
            " 46350K .......... .......... .......... .......... .......... 81%  171M 0s\n",
            " 46400K .......... .......... .......... .......... .......... 81%  188M 0s\n",
            " 46450K .......... .......... .......... .......... .......... 81%  191M 0s\n",
            " 46500K .......... .......... .......... .......... .......... 81%  181M 0s\n",
            " 46550K .......... .......... .......... .......... .......... 81%  151M 0s\n",
            " 46600K .......... .......... .......... .......... .......... 81%  192M 0s\n",
            " 46650K .......... .......... .......... .......... .......... 81%  188M 0s\n",
            " 46700K .......... .......... .......... .......... .......... 81%  175M 0s\n",
            " 46750K .......... .......... .......... .......... .......... 81%  177M 0s\n",
            " 46800K .......... .......... .......... .......... .......... 82%  184M 0s\n",
            " 46850K .......... .......... .......... .......... .......... 82%  189M 0s\n",
            " 46900K .......... .......... .......... .......... .......... 82%  185M 0s\n",
            " 46950K .......... .......... .......... .......... .......... 82%  168M 0s\n",
            " 47000K .......... .......... .......... .......... .......... 82%  191M 0s\n",
            " 47050K .......... .......... .......... .......... .......... 82%  203M 0s\n",
            " 47100K .......... .......... .......... .......... .......... 82%  187M 0s\n",
            " 47150K .......... .......... .......... .......... .......... 82%  155M 0s\n",
            " 47200K .......... .......... .......... .......... .......... 82%  198M 0s\n",
            " 47250K .......... .......... .......... .......... .......... 82%  182M 0s\n",
            " 47300K .......... .......... .......... .......... .......... 82%  186M 0s\n",
            " 47350K .......... .......... .......... .......... .......... 83%  157M 0s\n",
            " 47400K .......... .......... .......... .......... .......... 83%  174M 0s\n",
            " 47450K .......... .......... .......... .......... .......... 83%  185M 0s\n",
            " 47500K .......... .......... .......... .......... .......... 83%  192M 0s\n",
            " 47550K .......... .......... .......... .......... .......... 83%  165M 0s\n",
            " 47600K .......... .......... .......... .......... .......... 83%  190M 0s\n",
            " 47650K .......... .......... .......... .......... .......... 83%  178M 0s\n",
            " 47700K .......... .......... .......... .......... .......... 83%  197M 0s\n",
            " 47750K .......... .......... .......... .......... .......... 83%  149M 0s\n",
            " 47800K .......... .......... .......... .......... .......... 83% 43.0M 0s\n",
            " 47850K .......... .......... .......... .......... .......... 83%  191M 0s\n",
            " 47900K .......... .......... .......... .......... .......... 83%  201M 0s\n",
            " 47950K .......... .......... .......... .......... .......... 84%  175M 0s\n",
            " 48000K .......... .......... .......... .......... .......... 84%  176M 0s\n",
            " 48050K .......... .......... .......... .......... .......... 84%  198M 0s\n",
            " 48100K .......... .......... .......... .......... .......... 84%  169M 0s\n",
            " 48150K .......... .......... .......... .......... .......... 84%  153M 0s\n",
            " 48200K .......... .......... .......... .......... .......... 84%  179M 0s\n",
            " 48250K .......... .......... .......... .......... .......... 84%  197M 0s\n",
            " 48300K .......... .......... .......... .......... .......... 84%  182M 0s\n",
            " 48350K .......... .......... .......... .......... .......... 84%  179M 0s\n",
            " 48400K .......... .......... .......... .......... .......... 84%  181M 0s\n",
            " 48450K .......... .......... .......... .......... .......... 84%  192M 0s\n",
            " 48500K .......... .......... .......... .......... .......... 85%  184M 0s\n",
            " 48550K .......... .......... .......... .......... .......... 85%  159M 0s\n",
            " 48600K .......... .......... .......... .......... .......... 85%  175M 0s\n",
            " 48650K .......... .......... .......... .......... .......... 85%  186M 0s\n",
            " 48700K .......... .......... .......... .......... .......... 85%  199M 0s\n",
            " 48750K .......... .......... .......... .......... .......... 85%  155M 0s\n",
            " 48800K .......... .......... .......... .......... .......... 85%  190M 0s\n",
            " 48850K .......... .......... .......... .......... .......... 85%  186M 0s\n",
            " 48900K .......... .......... .......... .......... .......... 85%  197M 0s\n",
            " 48950K .......... .......... .......... .......... .......... 85%  143M 0s\n",
            " 49000K .......... .......... .......... .......... .......... 85%  192M 0s\n",
            " 49050K .......... .......... .......... .......... .......... 85%  194M 0s\n",
            " 49100K .......... .......... .......... .......... .......... 86%  184M 0s\n",
            " 49150K .......... .......... .......... .......... .......... 86%  175M 0s\n",
            " 49200K .......... .......... .......... .......... .......... 86%  195M 0s\n",
            " 49250K .......... .......... .......... .......... .......... 86%  199M 0s\n",
            " 49300K .......... .......... .......... .......... .......... 86%  164M 0s\n",
            " 49350K .......... .......... .......... .......... .......... 86%  151M 0s\n",
            " 49400K .......... .......... .......... .......... .......... 86%  181M 0s\n",
            " 49450K .......... .......... .......... .......... .......... 86%  190M 0s\n",
            " 49500K .......... .......... .......... .......... .......... 86%  185M 0s\n",
            " 49550K .......... .......... .......... .......... .......... 86%  163M 0s\n",
            " 49600K .......... .......... .......... .......... .......... 86%  182M 0s\n",
            " 49650K .......... .......... .......... .......... .......... 87%  176M 0s\n",
            " 49700K .......... .......... .......... .......... .......... 87%  192M 0s\n",
            " 49750K .......... .......... .......... .......... .......... 87%  153M 0s\n",
            " 49800K .......... .......... .......... .......... .......... 87%  182M 0s\n",
            " 49850K .......... .......... .......... .......... .......... 87% 40.9M 0s\n",
            " 49900K .......... .......... .......... .......... .......... 87%  192M 0s\n",
            " 49950K .......... .......... .......... .......... .......... 87%  168M 0s\n",
            " 50000K .......... .......... .......... .......... .......... 87%  199M 0s\n",
            " 50050K .......... .......... .......... .......... .......... 87%  184M 0s\n",
            " 50100K .......... .......... .......... .......... .......... 87%  182M 0s\n",
            " 50150K .......... .......... .......... .......... .......... 87%  160M 0s\n",
            " 50200K .......... .......... .......... .......... .......... 88%  185M 0s\n",
            " 50250K .......... .......... .......... .......... .......... 88%  178M 0s\n",
            " 50300K .......... .......... .......... .......... .......... 88%  196M 0s\n",
            " 50350K .......... .......... .......... .......... .......... 88%  161M 0s\n",
            " 50400K .......... .......... .......... .......... .......... 88%  186M 0s\n",
            " 50450K .......... .......... .......... .......... .......... 88%  201M 0s\n",
            " 50500K .......... .......... .......... .......... .......... 88%  203M 0s\n",
            " 50550K .......... .......... .......... .......... .......... 88%  163M 0s\n",
            " 50600K .......... .......... .......... .......... .......... 88%  169M 0s\n",
            " 50650K .......... .......... .......... .......... .......... 88%  197M 0s\n",
            " 50700K .......... .......... .......... .......... .......... 88%  183M 0s\n",
            " 50750K .......... .......... .......... .......... .......... 88%  168M 0s\n",
            " 50800K .......... .......... .......... .......... .......... 89%  175M 0s\n",
            " 50850K .......... .......... .......... .......... .......... 89%  185M 0s\n",
            " 50900K .......... .......... .......... .......... .......... 89%  191M 0s\n",
            " 50950K .......... .......... .......... .......... .......... 89%  148M 0s\n",
            " 51000K .......... .......... .......... .......... .......... 89%  198M 0s\n",
            " 51050K .......... .......... .......... .......... .......... 89%  179M 0s\n",
            " 51100K .......... .......... .......... .......... .......... 89%  183M 0s\n",
            " 51150K .......... .......... .......... .......... .......... 89%  168M 0s\n",
            " 51200K .......... .......... .......... .......... .......... 89%  201M 0s\n",
            " 51250K .......... .......... .......... .......... .......... 89%  190M 0s\n",
            " 51300K .......... .......... .......... .......... .......... 89%  196M 0s\n",
            " 51350K .......... .......... .......... .......... .......... 90%  154M 0s\n",
            " 51400K .......... .......... .......... .......... .......... 90%  180M 0s\n",
            " 51450K .......... .......... .......... .......... .......... 90%  194M 0s\n",
            " 51500K .......... .......... .......... .......... .......... 90%  170M 0s\n",
            " 51550K .......... .......... .......... .......... .......... 90%  162M 0s\n",
            " 51600K .......... .......... .......... .......... .......... 90%  180M 0s\n",
            " 51650K .......... .......... .......... .......... .......... 90%  183M 0s\n",
            " 51700K .......... .......... .......... .......... .......... 90%  176M 0s\n",
            " 51750K .......... .......... .......... .......... .......... 90%  159M 0s\n",
            " 51800K .......... .......... .......... .......... .......... 90%  187M 0s\n",
            " 51850K .......... .......... .......... .......... .......... 90%  167M 0s\n",
            " 51900K .......... .......... .......... .......... .......... 90% 43.7M 0s\n",
            " 51950K .......... .......... .......... .......... .......... 91%  152M 0s\n",
            " 52000K .......... .......... .......... .......... .......... 91%  160M 0s\n",
            " 52050K .......... .......... .......... .......... .......... 91%  191M 0s\n",
            " 52100K .......... .......... .......... .......... .......... 91%  186M 0s\n",
            " 52150K .......... .......... .......... .......... .......... 91%  155M 0s\n",
            " 52200K .......... .......... .......... .......... .......... 91%  187M 0s\n",
            " 52250K .......... .......... .......... .......... .......... 91%  172M 0s\n",
            " 52300K .......... .......... .......... .......... .......... 91%  198M 0s\n",
            " 52350K .......... .......... .......... .......... .......... 91%  167M 0s\n",
            " 52400K .......... .......... .......... .......... .......... 91%  179M 0s\n",
            " 52450K .......... .......... .......... .......... .......... 91%  134M 0s\n",
            " 52500K .......... .......... .......... .......... .......... 92%  175M 0s\n",
            " 52550K .......... .......... .......... .......... .......... 92%  160M 0s\n",
            " 52600K .......... .......... .......... .......... .......... 92%  167M 0s\n",
            " 52650K .......... .......... .......... .......... .......... 92%  169M 0s\n",
            " 52700K .......... .......... .......... .......... .......... 92%  176M 0s\n",
            " 52750K .......... .......... .......... .......... .......... 92%  154M 0s\n",
            " 52800K .......... .......... .......... .......... .......... 92%  182M 0s\n",
            " 52850K .......... .......... .......... .......... .......... 92%  174M 0s\n",
            " 52900K .......... .......... .......... .......... .......... 92%  185M 0s\n",
            " 52950K .......... .......... .......... .......... .......... 92%  143M 0s\n",
            " 53000K .......... .......... .......... .......... .......... 92%  184M 0s\n",
            " 53050K .......... .......... .......... .......... .......... 92%  180M 0s\n",
            " 53100K .......... .......... .......... .......... .......... 93%  161M 0s\n",
            " 53150K .......... .......... .......... .......... .......... 93%  172M 0s\n",
            " 53200K .......... .......... .......... .......... .......... 93%  192M 0s\n",
            " 53250K .......... .......... .......... .......... .......... 93%  191M 0s\n",
            " 53300K .......... .......... .......... .......... .......... 93%  192M 0s\n",
            " 53350K .......... .......... .......... .......... .......... 93%  156M 0s\n",
            " 53400K .......... .......... .......... .......... .......... 93%  166M 0s\n",
            " 53450K .......... .......... .......... .......... .......... 93%  192M 0s\n",
            " 53500K .......... .......... .......... .......... .......... 93%  181M 0s\n",
            " 53550K .......... .......... .......... .......... .......... 93%  161M 0s\n",
            " 53600K .......... .......... .......... .......... .......... 93%  186M 0s\n",
            " 53650K .......... .......... .......... .......... .......... 94%  170M 0s\n",
            " 53700K .......... .......... .......... .......... .......... 94%  184M 0s\n",
            " 53750K .......... .......... .......... .......... .......... 94%  144M 0s\n",
            " 53800K .......... .......... .......... .......... .......... 94%  188M 0s\n",
            " 53850K .......... .......... .......... .......... .......... 94%  171M 0s\n",
            " 53900K .......... .......... .......... .......... .......... 94%  174M 0s\n",
            " 53950K .......... .......... .......... .......... .......... 94% 40.9M 0s\n",
            " 54000K .......... .......... .......... .......... .......... 94%  179M 0s\n",
            " 54050K .......... .......... .......... .......... .......... 94%  171M 0s\n",
            " 54100K .......... .......... .......... .......... .......... 94%  187M 0s\n",
            " 54150K .......... .......... .......... .......... .......... 94%  166M 0s\n",
            " 54200K .......... .......... .......... .......... .......... 95%  181M 0s\n",
            " 54250K .......... .......... .......... .......... .......... 95%  184M 0s\n",
            " 54300K .......... .......... .......... .......... .......... 95%  183M 0s\n",
            " 54350K .......... .......... .......... .......... .......... 95%  166M 0s\n",
            " 54400K .......... .......... .......... .......... .......... 95%  138M 0s\n",
            " 54450K .......... .......... .......... .......... .......... 95%  168M 0s\n",
            " 54500K .......... .......... .......... .......... .......... 95%  196M 0s\n",
            " 54550K .......... .......... .......... .......... .......... 95%  157M 0s\n",
            " 54600K .......... .......... .......... .......... .......... 95%  195M 0s\n",
            " 54650K .......... .......... .......... .......... .......... 95%  167M 0s\n",
            " 54700K .......... .......... .......... .......... .......... 95%  187M 0s\n",
            " 54750K .......... .......... .......... .......... .......... 95%  157M 0s\n",
            " 54800K .......... .......... .......... .......... .......... 96%  161M 0s\n",
            " 54850K .......... .......... .......... .......... .......... 96%  185M 0s\n",
            " 54900K .......... .......... .......... .......... .......... 96%  184M 0s\n",
            " 54950K .......... .......... .......... .......... .......... 96%  148M 0s\n",
            " 55000K .......... .......... .......... .......... .......... 96%  179M 0s\n",
            " 55050K .......... .......... .......... .......... .......... 96%  193M 0s\n",
            " 55100K .......... .......... .......... .......... .......... 96%  171M 0s\n",
            " 55150K .......... .......... .......... .......... .......... 96%  169M 0s\n",
            " 55200K .......... .......... .......... .......... .......... 96%  195M 0s\n",
            " 55250K .......... .......... .......... .......... .......... 96%  201M 0s\n",
            " 55300K .......... .......... .......... .......... .......... 96%  171M 0s\n",
            " 55350K .......... .......... .......... .......... .......... 97%  161M 0s\n",
            " 55400K .......... .......... .......... .......... .......... 97%  193M 0s\n",
            " 55450K .......... .......... .......... .......... .......... 97%  160M 0s\n",
            " 55500K .......... .......... .......... .......... .......... 97%  176M 0s\n",
            " 55550K .......... .......... .......... .......... .......... 97%  162M 0s\n",
            " 55600K .......... .......... .......... .......... .......... 97%  192M 0s\n",
            " 55650K .......... .......... .......... .......... .......... 97%  186M 0s\n",
            " 55700K .......... .......... .......... .......... .......... 97%  195M 0s\n",
            " 55750K .......... .......... .......... .......... .......... 97%  158M 0s\n",
            " 55800K .......... .......... .......... .......... .......... 97%  193M 0s\n",
            " 55850K .......... .......... .......... .......... .......... 97%  196M 0s\n",
            " 55900K .......... .......... .......... .......... .......... 97%  185M 0s\n",
            " 55950K .......... .......... .......... .......... .......... 98%  178M 0s\n",
            " 56000K .......... .......... .......... .......... .......... 98% 45.3M 0s\n",
            " 56050K .......... .......... .......... .......... .......... 98%  190M 0s\n",
            " 56100K .......... .......... .......... .......... .......... 98%  199M 0s\n",
            " 56150K .......... .......... .......... .......... .......... 98%  161M 0s\n",
            " 56200K .......... .......... .......... .......... .......... 98%  204M 0s\n",
            " 56250K .......... .......... .......... .......... .......... 98%  187M 0s\n",
            " 56300K .......... .......... .......... .......... .......... 98%  195M 0s\n",
            " 56350K .......... .......... .......... .......... .......... 98%  181M 0s\n",
            " 56400K .......... .......... .......... .......... .......... 98%  201M 0s\n",
            " 56450K .......... .......... .......... .......... .......... 98%  188M 0s\n",
            " 56500K .......... .......... .......... .......... .......... 99%  198M 0s\n",
            " 56550K .......... .......... .......... .......... .......... 99%  168M 0s\n",
            " 56600K .......... .......... .......... .......... .......... 99%  187M 0s\n",
            " 56650K .......... .......... .......... .......... .......... 99%  202M 0s\n",
            " 56700K .......... .......... .......... .......... .......... 99%  194M 0s\n",
            " 56750K .......... .......... .......... .......... .......... 99%  186M 0s\n",
            " 56800K .......... .......... .......... .......... .......... 99%  191M 0s\n",
            " 56850K .......... .......... .......... .......... .......... 99%  197M 0s\n",
            " 56900K .......... .......... .......... .......... .......... 99%  199M 0s\n",
            " 56950K .......... .......... .......... .......... .......... 99%  166M 0s\n",
            " 57000K .......... .......... .......... .......... .......... 99%  190M 0s\n",
            " 57050K .......... .......... .......... .......... ........  100%  201M=0.4s\n",
            "\n",
            "2020-07-14 10:56:59 (138 MB/s) - ‘Miniconda3-4.5.4-Linux-x86_64.sh’ saved [58468498/58468498]\n",
            "\n",
            "Python 3.6.5 :: Anaconda, Inc.\n"
          ],
          "name": "stderr"
        }
      ]
    },
    {
      "cell_type": "code",
      "metadata": {
        "id": "FFwC1g-a-HB-",
        "colab_type": "code",
        "colab": {
          "base_uri": "https://localhost:8080/",
          "height": 34
        },
        "outputId": "cc651315-e6d0-417a-bb4b-e5d9c58135c4"
      },
      "source": [
        "!which conda # should return /usr/local/bin/conda\n"
      ],
      "execution_count": null,
      "outputs": [
        {
          "output_type": "stream",
          "text": [
            "/usr/local/bin/conda\n"
          ],
          "name": "stdout"
        }
      ]
    },
    {
      "cell_type": "code",
      "metadata": {
        "id": "a2lworkz-Pzb",
        "colab_type": "code",
        "colab": {
          "base_uri": "https://localhost:8080/",
          "height": 34
        },
        "outputId": "1abdc6fe-7ef1-4a72-ee75-2eb166bb1277"
      },
      "source": [
        "!conda --version # should return 4.5.4\n"
      ],
      "execution_count": null,
      "outputs": [
        {
          "output_type": "stream",
          "text": [
            "conda 4.5.4\n"
          ],
          "name": "stdout"
        }
      ]
    },
    {
      "cell_type": "code",
      "metadata": {
        "id": "aFEuBM9I-SEJ",
        "colab_type": "code",
        "colab": {
          "base_uri": "https://localhost:8080/",
          "height": 34
        },
        "outputId": "6f965e5a-b1c4-4838-8d32-672b791e8cda"
      },
      "source": [
        "!which python # still returns /usr/local/bin/python\n"
      ],
      "execution_count": null,
      "outputs": [
        {
          "output_type": "stream",
          "text": [
            "/usr/local/bin/python\n"
          ],
          "name": "stdout"
        }
      ]
    },
    {
      "cell_type": "code",
      "metadata": {
        "id": "pTtz9enQ-Vb2",
        "colab_type": "code",
        "colab": {
          "base_uri": "https://localhost:8080/",
          "height": 34
        },
        "outputId": "8480caef-bfda-4226-ee85-ceca60e2ede1"
      },
      "source": [
        "!python --version # now returns Python 3.6.5 :: Anaconda, Inc.\n"
      ],
      "execution_count": null,
      "outputs": [
        {
          "output_type": "stream",
          "text": [
            "Python 3.6.5 :: Anaconda, Inc.\n"
          ],
          "name": "stdout"
        }
      ]
    },
    {
      "cell_type": "code",
      "metadata": {
        "id": "FmhgG7vK-Xkb",
        "colab_type": "code",
        "colab": {
          "base_uri": "https://localhost:8080/",
          "height": 1000
        },
        "outputId": "1edfb13b-13fe-4827-b2ae-a88ef39b3423"
      },
      "source": [
        "%%bash\n",
        "conda install --channel defaults conda python=3.6 --yes\n",
        "conda update --channel defaults --all --yes"
      ],
      "execution_count": null,
      "outputs": [
        {
          "output_type": "stream",
          "text": [
            "Solving environment: ...working... done\n",
            "\n",
            "## Package Plan ##\n",
            "\n",
            "  environment location: /usr/local\n",
            "\n",
            "  added / updated specs: \n",
            "    - conda\n",
            "    - python=3.6\n",
            "\n",
            "\n",
            "The following packages will be downloaded:\n",
            "\n",
            "    package                    |            build\n",
            "    ---------------------------|-----------------\n",
            "    sqlite-3.32.3              |       h62c20be_0         2.0 MB\n",
            "    yaml-0.2.5                 |       h7b6447c_0          87 KB\n",
            "    idna-2.10                  |             py_0          56 KB\n",
            "    certifi-2020.6.20          |           py36_0         160 KB\n",
            "    cryptography-2.9.2         |   py36h1ba5d50_0         626 KB\n",
            "    openssl-1.1.1g             |       h7b6447c_0         3.8 MB\n",
            "    six-1.15.0                 |             py_0          13 KB\n",
            "    tk-8.6.10                  |       hbc83047_0         3.2 MB\n",
            "    zlib-1.2.11                |       h7b6447c_3         120 KB\n",
            "    requests-2.24.0            |             py_0          54 KB\n",
            "    cffi-1.14.0                |   py36he30daa8_1         226 KB\n",
            "    ld_impl_linux-64-2.33.1    |       h53a641e_7         645 KB\n",
            "    _libgcc_mutex-0.1          |             main           3 KB\n",
            "    ca-certificates-2020.6.24  |                0         133 KB\n",
            "    xz-5.2.5                   |       h7b6447c_0         438 KB\n",
            "    python-3.6.10              |       h7579374_2        33.9 MB\n",
            "    wheel-0.34.2               |           py36_0          49 KB\n",
            "    libffi-3.3                 |       he6710b0_2          54 KB\n",
            "    tqdm-4.47.0                |             py_0          62 KB\n",
            "    conda-package-handling-1.6.1|   py36h7b6447c_0         886 KB\n",
            "    chardet-3.0.4              |        py36_1003         197 KB\n",
            "    libstdcxx-ng-9.1.0         |       hdf63c60_0         4.0 MB\n",
            "    pysocks-1.7.1              |           py36_0          30 KB\n",
            "    brotlipy-0.7.0             |py36h7b6447c_1000         348 KB\n",
            "    pycparser-2.20             |             py_2          94 KB\n",
            "    pip-20.1.1                 |           py36_1         2.0 MB\n",
            "    conda-4.8.3                |           py36_0         3.0 MB\n",
            "    pyopenssl-19.1.0           |             py_1          47 KB\n",
            "    libedit-3.1.20191231       |       h14c3975_1         121 KB\n",
            "    setuptools-47.3.1          |           py36_0         647 KB\n",
            "    urllib3-1.25.9             |             py_0          98 KB\n",
            "    pycosat-0.6.3              |   py36h7b6447c_0         107 KB\n",
            "    ncurses-6.2                |       he6710b0_1         1.1 MB\n",
            "    ruamel_yaml-0.15.87        |   py36h7b6447c_1         256 KB\n",
            "    readline-8.0               |       h7b6447c_0         428 KB\n",
            "    libgcc-ng-9.1.0            |       hdf63c60_0         8.1 MB\n",
            "    ------------------------------------------------------------\n",
            "                                           Total:        67.1 MB\n",
            "\n",
            "The following NEW packages will be INSTALLED:\n",
            "\n",
            "    _libgcc_mutex:          0.1-main               \n",
            "    brotlipy:               0.7.0-py36h7b6447c_1000\n",
            "    conda-package-handling: 1.6.1-py36h7b6447c_0   \n",
            "    ld_impl_linux-64:       2.33.1-h53a641e_7      \n",
            "    tqdm:                   4.47.0-py_0            \n",
            "\n",
            "The following packages will be UPDATED:\n",
            "\n",
            "    ca-certificates:        2018.03.07-0            --> 2020.6.24-0            \n",
            "    certifi:                2018.4.16-py36_0        --> 2020.6.20-py36_0       \n",
            "    cffi:                   1.11.5-py36h9745a5d_0   --> 1.14.0-py36he30daa8_1  \n",
            "    chardet:                3.0.4-py36h0f667ec_1    --> 3.0.4-py36_1003        \n",
            "    conda:                  4.5.4-py36_0            --> 4.8.3-py36_0           \n",
            "    cryptography:           2.2.2-py36h14c3975_0    --> 2.9.2-py36h1ba5d50_0   \n",
            "    idna:                   2.6-py36h82fb2a8_1      --> 2.10-py_0              \n",
            "    libedit:                3.1.20170329-h6b74fdf_2 --> 3.1.20191231-h14c3975_1\n",
            "    libffi:                 3.2.1-hd88cf55_4        --> 3.3-he6710b0_2         \n",
            "    libgcc-ng:              7.2.0-hdf63c60_3        --> 9.1.0-hdf63c60_0       \n",
            "    libstdcxx-ng:           7.2.0-hdf63c60_3        --> 9.1.0-hdf63c60_0       \n",
            "    ncurses:                6.1-hf484d3e_0          --> 6.2-he6710b0_1         \n",
            "    openssl:                1.0.2o-h20670df_0       --> 1.1.1g-h7b6447c_0      \n",
            "    pip:                    10.0.1-py36_0           --> 20.1.1-py36_1          \n",
            "    pycosat:                0.6.3-py36h0a5515d_0    --> 0.6.3-py36h7b6447c_0   \n",
            "    pycparser:              2.18-py36hf9f622e_1     --> 2.20-py_2              \n",
            "    pyopenssl:              18.0.0-py36_0           --> 19.1.0-py_1            \n",
            "    pysocks:                1.6.8-py36_0            --> 1.7.1-py36_0           \n",
            "    python:                 3.6.5-hc3d631a_2        --> 3.6.10-h7579374_2      \n",
            "    readline:               7.0-ha6073c6_4          --> 8.0-h7b6447c_0         \n",
            "    requests:               2.18.4-py36he2e5f8d_1   --> 2.24.0-py_0            \n",
            "    ruamel_yaml:            0.15.37-py36h14c3975_2  --> 0.15.87-py36h7b6447c_1 \n",
            "    setuptools:             39.2.0-py36_0           --> 47.3.1-py36_0          \n",
            "    six:                    1.11.0-py36h372c433_1   --> 1.15.0-py_0            \n",
            "    sqlite:                 3.23.1-he433501_0       --> 3.32.3-h62c20be_0      \n",
            "    tk:                     8.6.7-hc745277_3        --> 8.6.10-hbc83047_0      \n",
            "    urllib3:                1.22-py36hbe7ace6_0     --> 1.25.9-py_0            \n",
            "    wheel:                  0.31.1-py36_0           --> 0.34.2-py36_0          \n",
            "    xz:                     5.2.4-h14c3975_4        --> 5.2.5-h7b6447c_0       \n",
            "    yaml:                   0.1.7-had09818_2        --> 0.2.5-h7b6447c_0       \n",
            "    zlib:                   1.2.11-ha838bed_2       --> 1.2.11-h7b6447c_3      \n",
            "\n",
            "\n",
            "Downloading and Extracting Packages\n",
            "Preparing transaction: ...working... done\n",
            "Verifying transaction: ...working... done\n",
            "Executing transaction: ...working... done\n",
            "Collecting package metadata (current_repodata.json): ...working... done\n",
            "Solving environment: ...working... done\n",
            "\n",
            "## Package Plan ##\n",
            "\n",
            "  environment location: /usr/local\n",
            "\n",
            "\n",
            "The following packages will be REMOVED:\n",
            "\n",
            "  asn1crypto-0.24.0-py36_0\n",
            "  conda-env-2.6.0-h36134e3_1\n",
            "\n",
            "\n",
            "Preparing transaction: ...working... done\n",
            "Verifying transaction: ...working... done\n",
            "Executing transaction: ...working... done\n"
          ],
          "name": "stdout"
        },
        {
          "output_type": "stream",
          "text": [
            "\rsqlite-3.32.3        |  2.0 MB |            |   0% \rsqlite-3.32.3        |  2.0 MB | #######9   |  79% \rsqlite-3.32.3        |  2.0 MB | ########## | 100% \n",
            "\ryaml-0.2.5           |   87 KB |            |   0% \ryaml-0.2.5           |   87 KB | ########## | 100% \n",
            "\ridna-2.10            |   56 KB |            |   0% \ridna-2.10            |   56 KB | ########## | 100% \n",
            "\rcertifi-2020.6.20    |  160 KB |            |   0% \rcertifi-2020.6.20    |  160 KB | ########## | 100% \n",
            "\rcryptography-2.9.2   |  626 KB |            |   0% \rcryptography-2.9.2   |  626 KB | ########9  |  89% \rcryptography-2.9.2   |  626 KB | ########## | 100% \n",
            "\ropenssl-1.1.1g       |  3.8 MB |            |   0% \ropenssl-1.1.1g       |  3.8 MB | #######6   |  77% \ropenssl-1.1.1g       |  3.8 MB | #########7 |  98% \ropenssl-1.1.1g       |  3.8 MB | ########## | 100% \n",
            "\rsix-1.15.0           |   13 KB |            |   0% \rsix-1.15.0           |   13 KB | ########## | 100% \n",
            "\rtk-8.6.10            |  3.2 MB |            |   0% \rtk-8.6.10            |  3.2 MB | #######7   |  78% \rtk-8.6.10            |  3.2 MB | ########## | 100% \n",
            "\rzlib-1.2.11          |  120 KB |            |   0% \rzlib-1.2.11          |  120 KB | ########## | 100% \n",
            "\rrequests-2.24.0      |   54 KB |            |   0% \rrequests-2.24.0      |   54 KB | ########## | 100% \n",
            "\rcffi-1.14.0          |  226 KB |            |   0% \rcffi-1.14.0          |  226 KB | ########## | 100% \n",
            "\rld_impl_linux-64-2.3 |  645 KB |            |   0% \rld_impl_linux-64-2.3 |  645 KB | #########1 |  92% \rld_impl_linux-64-2.3 |  645 KB | ########## | 100% \n",
            "\r_libgcc_mutex-0.1    |    3 KB |            |   0% \r_libgcc_mutex-0.1    |    3 KB | ########## | 100% \n",
            "\rca-certificates-2020 |  133 KB |            |   0% \rca-certificates-2020 |  133 KB | ########## | 100% \n",
            "\rxz-5.2.5             |  438 KB |            |   0% \rxz-5.2.5             |  438 KB | #########  |  90% \rxz-5.2.5             |  438 KB | ########## | 100% \n",
            "\rpython-3.6.10        | 33.9 MB |            |   0% \rpython-3.6.10        | 33.9 MB | ##2        |  23% \rpython-3.6.10        | 33.9 MB | #####8     |  59% \rpython-3.6.10        | 33.9 MB | #######5   |  75% \rpython-3.6.10        | 33.9 MB | #########  |  91% \rpython-3.6.10        | 33.9 MB | ########## | 100% \n",
            "\rwheel-0.34.2         |   49 KB |            |   0% \rwheel-0.34.2         |   49 KB | ########## | 100% \n",
            "\rlibffi-3.3           |   54 KB |            |   0% \rlibffi-3.3           |   54 KB | ########## | 100% \n",
            "\rtqdm-4.47.0          |   62 KB |            |   0% \rtqdm-4.47.0          |   62 KB | ########## | 100% \n",
            "\rconda-package-handli |  886 KB |            |   0% \rconda-package-handli |  886 KB | ########8  |  89% \rconda-package-handli |  886 KB | ########## | 100% \n",
            "\rchardet-3.0.4        |  197 KB |            |   0% \rchardet-3.0.4        |  197 KB | ########## | 100% \n",
            "\rlibstdcxx-ng-9.1.0   |  4.0 MB |            |   0% \rlibstdcxx-ng-9.1.0   |  4.0 MB | #######6   |  77% \rlibstdcxx-ng-9.1.0   |  4.0 MB | #########9 | 100% \rlibstdcxx-ng-9.1.0   |  4.0 MB | ########## | 100% \n",
            "\rpysocks-1.7.1        |   30 KB |            |   0% \rpysocks-1.7.1        |   30 KB | ########## | 100% \n",
            "\rbrotlipy-0.7.0       |  348 KB |            |   0% \rbrotlipy-0.7.0       |  348 KB | ########## | 100% \n",
            "\rpycparser-2.20       |   94 KB |            |   0% \rpycparser-2.20       |   94 KB | ########## | 100% \n",
            "\rpip-20.1.1           |  2.0 MB |            |   0% \rpip-20.1.1           |  2.0 MB | #######8   |  79% \rpip-20.1.1           |  2.0 MB | #########4 |  95% \rpip-20.1.1           |  2.0 MB | ########## | 100% \n",
            "\rconda-4.8.3          |  3.0 MB |            |   0% \rconda-4.8.3          |  3.0 MB | #######6   |  76% \rconda-4.8.3          |  3.0 MB | #########9 |  99% \rconda-4.8.3          |  3.0 MB | ########## | 100% \n",
            "\rpyopenssl-19.1.0     |   47 KB |            |   0% \rpyopenssl-19.1.0     |   47 KB | ########## | 100% \n",
            "\rlibedit-3.1.20191231 |  121 KB |            |   0% \rlibedit-3.1.20191231 |  121 KB | ########## | 100% \n",
            "\rsetuptools-47.3.1    |  647 KB |            |   0% \rsetuptools-47.3.1    |  647 KB | ########3  |  83% \rsetuptools-47.3.1    |  647 KB | ########## | 100% \n",
            "\rurllib3-1.25.9       |   98 KB |            |   0% \rurllib3-1.25.9       |   98 KB | ########## | 100% \n",
            "\rpycosat-0.6.3        |  107 KB |            |   0% \rpycosat-0.6.3        |  107 KB | ########## | 100% \n",
            "\rncurses-6.2          |  1.1 MB |            |   0% \rncurses-6.2          |  1.1 MB | #######8   |  78% \rncurses-6.2          |  1.1 MB | #########9 |  99% \rncurses-6.2          |  1.1 MB | ########## | 100% \n",
            "\rruamel_yaml-0.15.87  |  256 KB |            |   0% \rruamel_yaml-0.15.87  |  256 KB | ########## | 100% \n",
            "\rreadline-8.0         |  428 KB |            |   0% \rreadline-8.0         |  428 KB | #########7 |  97% \rreadline-8.0         |  428 KB | ########## | 100% \n",
            "\rlibgcc-ng-9.1.0      |  8.1 MB |            |   0% \rlibgcc-ng-9.1.0      |  8.1 MB | #######5   |  76% \rlibgcc-ng-9.1.0      |  8.1 MB | #########3 |  93% \rlibgcc-ng-9.1.0      |  8.1 MB | ########## | 100% \n"
          ],
          "name": "stderr"
        }
      ]
    },
    {
      "cell_type": "code",
      "metadata": {
        "id": "cKPIvLlk-aRT",
        "colab_type": "code",
        "colab": {
          "base_uri": "https://localhost:8080/",
          "height": 34
        },
        "outputId": "06d2b45d-bf76-48da-8b7e-7a770b284386"
      },
      "source": [
        "!conda --version # now returns 4.8.3\n"
      ],
      "execution_count": null,
      "outputs": [
        {
          "output_type": "stream",
          "text": [
            "conda 4.8.3\n"
          ],
          "name": "stdout"
        }
      ]
    },
    {
      "cell_type": "code",
      "metadata": {
        "id": "r9S8AQND-dY7",
        "colab_type": "code",
        "colab": {
          "base_uri": "https://localhost:8080/",
          "height": 34
        },
        "outputId": "99c0cd8b-bc9b-4fc7-c0bd-5962f735bf7e"
      },
      "source": [
        "!python --version # now returns Python 3.6.10 :: Anaconda, Inc.\n"
      ],
      "execution_count": null,
      "outputs": [
        {
          "output_type": "stream",
          "text": [
            "Python 3.6.10 :: Anaconda, Inc.\n"
          ],
          "name": "stdout"
        }
      ]
    },
    {
      "cell_type": "code",
      "metadata": {
        "id": "8qySAWLO-hD0",
        "colab_type": "code",
        "colab": {
          "base_uri": "https://localhost:8080/",
          "height": 1000
        },
        "outputId": "63e3dda8-afe5-4583-d619-47ba7b20cf60"
      },
      "source": [
        "!conda install -c https://conda.anaconda.org/conda-forge wordcloud\n"
      ],
      "execution_count": null,
      "outputs": [
        {
          "output_type": "stream",
          "text": [
            "Collecting package metadata (current_repodata.json): - \b\b\\ \b\b| \b\b/ \b\b- \b\b\\ \b\b| \b\b/ \b\b- \b\b\\ \b\b| \b\b/ \b\b- \b\b\\ \b\b| \b\b/ \b\b- \b\b\\ \b\b| \b\b/ \b\b- \b\b\\ \b\b| \b\b/ \b\b- \b\b\\ \b\b| \b\b/ \b\b- \b\b\\ \b\b| \b\b/ \b\b- \b\b\\ \b\b| \b\b/ \b\b- \b\b\\ \b\b| \b\b/ \b\b- \b\b\\ \b\b| \b\b/ \b\b- \b\b\\ \b\b| \b\b/ \b\b- \b\b\\ \b\b| \b\b/ \b\bdone\n",
            "Solving environment: \\ \b\b| \b\b/ \b\b- \b\b\\ \b\b| \b\b/ \b\b- \b\b\\ \b\b| \b\b/ \b\b- \b\b\\ \b\b| \b\b/ \b\b- \b\b\\ \b\b| \b\b/ \b\b- \b\b\\ \b\b| \b\b/ \b\b- \b\b\\ \b\bdone\n",
            "\n",
            "## Package Plan ##\n",
            "\n",
            "  environment location: /usr/local\n",
            "\n",
            "  added / updated specs:\n",
            "    - wordcloud\n",
            "\n",
            "\n",
            "The following packages will be downloaded:\n",
            "\n",
            "    package                    |            build\n",
            "    ---------------------------|-----------------\n",
            "    ca-certificates-2020.6.20  |       hecda079_0         145 KB  conda-forge\n",
            "    certifi-2020.6.20          |   py36h9f0ad1d_0         151 KB  conda-forge\n",
            "    conda-4.8.3                |   py36h9f0ad1d_1         3.0 MB  conda-forge\n",
            "    cycler-0.10.0              |             py_2           9 KB  conda-forge\n",
            "    freetype-2.10.2            |       he06d7ca_0         905 KB  conda-forge\n",
            "    icu-67.1                   |       he1b5a44_0        12.9 MB  conda-forge\n",
            "    jpeg-9d                    |       h516909a_0         266 KB  conda-forge\n",
            "    kiwisolver-1.2.0           |   py36hdb11119_0          87 KB  conda-forge\n",
            "    lcms2-2.11                 |       hbd6801e_0         431 KB  conda-forge\n",
            "    libblas-3.8.0              |      14_openblas          10 KB  conda-forge\n",
            "    libcblas-3.8.0             |      14_openblas          10 KB  conda-forge\n",
            "    libgfortran-ng-7.5.0       |       hdf63c60_6         1.7 MB  conda-forge\n",
            "    liblapack-3.8.0            |      14_openblas          10 KB  conda-forge\n",
            "    libopenblas-0.3.7          |       h5ec1e0e_6         7.6 MB  conda-forge\n",
            "    libpng-1.6.37              |       hed695b0_1         308 KB  conda-forge\n",
            "    libtiff-4.1.0              |       hc7e4089_6         668 KB  conda-forge\n",
            "    libwebp-base-1.1.0         |       h516909a_3         845 KB  conda-forge\n",
            "    lz4-c-1.9.2                |       he1b5a44_1         226 KB  conda-forge\n",
            "    matplotlib-base-3.2.2      |   py36h5fdd944_1         7.2 MB  conda-forge\n",
            "    numpy-1.18.5               |   py36h7314795_0         5.1 MB  conda-forge\n",
            "    olefile-0.46               |             py_0          31 KB  conda-forge\n",
            "    openssl-1.1.1g             |       h516909a_0         2.1 MB  conda-forge\n",
            "    pillow-7.2.0               |   py36h8328e55_1         670 KB  conda-forge\n",
            "    pyparsing-2.4.7            |     pyh9f0ad1d_0          60 KB  conda-forge\n",
            "    python-dateutil-2.8.1      |             py_0         220 KB  conda-forge\n",
            "    python_abi-3.6             |          1_cp36m           4 KB  conda-forge\n",
            "    tornado-6.0.4              |   py36h8c4c3a4_1         639 KB  conda-forge\n",
            "    wordcloud-1.7.0            |   py36h8c4c3a4_1         189 KB  conda-forge\n",
            "    zstd-1.4.4                 |       h6597ccf_3         991 KB  conda-forge\n",
            "    ------------------------------------------------------------\n",
            "                                           Total:        46.3 MB\n",
            "\n",
            "The following NEW packages will be INSTALLED:\n",
            "\n",
            "  cycler             conda-forge/noarch::cycler-0.10.0-py_2\n",
            "  freetype           conda-forge/linux-64::freetype-2.10.2-he06d7ca_0\n",
            "  icu                conda-forge/linux-64::icu-67.1-he1b5a44_0\n",
            "  jpeg               conda-forge/linux-64::jpeg-9d-h516909a_0\n",
            "  kiwisolver         conda-forge/linux-64::kiwisolver-1.2.0-py36hdb11119_0\n",
            "  lcms2              conda-forge/linux-64::lcms2-2.11-hbd6801e_0\n",
            "  libblas            conda-forge/linux-64::libblas-3.8.0-14_openblas\n",
            "  libcblas           conda-forge/linux-64::libcblas-3.8.0-14_openblas\n",
            "  libgfortran-ng     conda-forge/linux-64::libgfortran-ng-7.5.0-hdf63c60_6\n",
            "  liblapack          conda-forge/linux-64::liblapack-3.8.0-14_openblas\n",
            "  libopenblas        conda-forge/linux-64::libopenblas-0.3.7-h5ec1e0e_6\n",
            "  libpng             conda-forge/linux-64::libpng-1.6.37-hed695b0_1\n",
            "  libtiff            conda-forge/linux-64::libtiff-4.1.0-hc7e4089_6\n",
            "  libwebp-base       conda-forge/linux-64::libwebp-base-1.1.0-h516909a_3\n",
            "  lz4-c              conda-forge/linux-64::lz4-c-1.9.2-he1b5a44_1\n",
            "  matplotlib-base    conda-forge/linux-64::matplotlib-base-3.2.2-py36h5fdd944_1\n",
            "  numpy              conda-forge/linux-64::numpy-1.18.5-py36h7314795_0\n",
            "  olefile            conda-forge/noarch::olefile-0.46-py_0\n",
            "  pillow             conda-forge/linux-64::pillow-7.2.0-py36h8328e55_1\n",
            "  pyparsing          conda-forge/noarch::pyparsing-2.4.7-pyh9f0ad1d_0\n",
            "  python-dateutil    conda-forge/noarch::python-dateutil-2.8.1-py_0\n",
            "  python_abi         conda-forge/linux-64::python_abi-3.6-1_cp36m\n",
            "  tornado            conda-forge/linux-64::tornado-6.0.4-py36h8c4c3a4_1\n",
            "  wordcloud          conda-forge/linux-64::wordcloud-1.7.0-py36h8c4c3a4_1\n",
            "  zstd               conda-forge/linux-64::zstd-1.4.4-h6597ccf_3\n",
            "\n",
            "The following packages will be UPDATED:\n",
            "\n",
            "  conda                       pkgs/main::conda-4.8.3-py36_0 --> conda-forge::conda-4.8.3-py36h9f0ad1d_1\n",
            "\n",
            "The following packages will be SUPERSEDED by a higher-priority channel:\n",
            "\n",
            "  ca-certificates    pkgs/main::ca-certificates-2020.6.24-0 --> conda-forge::ca-certificates-2020.6.20-hecda079_0\n",
            "  certifi               pkgs/main::certifi-2020.6.20-py36_0 --> conda-forge::certifi-2020.6.20-py36h9f0ad1d_0\n",
            "  openssl              pkgs/main::openssl-1.1.1g-h7b6447c_0 --> conda-forge::openssl-1.1.1g-h516909a_0\n",
            "\n",
            "\n",
            "Proceed ([y]/n)? y\n",
            "\n",
            "\n",
            "Downloading and Extracting Packages\n",
            "jpeg-9d              | 266 KB    | : 100% 1.0/1 [00:00<00:00,  1.26s/it]                \n",
            "python_abi-3.6       | 4 KB      | : 100% 1.0/1 [00:00<00:00, 21.42it/s]\n",
            "matplotlib-base-3.2. | 7.2 MB    | : 100% 1.0/1 [00:01<00:00,  1.29it/s]                \n",
            "pillow-7.2.0         | 670 KB    | : 100% 1.0/1 [00:00<00:00,  5.89it/s]\n",
            "libwebp-base-1.1.0   | 845 KB    | : 100% 1.0/1 [00:00<00:00,  5.33it/s]\n",
            "openssl-1.1.1g       | 2.1 MB    | : 100% 1.0/1 [00:00<00:00,  2.71it/s]\n",
            "kiwisolver-1.2.0     | 87 KB     | : 100% 1.0/1 [00:00<00:00, 17.74it/s]\n",
            "libpng-1.6.37        | 308 KB    | : 100% 1.0/1 [00:00<00:00, 10.52it/s]\n",
            "icu-67.1             | 12.9 MB   | : 100% 1.0/1 [00:02<00:00,  1.38s/it]               \n",
            "olefile-0.46         | 31 KB     | : 100% 1.0/1 [00:00<00:00, 20.96it/s]\n",
            "lcms2-2.11           | 431 KB    | : 100% 1.0/1 [00:00<00:00,  7.68it/s]\n",
            "numpy-1.18.5         | 5.1 MB    | : 100% 1.0/1 [00:01<00:00,  1.13s/it]\n",
            "conda-4.8.3          | 3.0 MB    | : 100% 1.0/1 [00:00<00:00,  1.61it/s]\n",
            "tornado-6.0.4        | 639 KB    | : 100% 1.0/1 [00:00<00:00,  5.33it/s]\n",
            "libblas-3.8.0        | 10 KB     | : 100% 1.0/1 [00:00<00:00, 22.14it/s]\n",
            "python-dateutil-2.8. | 220 KB    | : 100% 1.0/1 [00:00<00:00, 13.25it/s]\n",
            "libopenblas-0.3.7    | 7.6 MB    | : 100% 1.0/1 [00:01<00:00,  1.21s/it]               \n",
            "libtiff-4.1.0        | 668 KB    | : 100% 1.0/1 [00:00<00:00,  6.08it/s]\n",
            "pyparsing-2.4.7      | 60 KB     | : 100% 1.0/1 [00:00<00:00, 19.88it/s]\n",
            "liblapack-3.8.0      | 10 KB     | : 100% 1.0/1 [00:00<00:00, 18.94it/s]\n",
            "zstd-1.4.4           | 991 KB    | : 100% 1.0/1 [00:00<00:00,  4.82it/s]\n",
            "cycler-0.10.0        | 9 KB      | : 100% 1.0/1 [00:00<00:00, 15.75it/s]\n",
            "freetype-2.10.2      | 905 KB    | : 100% 1.0/1 [00:00<00:00,  5.32it/s]\n",
            "libcblas-3.8.0       | 10 KB     | : 100% 1.0/1 [00:00<00:00, 22.10it/s]\n",
            "libgfortran-ng-7.5.0 | 1.7 MB    | : 100% 1.0/1 [00:00<00:00,  3.02it/s]\n",
            "wordcloud-1.7.0      | 189 KB    | : 100% 1.0/1 [00:00<00:00, 15.08it/s]\n",
            "lz4-c-1.9.2          | 226 KB    | : 100% 1.0/1 [00:00<00:00,  8.73it/s]\n",
            "certifi-2020.6.20    | 151 KB    | : 100% 1.0/1 [00:00<00:00, 10.43it/s]\n",
            "ca-certificates-2020 | 145 KB    | : 100% 1.0/1 [00:00<00:00, 17.41it/s]\n",
            "Preparing transaction: / \b\b- \b\bdone\n",
            "Verifying transaction: | \b\b/ \b\b- \b\b\\ \b\b| \b\bdone\n",
            "Executing transaction: - \b\b\\ \b\b| \b\b/ \b\b- \b\b\\ \b\b| \b\b/ \b\b- \b\bdone\n"
          ],
          "name": "stdout"
        }
      ]
    },
    {
      "cell_type": "code",
      "metadata": {
        "id": "wjx9E_Yx_sfF",
        "colab_type": "code",
        "colab": {}
      },
      "source": [
        ""
      ],
      "execution_count": null,
      "outputs": []
    },
    {
      "cell_type": "markdown",
      "metadata": {
        "id": "bCp3u1Nd_-aq",
        "colab_type": "text"
      },
      "source": [
        "# Text"
      ]
    },
    {
      "cell_type": "code",
      "metadata": {
        "id": "JWwqvlwLADZG",
        "colab_type": "code",
        "colab": {
          "base_uri": "https://localhost:8080/",
          "height": 310
        },
        "outputId": "f17420ac-9ceb-410d-ed47-f8f0f1c731a7"
      },
      "source": [
        "from wordcloud import WordCloud, STOPWORDS \n",
        "\n",
        "\n",
        "# In[525]:\n",
        "\n",
        "\n",
        "len(dataset.car_name)\n",
        "\n",
        "\n",
        "# In[526]:\n",
        "\n",
        "\n",
        "dataset.car_name[1]\n",
        "\n",
        "\n",
        "# In[527]:\n",
        "\n",
        "dataset['car_name'] = dataset['car_name'].astype(str)\n",
        "text_list = list(dataset.car_name)\n",
        "\n",
        "\n",
        "# In[528]:\n",
        "\n",
        "\n",
        "text = '-'.join(text_list)\n",
        "\n",
        "\n",
        "# In[531]:\n",
        "\n",
        "\n",
        "wordcloud = WordCloud(background_color='white').generate(text)\n",
        "\n",
        "\n",
        "# In[532]:\n",
        "\n",
        "\n",
        "plt.figure(figsize=(10,6))\n",
        "plt.imshow(wordcloud, interpolation='bilinear')\n",
        "plt.axis(\"off\")\n",
        "plt.show()\n"
      ],
      "execution_count": null,
      "outputs": [
        {
          "output_type": "display_data",
          "data": {
            "image/png": "[encoded data removed]",
            "text/plain": [
              "<Figure size 720x432 with 1 Axes>"
            ]
          },
          "metadata": {
            "tags": []
          }
        }
      ]
    },
    {
      "cell_type": "code",
      "metadata": {
        "id": "YnOFwpk1D51V",
        "colab_type": "code",
        "colab": {
          "base_uri": "https://localhost:8080/",
          "height": 524
        },
        "outputId": "68bed17f-1e9b-445d-b9a4-141645a763de"
      },
      "source": [
        "dataset['car_name'].unique()"
      ],
      "execution_count": null,
      "outputs": [
        {
          "output_type": "execute_result",
          "data": {
            "text/plain": [
              "array(['ritz', 'sx4', 'ciaz', 'wagon r', 'swift', 'vitara brezza',\n",
              "       's cross', 'alto 800', 'ertiga', 'dzire', 'alto k10', 'ignis',\n",
              "       '800', 'baleno', 'omni', 'fortuner', 'innova', 'corolla altis',\n",
              "       'etios cross', 'etios g', 'etios liva', 'corolla', 'etios gd',\n",
              "       'camry', 'land cruiser', 'Royal Enfield Thunder 500',\n",
              "       'UM Renegade Mojave', 'KTM RC200', 'Bajaj Dominar 400',\n",
              "       'Royal Enfield Classic 350', 'KTM RC390', 'Hyosung GT250R',\n",
              "       'Royal Enfield Thunder 350', 'KTM 390 Duke ',\n",
              "       'Mahindra Mojo XT300', 'Bajaj Pulsar RS200',\n",
              "       'Royal Enfield Bullet 350', 'Royal Enfield Classic 500',\n",
              "       'Bajaj Avenger 220', 'Bajaj Avenger 150', 'Honda CB Hornet 160R',\n",
              "       'Yamaha FZ S V 2.0', 'Yamaha FZ 16', 'TVS Apache RTR 160',\n",
              "       'Bajaj Pulsar 150', 'Honda CBR 150', 'Hero Extreme',\n",
              "       'Bajaj Avenger 220 dtsi', 'Bajaj Avenger 150 street',\n",
              "       'Yamaha FZ  v 2.0', 'Bajaj Pulsar  NS 200', 'Bajaj Pulsar 220 F',\n",
              "       'TVS Apache RTR 180', 'Hero Passion X pro', 'Bajaj Pulsar NS 200',\n",
              "       'Yamaha Fazer ', 'Honda Activa 4G', 'TVS Sport ',\n",
              "       'Honda Dream Yuga ', 'Bajaj Avenger Street 220',\n",
              "       'Hero Splender iSmart', 'Activa 3g', 'Hero Passion Pro',\n",
              "       'Honda CB Trigger', 'Yamaha FZ S ', 'Bajaj Pulsar 135 LS',\n",
              "       'Activa 4g', 'Honda CB Unicorn', 'Hero Honda CBZ extreme',\n",
              "       'Honda Karizma', 'Honda Activa 125', 'TVS Jupyter',\n",
              "       'Hero Honda Passion Pro', 'Hero Splender Plus', 'Honda CB Shine',\n",
              "       'Bajaj Discover 100', 'Suzuki Access 125', 'TVS Wego',\n",
              "       'Honda CB twister', 'Hero Glamour', 'Hero Super Splendor',\n",
              "       'Bajaj Discover 125', 'Hero Hunk', 'Hero  Ignitor Disc',\n",
              "       'Hero  CBZ Xtreme', 'Bajaj  ct 100', 'nan', 'grand i10', 'i10',\n",
              "       'eon', 'xcent', 'i20', 'elantra', 'creta', 'verna', 'city', 'brio',\n",
              "       'amaze', 'jazz'], dtype=object)"
            ]
          },
          "metadata": {
            "tags": []
          },
          "execution_count": 31
        }
      ]
    },
    {
      "cell_type": "code",
      "metadata": {
        "id": "yOtA9OGJCfjv",
        "colab_type": "code",
        "colab": {}
      },
      "source": [
        "stopwords = ['corolla altis', 'royal', 'Enfield', 'Hero', 'city','Bajaj','verba','i20','fortuner']\n"
      ],
      "execution_count": null,
      "outputs": []
    },
    {
      "cell_type": "code",
      "metadata": {
        "id": "WcQu1mojFU9P",
        "colab_type": "code",
        "colab": {
          "base_uri": "https://localhost:8080/",
          "height": 310
        },
        "outputId": "783df906-608e-4994-e0dd-5a85c8a141d1"
      },
      "source": [
        "\n",
        "wordcloud = WordCloud(stopwords=stopwords).generate(text)\n",
        "\n",
        "\n",
        "plt.figure(figsize=(10,6))\n",
        "plt.imshow(wordcloud, interpolation='bilinear')\n",
        "plt.axis(\"off\")\n",
        "plt.show()\n"
      ],
      "execution_count": null,
      "outputs": [
        {
          "output_type": "display_data",
          "data": {
            "image/png": "[encoded data removed]",
            "text/plain": [
              "<Figure size 720x432 with 1 Axes>"
            ]
          },
          "metadata": {
            "tags": []
          }
        }
      ]
    },
    {
      "cell_type": "code",
      "metadata": {
        "id": "YkwfRicTItys",
        "colab_type": "code",
        "colab": {}
      },
      "source": [
        ""
      ],
      "execution_count": null,
      "outputs": []
    }
  ]
}